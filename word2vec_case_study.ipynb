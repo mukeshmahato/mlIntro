{
 "cells": [
  {
   "cell_type": "code",
   "execution_count": 1,
   "metadata": {
    "colab": {},
    "colab_type": "code",
    "id": "Is1yLy_oj4Gu"
   },
   "outputs": [],
   "source": [
    "import pandas as pd\n",
    "pd.set_option('display.max_colwidth', -1)"
   ]
  },
  {
   "cell_type": "code",
   "execution_count": 2,
   "metadata": {
    "colab": {},
    "colab_type": "code",
    "id": "dev1T5xGj4G0"
   },
   "outputs": [],
   "source": [
    "import numpy as np\n",
    "import pandas as pd\n",
    "from scipy.stats import itemfreq\n",
    "from sklearn.feature_extraction.text import CountVectorizer, TfidfVectorizer\n"
   ]
  },
  {
   "cell_type": "markdown",
   "metadata": {},
   "source": [
    "### Understanding word2vec"
   ]
  },
  {
   "cell_type": "code",
   "execution_count": 3,
   "metadata": {},
   "outputs": [
    {
     "name": "stderr",
     "output_type": "stream",
     "text": [
      "F:\\Softwares\\Installed\\Anaconda3\\lib\\site-packages\\gensim\\utils.py:1197: UserWarning: detected Windows; aliasing chunkize to chunkize_serial\n",
      "  warnings.warn(\"detected Windows; aliasing chunkize to chunkize_serial\")\n"
     ]
    }
   ],
   "source": [
    "from gensim.models.keyedvectors import KeyedVectors\n",
    "w2vec = KeyedVectors.load_word2vec_format(\"E:\\AIML\\GLAIML\\Resource Materials\\Statistical NLP\\gensim_glove.6B.50d\\gensim_glove.6B.50d.txt\", binary=False)"
   ]
  },
  {
   "cell_type": "code",
   "execution_count": 46,
   "metadata": {},
   "outputs": [],
   "source": [
    "a = w2vec.word_vec(\"physics\")\n",
    "b = w2vec.word_vec(\"relativity\")"
   ]
  },
  {
   "cell_type": "code",
   "execution_count": 47,
   "metadata": {},
   "outputs": [
    {
     "data": {
      "text/plain": [
       "(0.607742, 2.860726734483569e-06)"
      ]
     },
     "execution_count": 47,
     "metadata": {},
     "output_type": "execute_result"
    }
   ],
   "source": [
    "from scipy.stats.stats import pearsonr\n",
    "pearsonr(a,b)"
   ]
  },
  {
   "cell_type": "markdown",
   "metadata": {},
   "source": [
    "### Finding sentence vectors from word vectors"
   ]
  },
  {
   "cell_type": "code",
   "execution_count": 48,
   "metadata": {},
   "outputs": [],
   "source": [
    "title1 = \"laws of physics\"\n",
    "title2 = \"theory of relativity\"\n",
    "title3 = \"battle of panipat\""
   ]
  },
  {
   "cell_type": "markdown",
   "metadata": {},
   "source": [
    "#### Assignment: Find vector representation for each title by splitting the title into indivdiual words. Find vector for each word and average them. What's the pearson correlation between different titles?"
   ]
  },
  {
   "cell_type": "code",
   "execution_count": 84,
   "metadata": {},
   "outputs": [],
   "source": [
    "from nltk import word_tokenize"
   ]
  },
  {
   "cell_type": "code",
   "execution_count": 87,
   "metadata": {},
   "outputs": [
    {
     "name": "stdout",
     "output_type": "stream",
     "text": [
      "(0.8310373, 8.078668933786241e-14)\n",
      "(0.48349163, 0.0003753143672253442)\n",
      "(0.49981984, 0.00021934156127459731)\n"
     ]
    }
   ],
   "source": [
    "t1 = np.array([w2vec.word_vec(x) for x in word_tokenize(title1)])\n",
    "t2 = np.array([w2vec.word_vec(x) for x in word_tokenize(title2)])\n",
    "t3 = np.array([w2vec.word_vec(x) for x in word_tokenize(title3)])\n",
    "\n",
    "t1 =t1.mean(axis=0)\n",
    "t2 =t2.mean(axis=0)\n",
    "t3 =t3.mean(axis=0)\n",
    "\n",
    "print(pearsonr(t1,t2))\n",
    "print(pearsonr(t2,t3))\n",
    "print(pearsonr(t1,t3))\n"
   ]
  },
  {
   "cell_type": "markdown",
   "metadata": {
    "colab_type": "text",
    "id": "tWaFfCoNj4Hz"
   },
   "source": [
    "### Finding similiar books"
   ]
  },
  {
   "cell_type": "code",
   "execution_count": 93,
   "metadata": {
    "colab": {},
    "colab_type": "code",
    "id": "oFFg6e05j4Hz"
   },
   "outputs": [],
   "source": [
    "books_data = pd.read_csv('books.csv',encoding=\"latin\")"
   ]
  },
  {
   "cell_type": "code",
   "execution_count": 94,
   "metadata": {},
   "outputs": [
    {
     "data": {
      "text/plain": [
       "(5700, 2)"
      ]
     },
     "execution_count": 94,
     "metadata": {},
     "output_type": "execute_result"
    }
   ],
   "source": [
    "books_data.shape"
   ]
  },
  {
   "cell_type": "code",
   "execution_count": 95,
   "metadata": {},
   "outputs": [
    {
     "data": {
      "text/html": [
       "<div>\n",
       "<style scoped>\n",
       "    .dataframe tbody tr th:only-of-type {\n",
       "        vertical-align: middle;\n",
       "    }\n",
       "\n",
       "    .dataframe tbody tr th {\n",
       "        vertical-align: top;\n",
       "    }\n",
       "\n",
       "    .dataframe thead th {\n",
       "        text-align: right;\n",
       "    }\n",
       "</style>\n",
       "<table border=\"1\" class=\"dataframe\">\n",
       "  <thead>\n",
       "    <tr style=\"text-align: right;\">\n",
       "      <th></th>\n",
       "      <th>title</th>\n",
       "      <th>category</th>\n",
       "    </tr>\n",
       "  </thead>\n",
       "  <tbody>\n",
       "    <tr>\n",
       "      <th>0</th>\n",
       "      <td>Oral and Maxillofacial Surgery: An Objective-Based Textbook, 2e</td>\n",
       "      <td>Medical Books</td>\n",
       "    </tr>\n",
       "    <tr>\n",
       "      <th>1</th>\n",
       "      <td>Barron's GRE, 21st Edition</td>\n",
       "      <td>Test Preparation</td>\n",
       "    </tr>\n",
       "    <tr>\n",
       "      <th>2</th>\n",
       "      <td>George Balanchine: The Ballet Maker (Eminent Lives)</td>\n",
       "      <td>Biographies &amp; Memoirs</td>\n",
       "    </tr>\n",
       "    <tr>\n",
       "      <th>3</th>\n",
       "      <td>A Partner in Holiness: Deepening Mindfulness, Practicing Compassion and Enriching Our Lives Through the Wisdom of R. Levi Yitzhak of Berdichev's, Vol. 2  (Institute for Jewish Spirituality)</td>\n",
       "      <td>Religion &amp; Spirituality</td>\n",
       "    </tr>\n",
       "    <tr>\n",
       "      <th>4</th>\n",
       "      <td>Construction Scheduling: Principles and Practices (2nd Edition)</td>\n",
       "      <td>Arts &amp; Photography</td>\n",
       "    </tr>\n",
       "  </tbody>\n",
       "</table>\n",
       "</div>"
      ],
      "text/plain": [
       "                                                                                                                                                                                           title  \\\n",
       "0  Oral and Maxillofacial Surgery: An Objective-Based Textbook, 2e                                                                                                                                 \n",
       "1  Barron's GRE, 21st Edition                                                                                                                                                                      \n",
       "2  George Balanchine: The Ballet Maker (Eminent Lives)                                                                                                                                             \n",
       "3  A Partner in Holiness: Deepening Mindfulness, Practicing Compassion and Enriching Our Lives Through the Wisdom of R. Levi Yitzhak of Berdichev's, Vol. 2  (Institute for Jewish Spirituality)   \n",
       "4  Construction Scheduling: Principles and Practices (2nd Edition)                                                                                                                                 \n",
       "\n",
       "                  category  \n",
       "0  Medical Books            \n",
       "1  Test Preparation         \n",
       "2  Biographies & Memoirs    \n",
       "3  Religion & Spirituality  \n",
       "4  Arts & Photography       "
      ]
     },
     "execution_count": 95,
     "metadata": {},
     "output_type": "execute_result"
    }
   ],
   "source": [
    "books_data.head()"
   ]
  },
  {
   "cell_type": "code",
   "execution_count": 96,
   "metadata": {},
   "outputs": [
    {
     "data": {
      "text/plain": [
       "Index(['title', 'category'], dtype='object')"
      ]
     },
     "execution_count": 96,
     "metadata": {},
     "output_type": "execute_result"
    }
   ],
   "source": [
    "books_data.columns"
   ]
  },
  {
   "cell_type": "code",
   "execution_count": 97,
   "metadata": {
    "colab": {},
    "colab_type": "code",
    "id": "GkHdex0fj4H9"
   },
   "outputs": [],
   "source": [
    "import re\n",
    "books_data[\"title_clean\"] = [re.sub(\"[^a-zA-Z ]\",\"\",x).lower() for x in books_data[\"title\"]]"
   ]
  },
  {
   "cell_type": "code",
   "execution_count": 98,
   "metadata": {},
   "outputs": [
    {
     "data": {
      "text/html": [
       "<div>\n",
       "<style scoped>\n",
       "    .dataframe tbody tr th:only-of-type {\n",
       "        vertical-align: middle;\n",
       "    }\n",
       "\n",
       "    .dataframe tbody tr th {\n",
       "        vertical-align: top;\n",
       "    }\n",
       "\n",
       "    .dataframe thead th {\n",
       "        text-align: right;\n",
       "    }\n",
       "</style>\n",
       "<table border=\"1\" class=\"dataframe\">\n",
       "  <thead>\n",
       "    <tr style=\"text-align: right;\">\n",
       "      <th></th>\n",
       "      <th>title</th>\n",
       "      <th>category</th>\n",
       "      <th>title_clean</th>\n",
       "    </tr>\n",
       "  </thead>\n",
       "  <tbody>\n",
       "    <tr>\n",
       "      <th>0</th>\n",
       "      <td>Oral and Maxillofacial Surgery: An Objective-Based Textbook, 2e</td>\n",
       "      <td>Medical Books</td>\n",
       "      <td>oral and maxillofacial surgery an objectivebased textbook e</td>\n",
       "    </tr>\n",
       "    <tr>\n",
       "      <th>1</th>\n",
       "      <td>Barron's GRE, 21st Edition</td>\n",
       "      <td>Test Preparation</td>\n",
       "      <td>barrons gre st edition</td>\n",
       "    </tr>\n",
       "    <tr>\n",
       "      <th>2</th>\n",
       "      <td>George Balanchine: The Ballet Maker (Eminent Lives)</td>\n",
       "      <td>Biographies &amp; Memoirs</td>\n",
       "      <td>george balanchine the ballet maker eminent lives</td>\n",
       "    </tr>\n",
       "    <tr>\n",
       "      <th>3</th>\n",
       "      <td>A Partner in Holiness: Deepening Mindfulness, Practicing Compassion and Enriching Our Lives Through the Wisdom of R. Levi Yitzhak of Berdichev's, Vol. 2  (Institute for Jewish Spirituality)</td>\n",
       "      <td>Religion &amp; Spirituality</td>\n",
       "      <td>a partner in holiness deepening mindfulness practicing compassion and enriching our lives through the wisdom of r levi yitzhak of berdichevs vol   institute for jewish spirituality</td>\n",
       "    </tr>\n",
       "    <tr>\n",
       "      <th>4</th>\n",
       "      <td>Construction Scheduling: Principles and Practices (2nd Edition)</td>\n",
       "      <td>Arts &amp; Photography</td>\n",
       "      <td>construction scheduling principles and practices nd edition</td>\n",
       "    </tr>\n",
       "  </tbody>\n",
       "</table>\n",
       "</div>"
      ],
      "text/plain": [
       "                                                                                                                                                                                           title  \\\n",
       "0  Oral and Maxillofacial Surgery: An Objective-Based Textbook, 2e                                                                                                                                 \n",
       "1  Barron's GRE, 21st Edition                                                                                                                                                                      \n",
       "2  George Balanchine: The Ballet Maker (Eminent Lives)                                                                                                                                             \n",
       "3  A Partner in Holiness: Deepening Mindfulness, Practicing Compassion and Enriching Our Lives Through the Wisdom of R. Levi Yitzhak of Berdichev's, Vol. 2  (Institute for Jewish Spirituality)   \n",
       "4  Construction Scheduling: Principles and Practices (2nd Edition)                                                                                                                                 \n",
       "\n",
       "                  category  \\\n",
       "0  Medical Books             \n",
       "1  Test Preparation          \n",
       "2  Biographies & Memoirs     \n",
       "3  Religion & Spirituality   \n",
       "4  Arts & Photography        \n",
       "\n",
       "                                                                                                                                                                            title_clean  \n",
       "0  oral and maxillofacial surgery an objectivebased textbook e                                                                                                                           \n",
       "1  barrons gre st edition                                                                                                                                                                \n",
       "2  george balanchine the ballet maker eminent lives                                                                                                                                      \n",
       "3  a partner in holiness deepening mindfulness practicing compassion and enriching our lives through the wisdom of r levi yitzhak of berdichevs vol   institute for jewish spirituality  \n",
       "4  construction scheduling principles and practices nd edition                                                                                                                           "
      ]
     },
     "execution_count": 98,
     "metadata": {},
     "output_type": "execute_result"
    }
   ],
   "source": [
    "books_data.head()"
   ]
  },
  {
   "cell_type": "code",
   "execution_count": 99,
   "metadata": {
    "colab": {},
    "colab_type": "code",
    "id": "Bl_EUgIFj4H_",
    "outputId": "71831e49-41eb-436d-878c-46b814bbc4c1"
   },
   "outputs": [
    {
     "name": "stderr",
     "output_type": "stream",
     "text": [
      "  0%|                                                                                         | 0/5700 [00:00<?, ?it/s]F:\\Softwares\\Installed\\Anaconda3\\lib\\site-packages\\ipykernel_launcher.py:7: RuntimeWarning: Mean of empty slice.\n",
      "  import sys\n",
      "F:\\Softwares\\Installed\\Anaconda3\\lib\\site-packages\\numpy\\core\\_methods.py:85: RuntimeWarning: invalid value encountered in double_scalars\n",
      "  ret = ret.dtype.type(ret / rcount)\n",
      "100%|███████████████████████████████████████████████████████████████████████████| 5700/5700 [00:00<00:00, 21010.35it/s]\n"
     ]
    }
   ],
   "source": [
    "from tqdm import tqdm\n",
    "title_vec = np.zeros((books_data.shape[0],50))\n",
    "for i in tqdm(range(0,books_data.shape[0])):\n",
    "    words = books_data[\"title_clean\"].iloc[i].split(\" \")\n",
    "    words = [x.strip() for x in words]\n",
    "    ind_word_vecs = [w2vec.word_vec(x) for x in words if x in w2vec.vocab]\n",
    "    title_vec[i] = np.array(ind_word_vecs).mean(axis=0)"
   ]
  },
  {
   "cell_type": "code",
   "execution_count": 100,
   "metadata": {
    "colab": {},
    "colab_type": "code",
    "id": "-4WnrsDtj4IC"
   },
   "outputs": [],
   "source": [
    "title_vec = np.nan_to_num(title_vec)"
   ]
  },
  {
   "cell_type": "code",
   "execution_count": 101,
   "metadata": {},
   "outputs": [],
   "source": [
    "from sklearn.metrics.pairwise import cosine_similarity"
   ]
  },
  {
   "cell_type": "code",
   "execution_count": 102,
   "metadata": {},
   "outputs": [],
   "source": [
    "cosine_sim_titles = cosine_similarity(title_vec)"
   ]
  },
  {
   "cell_type": "code",
   "execution_count": 103,
   "metadata": {},
   "outputs": [
    {
     "data": {
      "text/plain": [
       "(5700, 5700)"
      ]
     },
     "execution_count": 103,
     "metadata": {},
     "output_type": "execute_result"
    }
   ],
   "source": [
    "cosine_sim_titles.shape"
   ]
  },
  {
   "cell_type": "code",
   "execution_count": 104,
   "metadata": {},
   "outputs": [
    {
     "data": {
      "text/plain": [
       "'Organ Transplantation (Health and Medical Issues Today)'"
      ]
     },
     "execution_count": 104,
     "metadata": {},
     "output_type": "execute_result"
    }
   ],
   "source": [
    "# get books similiar to a given title..\n",
    "\n",
    "title_id = 13\n",
    "books_data['title'].iloc[title_id]"
   ]
  },
  {
   "cell_type": "code",
   "execution_count": 113,
   "metadata": {},
   "outputs": [
    {
     "data": {
      "text/plain": [
       "array([1.        , 0.92993812, 0.92339052, 0.92211345, 0.91843464,\n",
       "       0.91842045, 0.91840914, 0.91698754, 0.91646997, 0.9157601 ])"
      ]
     },
     "execution_count": 113,
     "metadata": {},
     "output_type": "execute_result"
    }
   ],
   "source": [
    "### Q: Find the titles with the highest degree of similarity (top 10)\n",
    "top_n_idx = np.flip(np.argsort(cosine_sim_titles[title_id,:]))[0:10]\n",
    "#np.flip will flip the order. i.e ascending items go down the array end.\n",
    "top_n_sim_values = cosine_sim_titles[title_id, top_n_idx]\n",
    "top_n_sim_values"
   ]
  },
  {
   "cell_type": "code",
   "execution_count": 114,
   "metadata": {},
   "outputs": [],
   "source": [
    "# find top n with values > 0\n",
    "top_n_idx = top_n_idx[top_n_sim_values > 0]"
   ]
  },
  {
   "cell_type": "code",
   "execution_count": 115,
   "metadata": {},
   "outputs": [
    {
     "data": {
      "text/plain": [
       "13      Organ Transplantation (Health and Medical Issues Today)                                                \n",
       "616     Medicine and Social Justice: Essays on the Distribution of Health Care                                 \n",
       "2354    Health Care Emergency Management: Principles and Practice                                              \n",
       "3125    IBS: A Doctor's Plan for Chronic Digestive Troubles 3 Ed: The Definitive Guide to Prevention and Relief\n",
       "932     A Core Curriculum for Diabetes Education: Diabetes Education And Program Management                    \n",
       "3840    The Anticipatory Corpse: Medicine, Power, and the Care of the Dying (ND Studies in Medical Ethics)     \n",
       "2014    Medicine and Charity Before the Welfare State (Studies in the Social History of Medicine)              \n",
       "1925    Small Animal Emergency and Critical Care for Veterinary Technicians, 3e                                \n",
       "1265    Occupational Therapy in Home Health Care                                                               \n",
       "3079    Interpretation of the Electrocardiograms: A Review for Health Professionals                            \n",
       "Name: title, dtype: object"
      ]
     },
     "execution_count": 115,
     "metadata": {},
     "output_type": "execute_result"
    }
   ],
   "source": [
    "# Matching books\n",
    "books_data['title'].iloc[top_n_idx]"
   ]
  },
  {
   "cell_type": "markdown",
   "metadata": {},
   "source": [
    "<b> Q: find the most similiar books corresponding to title id 34 - \"Shadowrun: Third Edition (FPR25000)\". \n",
    "What issues do you see with the results </b>"
   ]
  },
  {
   "cell_type": "code",
   "execution_count": 116,
   "metadata": {},
   "outputs": [
    {
     "data": {
      "text/plain": [
       "'Shadowrun: Third Edition (FPR25000)'"
      ]
     },
     "execution_count": 116,
     "metadata": {},
     "output_type": "execute_result"
    }
   ],
   "source": [
    "title_id = 34\n",
    "books_data['title'].iloc[title_id]"
   ]
  },
  {
   "cell_type": "code",
   "execution_count": 117,
   "metadata": {},
   "outputs": [],
   "source": [
    "top_n_idx = np.flip(np.argsort(cosine_sim_titles[title_id,:]))[0:10]\n",
    "top_n_sim_values = cosine_sim_titles[title_id, top_n_idx]\n",
    "top_n_idx = top_n_idx[top_n_sim_values > 0]"
   ]
  },
  {
   "cell_type": "code",
   "execution_count": 118,
   "metadata": {},
   "outputs": [
    {
     "data": {
      "text/plain": [
       "34      Shadowrun: Third Edition (FPR25000)                                                                                                                                                        \n",
       "4879    Shadowrun 4th Edition                                                                                                                                                                      \n",
       "4070    generatingfunctionology: Third Edition                                                                                                                                                     \n",
       "3956    Minecraft Pocket Edition: The Minecraft Pocket Edition Essentials Handbook Guide to Minecraft (An Unofficial Minecraft Pocket Edition Handbook) ... edition, minecraft handbook, minecraft)\n",
       "1857    CNC Programming Handbook, Third Edition                                                                                                                                                    \n",
       "274     Sixth World Almanac (Shadowrun (Catalyst Hardcover))                                                                                                                                       \n",
       "5609    Overwhelmed - Second Edition                                                                                                                                                               \n",
       "5158    Monster, Vol. 4: The Perfect Edition                                                                                                                                                       \n",
       "5098    Monster, Vol. 2: The Perfect Edition                                                                                                                                                       \n",
       "4889    Elfquest: The Final Quest Volume 1                                                                                                                                                         \n",
       "Name: title, dtype: object"
      ]
     },
     "execution_count": 118,
     "metadata": {},
     "output_type": "execute_result"
    }
   ],
   "source": [
    "# Matching books\n",
    "books_data['title'].iloc[top_n_idx]"
   ]
  },
  {
   "cell_type": "markdown",
   "metadata": {},
   "source": [
    "### Using TF IDF with word2vec"
   ]
  },
  {
   "cell_type": "code",
   "execution_count": 119,
   "metadata": {},
   "outputs": [],
   "source": [
    "from sklearn.feature_extraction.text import TfidfTransformer\n"
   ]
  },
  {
   "cell_type": "code",
   "execution_count": 120,
   "metadata": {},
   "outputs": [],
   "source": [
    "# initialize vectorizer\n",
    "vect = TfidfVectorizer(ngram_range=(1,2),stop_words='english', max_features=5000)\n"
   ]
  },
  {
   "cell_type": "code",
   "execution_count": 121,
   "metadata": {},
   "outputs": [],
   "source": [
    "vect.fit(books_data['title_clean'])\n",
    "title_matrix = vect.transform(books_data['title_clean'])"
   ]
  },
  {
   "cell_type": "code",
   "execution_count": 147,
   "metadata": {},
   "outputs": [
    {
     "data": {
      "text/html": [
       "<div>\n",
       "<style scoped>\n",
       "    .dataframe tbody tr th:only-of-type {\n",
       "        vertical-align: middle;\n",
       "    }\n",
       "\n",
       "    .dataframe tbody tr th {\n",
       "        vertical-align: top;\n",
       "    }\n",
       "\n",
       "    .dataframe thead th {\n",
       "        text-align: right;\n",
       "    }\n",
       "</style>\n",
       "<table border=\"1\" class=\"dataframe\">\n",
       "  <thead>\n",
       "    <tr style=\"text-align: right;\">\n",
       "      <th></th>\n",
       "      <th>title</th>\n",
       "      <th>category</th>\n",
       "      <th>title_clean</th>\n",
       "    </tr>\n",
       "  </thead>\n",
       "  <tbody>\n",
       "    <tr>\n",
       "      <th>0</th>\n",
       "      <td>Oral and Maxillofacial Surgery: An Objective-Based Textbook, 2e</td>\n",
       "      <td>Medical Books</td>\n",
       "      <td>oral and maxillofacial surgery an objectivebased textbook e</td>\n",
       "    </tr>\n",
       "    <tr>\n",
       "      <th>1</th>\n",
       "      <td>Barron's GRE, 21st Edition</td>\n",
       "      <td>Test Preparation</td>\n",
       "      <td>barrons gre st edition</td>\n",
       "    </tr>\n",
       "    <tr>\n",
       "      <th>2</th>\n",
       "      <td>George Balanchine: The Ballet Maker (Eminent Lives)</td>\n",
       "      <td>Biographies &amp; Memoirs</td>\n",
       "      <td>george balanchine the ballet maker eminent lives</td>\n",
       "    </tr>\n",
       "    <tr>\n",
       "      <th>3</th>\n",
       "      <td>A Partner in Holiness: Deepening Mindfulness, Practicing Compassion and Enriching Our Lives Through the Wisdom of R. Levi Yitzhak of Berdichev's, Vol. 2  (Institute for Jewish Spirituality)</td>\n",
       "      <td>Religion &amp; Spirituality</td>\n",
       "      <td>a partner in holiness deepening mindfulness practicing compassion and enriching our lives through the wisdom of r levi yitzhak of berdichevs vol   institute for jewish spirituality</td>\n",
       "    </tr>\n",
       "    <tr>\n",
       "      <th>4</th>\n",
       "      <td>Construction Scheduling: Principles and Practices (2nd Edition)</td>\n",
       "      <td>Arts &amp; Photography</td>\n",
       "      <td>construction scheduling principles and practices nd edition</td>\n",
       "    </tr>\n",
       "  </tbody>\n",
       "</table>\n",
       "</div>"
      ],
      "text/plain": [
       "                                                                                                                                                                                           title  \\\n",
       "0  Oral and Maxillofacial Surgery: An Objective-Based Textbook, 2e                                                                                                                                 \n",
       "1  Barron's GRE, 21st Edition                                                                                                                                                                      \n",
       "2  George Balanchine: The Ballet Maker (Eminent Lives)                                                                                                                                             \n",
       "3  A Partner in Holiness: Deepening Mindfulness, Practicing Compassion and Enriching Our Lives Through the Wisdom of R. Levi Yitzhak of Berdichev's, Vol. 2  (Institute for Jewish Spirituality)   \n",
       "4  Construction Scheduling: Principles and Practices (2nd Edition)                                                                                                                                 \n",
       "\n",
       "                  category  \\\n",
       "0  Medical Books             \n",
       "1  Test Preparation          \n",
       "2  Biographies & Memoirs     \n",
       "3  Religion & Spirituality   \n",
       "4  Arts & Photography        \n",
       "\n",
       "                                                                                                                                                                            title_clean  \n",
       "0  oral and maxillofacial surgery an objectivebased textbook e                                                                                                                           \n",
       "1  barrons gre st edition                                                                                                                                                                \n",
       "2  george balanchine the ballet maker eminent lives                                                                                                                                      \n",
       "3  a partner in holiness deepening mindfulness practicing compassion and enriching our lives through the wisdom of r levi yitzhak of berdichevs vol   institute for jewish spirituality  \n",
       "4  construction scheduling principles and practices nd edition                                                                                                                           "
      ]
     },
     "execution_count": 147,
     "metadata": {},
     "output_type": "execute_result"
    }
   ],
   "source": [
    "books_data.head()"
   ]
  },
  {
   "cell_type": "code",
   "execution_count": 149,
   "metadata": {},
   "outputs": [
    {
     "data": {
      "text/plain": [
       "['animation',\n",
       " 'anne',\n",
       " 'anniversary',\n",
       " 'anniversary edition',\n",
       " 'annotated',\n",
       " 'annual',\n",
       " 'answer',\n",
       " 'answers',\n",
       " 'anthology',\n",
       " 'anthropology',\n",
       " 'anti',\n",
       " 'anxiety',\n",
       " 'ap',\n",
       " 'ap english',\n",
       " 'apocalypse',\n",
       " 'appalachian',\n",
       " 'apples',\n",
       " 'application',\n",
       " 'applications',\n",
       " 'applied']"
      ]
     },
     "execution_count": 149,
     "metadata": {},
     "output_type": "execute_result"
    }
   ],
   "source": [
    "vect.get_feature_names()[110:130]"
   ]
  },
  {
   "cell_type": "code",
   "execution_count": 122,
   "metadata": {},
   "outputs": [],
   "source": [
    "title_matrix = title_matrix.toarray()"
   ]
  },
  {
   "cell_type": "code",
   "execution_count": 123,
   "metadata": {},
   "outputs": [
    {
     "data": {
      "text/plain": [
       "(5700, 5000)"
      ]
     },
     "execution_count": 123,
     "metadata": {},
     "output_type": "execute_result"
    }
   ],
   "source": [
    "title_matrix.shape"
   ]
  },
  {
   "cell_type": "code",
   "execution_count": 124,
   "metadata": {},
   "outputs": [],
   "source": [
    "# get tf idf weights\n",
    "idx = 34\n",
    "features = np.where(title_matrix[idx,:] > 0)[0]"
   ]
  },
  {
   "cell_type": "code",
   "execution_count": 138,
   "metadata": {},
   "outputs": [
    {
     "data": {
      "text/plain": [
       "array([1290, 4110], dtype=int64)"
      ]
     },
     "execution_count": 138,
     "metadata": {},
     "output_type": "execute_result"
    }
   ],
   "source": [
    "features"
   ]
  },
  {
   "cell_type": "code",
   "execution_count": 145,
   "metadata": {},
   "outputs": [
    {
     "data": {
      "text/plain": [
       "'shadowrun'"
      ]
     },
     "execution_count": 145,
     "metadata": {},
     "output_type": "execute_result"
    }
   ],
   "source": [
    "vect.get_feature_names()[4110]"
   ]
  },
  {
   "cell_type": "code",
   "execution_count": 146,
   "metadata": {},
   "outputs": [
    {
     "data": {
      "text/plain": [
       "'edition'"
      ]
     },
     "execution_count": 146,
     "metadata": {},
     "output_type": "execute_result"
    }
   ],
   "source": [
    "vect.get_feature_names()[1290]"
   ]
  },
  {
   "cell_type": "code",
   "execution_count": 125,
   "metadata": {},
   "outputs": [
    {
     "data": {
      "text/plain": [
       "['edition', 'shadowrun']"
      ]
     },
     "execution_count": 125,
     "metadata": {},
     "output_type": "execute_result"
    }
   ],
   "source": [
    "feature_names = [vect.get_feature_names()[x] for x in features]\n",
    "feature_names"
   ]
  },
  {
   "cell_type": "markdown",
   "metadata": {},
   "source": [
    "#### Find the tf-idf weights of the 2 words. Which word has a higher weightage?"
   ]
  },
  {
   "cell_type": "code",
   "execution_count": 126,
   "metadata": {},
   "outputs": [
    {
     "data": {
      "text/plain": [
       "(2, 1)"
      ]
     },
     "execution_count": 126,
     "metadata": {},
     "output_type": "execute_result"
    }
   ],
   "source": [
    "# feature weights\n",
    "feature_weights = np.array([title_matrix[idx,x] for x in features])[:,np.newaxis]\n",
    "feature_weights.shape"
   ]
  },
  {
   "cell_type": "code",
   "execution_count": 137,
   "metadata": {},
   "outputs": [
    {
     "data": {
      "text/plain": [
       "array([[0.43375068],\n",
       "       [0.90103293]])"
      ]
     },
     "execution_count": 137,
     "metadata": {},
     "output_type": "execute_result"
    }
   ],
   "source": [
    "feature_weights"
   ]
  },
  {
   "cell_type": "code",
   "execution_count": 127,
   "metadata": {},
   "outputs": [],
   "source": [
    "# multiplying tf idf weights with word2vec\n",
    "\n",
    "word_vecs = np.array([w2vec.word_vec(x) if x in w2vec.vocab else np.zeros(50) for x in feature_names])"
   ]
  },
  {
   "cell_type": "code",
   "execution_count": 128,
   "metadata": {},
   "outputs": [
    {
     "data": {
      "text/plain": [
       "(2, 50)"
      ]
     },
     "execution_count": 128,
     "metadata": {},
     "output_type": "execute_result"
    }
   ],
   "source": [
    "word_vecs.shape"
   ]
  },
  {
   "cell_type": "code",
   "execution_count": 129,
   "metadata": {},
   "outputs": [],
   "source": [
    "res = word_vecs*feature_weights"
   ]
  },
  {
   "cell_type": "code",
   "execution_count": 130,
   "metadata": {},
   "outputs": [
    {
     "data": {
      "text/plain": [
       "2"
      ]
     },
     "execution_count": 130,
     "metadata": {},
     "output_type": "execute_result"
    }
   ],
   "source": [
    "res.shape[0]"
   ]
  },
  {
   "cell_type": "code",
   "execution_count": 131,
   "metadata": {},
   "outputs": [],
   "source": [
    "def get_weighted_vectors(idx):\n",
    "    \n",
    "    features = np.where(title_matrix[idx,:] > 0)[0]\n",
    "    feature_names = [vect.get_feature_names()[x] for x in features]\n",
    "    feature_weights = np.array([title_matrix[idx,x] for x in features])[:,np.newaxis]\n",
    "    # np.newaxis is used to add dimension to matrix so that multiplication can happen over different order of matrices.  \n",
    "    word_vecs = np.array([w2vec.word_vec(x) if x in w2vec.vocab else np.zeros(50) for x in feature_names])\n",
    "    res = word_vecs*feature_weights\n",
    "    return res.mean(axis=0)\n",
    "    "
   ]
  },
  {
   "cell_type": "code",
   "execution_count": 132,
   "metadata": {},
   "outputs": [
    {
     "name": "stderr",
     "output_type": "stream",
     "text": [
      "  1%|▌                                                                               | 42/5700 [00:00<01:00, 93.58it/s]F:\\Softwares\\Installed\\Anaconda3\\lib\\site-packages\\ipykernel_launcher.py:8: RuntimeWarning: Mean of empty slice.\n",
      "  \n",
      "100%|██████████████████████████████████████████████████████████████████████████████| 5700/5700 [00:57<00:00, 99.73it/s]\n"
     ]
    }
   ],
   "source": [
    "from tqdm import tqdm\n",
    "title_vec_weighted = np.zeros((books_data.shape[0],50))\n",
    "for i in tqdm(range(0,books_data.shape[0])):\n",
    "    vec = get_weighted_vectors(i)\n",
    "    \n",
    "    if vec.shape[0] == 0:\n",
    "        title_vec_weighted[i] = np.zeros(50)\n",
    "    else:\n",
    "        title_vec_weighted[i] = vec"
   ]
  },
  {
   "cell_type": "code",
   "execution_count": 133,
   "metadata": {},
   "outputs": [
    {
     "data": {
      "text/plain": [
       "'Shadowrun: Third Edition (FPR25000)'"
      ]
     },
     "execution_count": 133,
     "metadata": {},
     "output_type": "execute_result"
    }
   ],
   "source": [
    "title_id=34\n",
    "books_data['title'].iloc[title_id]"
   ]
  },
  {
   "cell_type": "code",
   "execution_count": 134,
   "metadata": {},
   "outputs": [
    {
     "data": {
      "text/plain": [
       "34      Shadowrun: Third Edition (FPR25000)                                                                                                                                                        \n",
       "4879    Shadowrun 4th Edition                                                                                                                                                                      \n",
       "2795    Shadowrun Unwired (Shadowrun (Catalyst Hardcover))                                                                                                                                         \n",
       "4660    Rigger 2: A Shadowrun Sourcebook                                                                                                                                                           \n",
       "3956    Minecraft Pocket Edition: The Minecraft Pocket Edition Essentials Handbook Guide to Minecraft (An Unofficial Minecraft Pocket Edition Handbook) ... edition, minecraft handbook, minecraft)\n",
       "274     Sixth World Almanac (Shadowrun (Catalyst Hardcover))                                                                                                                                       \n",
       "4380    The Battletech Compendium                                                                                                                                                                  \n",
       "2082    Street Legends (Shadowrun (Catalyst Hardcover))                                                                                                                                            \n",
       "5167    Mob War! (Shadowrun, FAS7326)                                                                                                                                                              \n",
       "3985    Battletech Handbook: House Liao: A Faction Sourcebook (Battletech (Unnumbered))                                                                                                            \n",
       "Name: title, dtype: object"
      ]
     },
     "execution_count": 134,
     "metadata": {},
     "output_type": "execute_result"
    }
   ],
   "source": [
    "\n",
    "cosine_sim_titles_weighted = cosine_similarity(title_vec_weighted)\n",
    "top_n_idx = np.flip(np.argsort(cosine_sim_titles_weighted[title_id,]),axis=0)[0:10]\n",
    "top_n_sim_values = cosine_sim_titles_weighted[title_id, top_n_idx]\n",
    "top_n_sim_values\n",
    "\n",
    "# find top n with values > 0\n",
    "top_n_idx = top_n_idx[top_n_sim_values > 0]\n",
    "# Matching books\n",
    "books_data['title'].iloc[top_n_idx]"
   ]
  },
  {
   "cell_type": "code",
   "execution_count": null,
   "metadata": {},
   "outputs": [],
   "source": []
  }
 ],
 "metadata": {
  "colab": {
   "name": "DocumentSimilarityClustering_v1.ipynb",
   "provenance": [],
   "version": "0.3.2"
  },
  "kernelspec": {
   "display_name": "Python 3",
   "language": "python",
   "name": "python3"
  },
  "language_info": {
   "codemirror_mode": {
    "name": "ipython",
    "version": 3
   },
   "file_extension": ".py",
   "mimetype": "text/x-python",
   "name": "python",
   "nbconvert_exporter": "python",
   "pygments_lexer": "ipython3",
   "version": "3.6.7"
  }
 },
 "nbformat": 4,
 "nbformat_minor": 1
}
