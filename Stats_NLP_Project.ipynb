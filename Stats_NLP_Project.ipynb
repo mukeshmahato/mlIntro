{
 "cells": [
  {
   "cell_type": "markdown",
   "metadata": {
    "colab_type": "text",
    "id": "6Rc_ahEnTF9m"
   },
   "source": [
    "# Predict tags on StackOverflow with linear models"
   ]
  },
  {
   "cell_type": "markdown",
   "metadata": {
    "colab_type": "text",
    "id": "E5hmogPBTF9p"
   },
   "source": [
    "In this assignment you will learn how to predict tags for posts from [StackOverflow](https://stackoverflow.com). To solve this task you will use multilabel classification approach.\n",
    "\n",
    "### Libraries\n",
    "\n",
    "In this task you will need the following libraries:\n",
    "- [Numpy](http://www.numpy.org) — a package for scientific computing.\n",
    "- [Pandas](https://pandas.pydata.org) — a library providing high-performance, easy-to-use data structures and data analysis tools for the Python\n",
    "- [scikit-learn](http://scikit-learn.org/stable/index.html) — a tool for data mining and data analysis.\n",
    "- [NLTK](http://www.nltk.org) — a platform to work with natural language."
   ]
  },
  {
   "cell_type": "markdown",
   "metadata": {
    "colab_type": "text",
    "id": "zSq4Uzh6TF9q"
   },
   "source": [
    "### Data\n",
    "\n",
    "You can find all data required for this assignment into the folder `/data`."
   ]
  },
  {
   "cell_type": "markdown",
   "metadata": {
    "colab_type": "text",
    "id": "2V1gba1KTF9r"
   },
   "source": [
    "### Text preprocessing"
   ]
  },
  {
   "cell_type": "markdown",
   "metadata": {
    "colab_type": "text",
    "id": "WnvsWcP9TF9t"
   },
   "source": [
    "For this assignment you will need to use a list of stop words. It can be downloaded from *nltk*:"
   ]
  },
  {
   "cell_type": "code",
   "execution_count": 1,
   "metadata": {
    "colab": {
     "base_uri": "https://localhost:8080/",
     "height": 54
    },
    "colab_type": "code",
    "id": "R-RxVRvsTF9u",
    "outputId": "4ac75c9c-b352-46f6-9ae9-a69be9347991"
   },
   "outputs": [
    {
     "name": "stdout",
     "output_type": "stream",
     "text": [
      "[nltk_data] Downloading package stopwords to /root/nltk_data...\n",
      "[nltk_data]   Package stopwords is already up-to-date!\n"
     ]
    }
   ],
   "source": [
    "import nltk\n",
    "nltk.download('stopwords')\n",
    "from nltk.corpus import stopwords"
   ]
  },
  {
   "cell_type": "markdown",
   "metadata": {
    "colab_type": "text",
    "id": "ErHWjimITF91"
   },
   "source": [
    "In this task you will deal with a dataset of post titles from StackOverflow. You are provided a split to 3 sets: *train*, *validation* and *test*. All corpora (except for *test*) contain titles of the posts and corresponding tags (100 tags are available). The *test* set doesn't contain answers. Upload the corpora using *pandas* and look at the data:"
   ]
  },
  {
   "cell_type": "code",
   "execution_count": 0,
   "metadata": {
    "colab": {},
    "colab_type": "code",
    "id": "-ufeO-nfVGha"
   },
   "outputs": [],
   "source": [
    "from ast import literal_eval\n",
    "import pandas as pd\n",
    "import numpy as np"
   ]
  },
  {
   "cell_type": "markdown",
   "metadata": {
    "colab_type": "text",
    "id": "pDahiblaU-e7"
   },
   "source": [
    "Literal_eval package takes care of the preprocessing for the string so that it can be used in python. To know more on literal_eval please see the below documentation <br>\n",
    "https://kite.com/python/docs/ast.literal_eval"
   ]
  },
  {
   "cell_type": "code",
   "execution_count": 3,
   "metadata": {
    "colab": {
     "base_uri": "https://localhost:8080/",
     "height": 56
    },
    "colab_type": "code",
    "id": "lKLp1gBWiko1",
    "outputId": "a3ca3d86-c645-47bc-96b9-783662658de8"
   },
   "outputs": [
    {
     "name": "stdout",
     "output_type": "stream",
     "text": [
      "Drive already mounted at /content/drive; to attempt to forcibly remount, call drive.mount(\"/content/drive\", force_remount=True).\n"
     ]
    }
   ],
   "source": [
    "from google.colab import drive\n",
    "drive.mount('/content/drive')"
   ]
  },
  {
   "cell_type": "code",
   "execution_count": 0,
   "metadata": {
    "colab": {},
    "colab_type": "code",
    "id": "YKqd54QUiyZW"
   },
   "outputs": [],
   "source": [
    "import os\n",
    "os.chdir('/content/drive/My Drive/AIML/StatisticalNLP-P1/')"
   ]
  },
  {
   "cell_type": "markdown",
   "metadata": {
    "colab_type": "text",
    "id": "bubX7TSLVLXR"
   },
   "source": [
    "## Task 1: Create training, testing and validation data from the files given. Use title to be the independent variable and tags to be the dependent variable ( 5 points)"
   ]
  },
  {
   "cell_type": "markdown",
   "metadata": {
    "colab_type": "text",
    "id": "KBFMf3bhVPb_"
   },
   "source": [
    "Note: Ensure you apply literal_eval function on the tags column to ensure all the tags are readable in python"
   ]
  },
  {
   "cell_type": "code",
   "execution_count": 5,
   "metadata": {
    "colab": {
     "base_uri": "https://localhost:8080/",
     "height": 206
    },
    "colab_type": "code",
    "id": "mweqy73xjE-T",
    "outputId": "cb799410-45b5-4be5-e7a9-76c222f54381"
   },
   "outputs": [
    {
     "data": {
      "text/html": [
       "<div>\n",
       "<style scoped>\n",
       "    .dataframe tbody tr th:only-of-type {\n",
       "        vertical-align: middle;\n",
       "    }\n",
       "\n",
       "    .dataframe tbody tr th {\n",
       "        vertical-align: top;\n",
       "    }\n",
       "\n",
       "    .dataframe thead th {\n",
       "        text-align: right;\n",
       "    }\n",
       "</style>\n",
       "<table border=\"1\" class=\"dataframe\">\n",
       "  <thead>\n",
       "    <tr style=\"text-align: right;\">\n",
       "      <th></th>\n",
       "      <th>title</th>\n",
       "      <th>tags</th>\n",
       "    </tr>\n",
       "  </thead>\n",
       "  <tbody>\n",
       "    <tr>\n",
       "      <th>0</th>\n",
       "      <td>How to draw a stacked dotplot in R?</td>\n",
       "      <td>['r']</td>\n",
       "    </tr>\n",
       "    <tr>\n",
       "      <th>1</th>\n",
       "      <td>mysql select all records where a datetime fiel...</td>\n",
       "      <td>['php', 'mysql']</td>\n",
       "    </tr>\n",
       "    <tr>\n",
       "      <th>2</th>\n",
       "      <td>How to terminate windows phone 8.1 app</td>\n",
       "      <td>['c#']</td>\n",
       "    </tr>\n",
       "    <tr>\n",
       "      <th>3</th>\n",
       "      <td>get current time in a specific country via jquery</td>\n",
       "      <td>['javascript', 'jquery']</td>\n",
       "    </tr>\n",
       "    <tr>\n",
       "      <th>4</th>\n",
       "      <td>Configuring Tomcat to Use SSL</td>\n",
       "      <td>['java']</td>\n",
       "    </tr>\n",
       "  </tbody>\n",
       "</table>\n",
       "</div>"
      ],
      "text/plain": [
       "                                               title                      tags\n",
       "0                How to draw a stacked dotplot in R?                     ['r']\n",
       "1  mysql select all records where a datetime fiel...          ['php', 'mysql']\n",
       "2             How to terminate windows phone 8.1 app                    ['c#']\n",
       "3  get current time in a specific country via jquery  ['javascript', 'jquery']\n",
       "4                      Configuring Tomcat to Use SSL                  ['java']"
      ]
     },
     "execution_count": 5,
     "metadata": {
      "tags": []
     },
     "output_type": "execute_result"
    }
   ],
   "source": [
    "trainDf = pd.read_csv(\"train.tsv\",delimiter='\\t',encoding='utf-8')\n",
    "trainDf.head()"
   ]
  },
  {
   "cell_type": "code",
   "execution_count": 6,
   "metadata": {
    "colab": {
     "base_uri": "https://localhost:8080/",
     "height": 206
    },
    "colab_type": "code",
    "id": "x8iH7o77TF96",
    "outputId": "6b06f4d0-86a6-4597-bce4-8d496b27d9b7"
   },
   "outputs": [
    {
     "data": {
      "text/html": [
       "<div>\n",
       "<style scoped>\n",
       "    .dataframe tbody tr th:only-of-type {\n",
       "        vertical-align: middle;\n",
       "    }\n",
       "\n",
       "    .dataframe tbody tr th {\n",
       "        vertical-align: top;\n",
       "    }\n",
       "\n",
       "    .dataframe thead th {\n",
       "        text-align: right;\n",
       "    }\n",
       "</style>\n",
       "<table border=\"1\" class=\"dataframe\">\n",
       "  <thead>\n",
       "    <tr style=\"text-align: right;\">\n",
       "      <th></th>\n",
       "      <th>title</th>\n",
       "    </tr>\n",
       "  </thead>\n",
       "  <tbody>\n",
       "    <tr>\n",
       "      <th>0</th>\n",
       "      <td>Warning: mysql_query() expects parameter 2 to ...</td>\n",
       "    </tr>\n",
       "    <tr>\n",
       "      <th>1</th>\n",
       "      <td>get click coordinates from &lt;input type='image'...</td>\n",
       "    </tr>\n",
       "    <tr>\n",
       "      <th>2</th>\n",
       "      <td>How to implement cloud storage for media asset...</td>\n",
       "    </tr>\n",
       "    <tr>\n",
       "      <th>3</th>\n",
       "      <td>What is catcomplete in jQuery's autocomplete p...</td>\n",
       "    </tr>\n",
       "    <tr>\n",
       "      <th>4</th>\n",
       "      <td>Error building Android app with Cordova 3.1 CLI</td>\n",
       "    </tr>\n",
       "  </tbody>\n",
       "</table>\n",
       "</div>"
      ],
      "text/plain": [
       "                                               title\n",
       "0  Warning: mysql_query() expects parameter 2 to ...\n",
       "1  get click coordinates from <input type='image'...\n",
       "2  How to implement cloud storage for media asset...\n",
       "3  What is catcomplete in jQuery's autocomplete p...\n",
       "4    Error building Android app with Cordova 3.1 CLI"
      ]
     },
     "execution_count": 6,
     "metadata": {
      "tags": []
     },
     "output_type": "execute_result"
    }
   ],
   "source": [
    "testDf = pd.read_csv(\"test.tsv\", delimiter=\"\\t\", encoding='utf-8')\n",
    "testDf.head()"
   ]
  },
  {
   "cell_type": "code",
   "execution_count": 7,
   "metadata": {
    "colab": {
     "base_uri": "https://localhost:8080/",
     "height": 206
    },
    "colab_type": "code",
    "id": "HPaUfSVvTF99",
    "outputId": "b9bfc428-0b49-45e9-b830-a14e3b3e8faa"
   },
   "outputs": [
    {
     "data": {
      "text/html": [
       "<div>\n",
       "<style scoped>\n",
       "    .dataframe tbody tr th:only-of-type {\n",
       "        vertical-align: middle;\n",
       "    }\n",
       "\n",
       "    .dataframe tbody tr th {\n",
       "        vertical-align: top;\n",
       "    }\n",
       "\n",
       "    .dataframe thead th {\n",
       "        text-align: right;\n",
       "    }\n",
       "</style>\n",
       "<table border=\"1\" class=\"dataframe\">\n",
       "  <thead>\n",
       "    <tr style=\"text-align: right;\">\n",
       "      <th></th>\n",
       "      <th>title</th>\n",
       "      <th>tags</th>\n",
       "    </tr>\n",
       "  </thead>\n",
       "  <tbody>\n",
       "    <tr>\n",
       "      <th>0</th>\n",
       "      <td>Why odbc_exec always fail?</td>\n",
       "      <td>['php', 'sql']</td>\n",
       "    </tr>\n",
       "    <tr>\n",
       "      <th>1</th>\n",
       "      <td>Access a base classes variable from within a c...</td>\n",
       "      <td>['javascript']</td>\n",
       "    </tr>\n",
       "    <tr>\n",
       "      <th>2</th>\n",
       "      <td>Content-Type \"application/json\" not required i...</td>\n",
       "      <td>['ruby-on-rails', 'ruby']</td>\n",
       "    </tr>\n",
       "    <tr>\n",
       "      <th>3</th>\n",
       "      <td>Sessions in Sinatra: Used to Pass Variable</td>\n",
       "      <td>['ruby', 'session']</td>\n",
       "    </tr>\n",
       "    <tr>\n",
       "      <th>4</th>\n",
       "      <td>Getting error - type \"json\" does not exist - i...</td>\n",
       "      <td>['ruby-on-rails', 'ruby', 'json']</td>\n",
       "    </tr>\n",
       "  </tbody>\n",
       "</table>\n",
       "</div>"
      ],
      "text/plain": [
       "                                               title  \\\n",
       "0                         Why odbc_exec always fail?   \n",
       "1  Access a base classes variable from within a c...   \n",
       "2  Content-Type \"application/json\" not required i...   \n",
       "3         Sessions in Sinatra: Used to Pass Variable   \n",
       "4  Getting error - type \"json\" does not exist - i...   \n",
       "\n",
       "                                tags  \n",
       "0                     ['php', 'sql']  \n",
       "1                     ['javascript']  \n",
       "2          ['ruby-on-rails', 'ruby']  \n",
       "3                ['ruby', 'session']  \n",
       "4  ['ruby-on-rails', 'ruby', 'json']  "
      ]
     },
     "execution_count": 7,
     "metadata": {
      "tags": []
     },
     "output_type": "execute_result"
    }
   ],
   "source": [
    "validationDf = pd.read_csv(\"validation.tsv\", delimiter=\"\\t\", encoding='utf-8')\n",
    "validationDf.head()"
   ]
  },
  {
   "cell_type": "code",
   "execution_count": 0,
   "metadata": {
    "colab": {},
    "colab_type": "code",
    "id": "d4pPOmFvTF-B"
   },
   "outputs": [],
   "source": [
    "import ast\n",
    "trainTags = set()\n",
    "for index, row in trainDf.iterrows():\n",
    "  x = ast.literal_eval(row['tags'])\n",
    "  trainTags.update(x)"
   ]
  },
  {
   "cell_type": "code",
   "execution_count": 9,
   "metadata": {
    "colab": {
     "base_uri": "https://localhost:8080/",
     "height": 36
    },
    "colab_type": "code",
    "id": "rAHGw4iAisBg",
    "outputId": "f39b0450-f6b9-4eeb-a620-8739808f4ca7"
   },
   "outputs": [
    {
     "data": {
      "text/plain": [
       "100"
      ]
     },
     "execution_count": 9,
     "metadata": {
      "tags": []
     },
     "output_type": "execute_result"
    }
   ],
   "source": [
    "len(trainTags)"
   ]
  },
  {
   "cell_type": "code",
   "execution_count": 10,
   "metadata": {
    "colab": {
     "base_uri": "https://localhost:8080/",
     "height": 56
    },
    "colab_type": "code",
    "id": "IWyum1lVkwZi",
    "outputId": "786604c7-7428-49e8-b505-8c774fd80d9e"
   },
   "outputs": [
    {
     "name": "stdout",
     "output_type": "stream",
     "text": [
      "{'function', 'generics', 'file', 'java', 'datetime', 'html', 'python-2.7', 'entity-framework', 'cocoa-touch', 'parsing', 'windows', 'visual-studio', 'maven', 'linq', 'iphone', 'sorting', 'c#', 'javascript', 'arrays', 'list', 'string', 'node.js', 'regex', 'session', 'unit-testing', 'csv', 'pointers', 'xaml', 'sql', 'rest', '.net', 'image', 'c', 'html5', 'ruby-on-rails', 'angularjs', 'jsp', 'performance', 'android', 'python', 'pandas', 'mongodb', 'numpy', 'class', 'qt', 'codeigniter', 'google-maps', 'json', 'sql-server', 'ios', 'linux', 'twitter-bootstrap', 'wpf', 'ruby-on-rails-3', 'dom', 'ruby', 'database', 'jquery', 'oop', 'r', 'wcf', 'asp.net-mvc', 'servlets', 'facebook', 'python-3.x', 'wordpress', 'php', 'web-services', 'xcode', 'xml', 'visual-studio-2010', 'mysql', 'selenium', 'django', 'objective-c', 'eclipse', 'laravel', 'forms', 'validation', 'algorithm', 'spring', 'hibernate', 'asp.net', 'opencv', 'ajax', 'swing', 'uitableview', 'swift', 'loops', 'css', 'excel', 'c++', 'sockets', 'winforms', 'apache', 'multithreading', 'spring-mvc', 'date', 'vb.net', 'osx'}\n"
     ]
    }
   ],
   "source": [
    "print(trainTags)"
   ]
  },
  {
   "cell_type": "code",
   "execution_count": 0,
   "metadata": {
    "colab": {},
    "colab_type": "code",
    "id": "9SQn2to2Xhd5"
   },
   "outputs": [],
   "source": [
    "validationTags = set()\n",
    "for index, row in validationDf.iterrows():\n",
    "  x = ast.literal_eval(row['tags'])\n",
    "  validationTags.update(x)"
   ]
  },
  {
   "cell_type": "code",
   "execution_count": 12,
   "metadata": {
    "colab": {
     "base_uri": "https://localhost:8080/",
     "height": 36
    },
    "colab_type": "code",
    "id": "i6eDKYglVZZn",
    "outputId": "169e966d-653f-494e-cca5-f316550cf405"
   },
   "outputs": [
    {
     "data": {
      "text/plain": [
       "100"
      ]
     },
     "execution_count": 12,
     "metadata": {
      "tags": []
     },
     "output_type": "execute_result"
    }
   ],
   "source": [
    "len(validationTags)"
   ]
  },
  {
   "cell_type": "code",
   "execution_count": 13,
   "metadata": {
    "colab": {
     "base_uri": "https://localhost:8080/",
     "height": 56
    },
    "colab_type": "code",
    "id": "USlubitlTF-G",
    "outputId": "800ab7bc-9af2-4f84-81e4-10b15fdae355"
   },
   "outputs": [
    {
     "name": "stdout",
     "output_type": "stream",
     "text": [
      "{'function', 'generics', 'file', 'java', 'datetime', 'html', 'python-2.7', 'entity-framework', 'cocoa-touch', 'parsing', 'windows', 'maven', 'visual-studio', 'iphone', 'linq', 'sorting', 'c#', 'javascript', 'arrays', 'list', 'string', 'node.js', 'regex', 'session', 'unit-testing', 'csv', 'pointers', 'xaml', 'sql', 'rest', '.net', 'c', 'image', 'html5', 'ruby-on-rails', 'angularjs', 'jsp', 'android', 'performance', 'python', 'pandas', 'mongodb', 'numpy', 'class', 'qt', 'codeigniter', 'google-maps', 'json', 'sql-server', 'ios', 'linux', 'twitter-bootstrap', 'wpf', 'ruby-on-rails-3', 'dom', 'ruby', 'database', 'jquery', 'oop', 'r', 'wcf', 'servlets', 'asp.net-mvc', 'facebook', 'python-3.x', 'wordpress', 'php', 'web-services', 'xcode', 'xml', 'visual-studio-2010', 'mysql', 'selenium', 'django', 'objective-c', 'eclipse', 'laravel', 'forms', 'validation', 'algorithm', 'spring', 'hibernate', 'asp.net', 'opencv', 'ajax', 'swing', 'uitableview', 'swift', 'loops', 'css', 'excel', 'c++', 'sockets', 'winforms', 'apache', 'multithreading', 'spring-mvc', 'date', 'vb.net', 'osx'}\n"
     ]
    }
   ],
   "source": [
    "print(validationTags)"
   ]
  },
  {
   "cell_type": "markdown",
   "metadata": {
    "colab_type": "text",
    "id": "Bcb3kXUSTF-M"
   },
   "source": [
    "## Task 2 (Pre-processing). Implement the function *text_prepare* following the instructions. After that, run the function *test_test_prepare* to test it on tiny cases. (10 points)\n",
    "\n",
    "One of the most known difficulties when working with natural data is that it's unstructured. For example, if you use it \"as is\" and extract tokens just by splitting the titles by whitespaces, you will see that there are many \"weird\" tokens like *3.5*, *?*,  *{}*, etc. To prevent the problems, it's usually useful to prepare the data in a custom way\n"
   ]
  },
  {
   "cell_type": "code",
   "execution_count": 0,
   "metadata": {
    "colab": {},
    "colab_type": "code",
    "id": "PBSchmxtTF-N"
   },
   "outputs": [],
   "source": [
    "import re"
   ]
  },
  {
   "cell_type": "code",
   "execution_count": 0,
   "metadata": {
    "colab": {},
    "colab_type": "code",
    "id": "iI1plv6WTF-R"
   },
   "outputs": [],
   "source": [
    "REPLACE_BY_SPACE_RE = re.compile('[/(){}\\[\\]\\|@,;]')\n",
    "BAD_SYMBOLS_RE = re.compile('[^0-9a-z #+_]')\n",
    "STOPWORDS = set(stopwords.words('english'))\n",
    "\n",
    "def text_prepare(text): ### The function will take in text and lower case it remove the stopwords, symbols and return it.\n",
    "    text = text.lower() ### Write a code which can change the input text to lowercase.\n",
    "    text = REPLACE_BY_SPACE_RE.sub(\" \",text) ### Write a code which replaces REPLACE_BY_SPACE_RE (above mentioned) symbols by space in text\n",
    "    text = BAD_SYMBOLS_RE.sub(\"\",text) ### Write a code which deletes symbols which are in BAD_SYMBOLS_RE (above mentioned) from text\n",
    "    \n",
    "    ### Write a code which deletes stopwords from text\n",
    "    querywords = text.split()\n",
    "    resultwords  = [word for word in querywords if word.lower() not in STOPWORDS]\n",
    "    text = ' '.join(resultwords)\n",
    "    return text"
   ]
  },
  {
   "cell_type": "code",
   "execution_count": 0,
   "metadata": {
    "colab": {},
    "colab_type": "code",
    "id": "t5LQEgMATF-Y"
   },
   "outputs": [],
   "source": [
    "def test_text_prepare():\n",
    "    examples = [\"SQL Server - any equivalent of Excel's CHOOSE function?\",\n",
    "                \"How to free c++ memory vector<int> * arr?\"]\n",
    "    answers = [\"sql server equivalent excels choose function\", \n",
    "               \"free c++ memory vectorint arr\"]\n",
    "    for ex, ans in zip(examples, answers):\n",
    "        if text_prepare(ex) != ans:\n",
    "            return \"Wrong answer for the case: '%s'\" % ex\n",
    "    return 'Basic tests are passed.'"
   ]
  },
  {
   "cell_type": "markdown",
   "metadata": {
    "colab_type": "text",
    "id": "6t2DpralVokG"
   },
   "source": [
    "Execute the test_text_prepare function"
   ]
  },
  {
   "cell_type": "code",
   "execution_count": 17,
   "metadata": {
    "colab": {
     "base_uri": "https://localhost:8080/",
     "height": 36
    },
    "colab_type": "code",
    "id": "ihi8I2yQTF-b",
    "outputId": "591a75ad-69a1-42e4-a1ab-c04b12f85e9a"
   },
   "outputs": [
    {
     "data": {
      "text/plain": [
       "'Basic tests are passed.'"
      ]
     },
     "execution_count": 17,
     "metadata": {
      "tags": []
     },
     "output_type": "execute_result"
    }
   ],
   "source": [
    "test_text_prepare()"
   ]
  },
  {
   "cell_type": "markdown",
   "metadata": {
    "colab_type": "text",
    "id": "ettHAZ8eVt1R"
   },
   "source": [
    "*Note: You should pass the above test to ensure the text preprocessing is done before our analysis*"
   ]
  },
  {
   "cell_type": "markdown",
   "metadata": {
    "colab_type": "text",
    "id": "QV5JC6HXTF-k"
   },
   "source": [
    "Now we can preprocess the titles using function *text_prepare* and  making sure that the headers don't have bad symbols:"
   ]
  },
  {
   "cell_type": "code",
   "execution_count": 0,
   "metadata": {
    "colab": {},
    "colab_type": "code",
    "id": "nw8ufr57byI4"
   },
   "outputs": [],
   "source": [
    "trainCleanDf = trainDf.copy(deep=True)\n",
    "testCleanDf = testDf.copy(deep=True)\n",
    "validationCleanDf = validationDf.copy(deep=True)"
   ]
  },
  {
   "cell_type": "code",
   "execution_count": 0,
   "metadata": {
    "colab": {},
    "colab_type": "code",
    "id": "gOZKuHnGTF-k"
   },
   "outputs": [],
   "source": [
    "for index, row in trainCleanDf.iterrows():\n",
    "  row['title'] = text_prepare(row['title'])"
   ]
  },
  {
   "cell_type": "code",
   "execution_count": 0,
   "metadata": {
    "colab": {},
    "colab_type": "code",
    "id": "Kx1Qu4xg60eC"
   },
   "outputs": [],
   "source": [
    "for index, row in testCleanDf.iterrows():\n",
    "  row['title'] = text_prepare(row['title'])"
   ]
  },
  {
   "cell_type": "code",
   "execution_count": 0,
   "metadata": {
    "colab": {},
    "colab_type": "code",
    "id": "9gULXDCg60rb"
   },
   "outputs": [],
   "source": [
    "for index, row in validationCleanDf.iterrows():\n",
    "  row['title'] = text_prepare(row['title'])"
   ]
  },
  {
   "cell_type": "markdown",
   "metadata": {
    "colab_type": "text",
    "id": "AfWls32MV5Uu"
   },
   "source": [
    "Print the top 5 elements in x_train"
   ]
  },
  {
   "cell_type": "code",
   "execution_count": 22,
   "metadata": {
    "colab": {
     "base_uri": "https://localhost:8080/",
     "height": 206
    },
    "colab_type": "code",
    "id": "3BP3LiGsTF-o",
    "outputId": "0f41b8c3-6186-4572-bb99-f3d43411234d"
   },
   "outputs": [
    {
     "data": {
      "text/html": [
       "<div>\n",
       "<style scoped>\n",
       "    .dataframe tbody tr th:only-of-type {\n",
       "        vertical-align: middle;\n",
       "    }\n",
       "\n",
       "    .dataframe tbody tr th {\n",
       "        vertical-align: top;\n",
       "    }\n",
       "\n",
       "    .dataframe thead th {\n",
       "        text-align: right;\n",
       "    }\n",
       "</style>\n",
       "<table border=\"1\" class=\"dataframe\">\n",
       "  <thead>\n",
       "    <tr style=\"text-align: right;\">\n",
       "      <th></th>\n",
       "      <th>title</th>\n",
       "      <th>tags</th>\n",
       "    </tr>\n",
       "  </thead>\n",
       "  <tbody>\n",
       "    <tr>\n",
       "      <th>0</th>\n",
       "      <td>draw stacked dotplot r</td>\n",
       "      <td>['r']</td>\n",
       "    </tr>\n",
       "    <tr>\n",
       "      <th>1</th>\n",
       "      <td>mysql select records datetime field less speci...</td>\n",
       "      <td>['php', 'mysql']</td>\n",
       "    </tr>\n",
       "    <tr>\n",
       "      <th>2</th>\n",
       "      <td>terminate windows phone 81 app</td>\n",
       "      <td>['c#']</td>\n",
       "    </tr>\n",
       "    <tr>\n",
       "      <th>3</th>\n",
       "      <td>get current time specific country via jquery</td>\n",
       "      <td>['javascript', 'jquery']</td>\n",
       "    </tr>\n",
       "    <tr>\n",
       "      <th>4</th>\n",
       "      <td>configuring tomcat use ssl</td>\n",
       "      <td>['java']</td>\n",
       "    </tr>\n",
       "  </tbody>\n",
       "</table>\n",
       "</div>"
      ],
      "text/plain": [
       "                                               title                      tags\n",
       "0                             draw stacked dotplot r                     ['r']\n",
       "1  mysql select records datetime field less speci...          ['php', 'mysql']\n",
       "2                     terminate windows phone 81 app                    ['c#']\n",
       "3       get current time specific country via jquery  ['javascript', 'jquery']\n",
       "4                         configuring tomcat use ssl                  ['java']"
      ]
     },
     "execution_count": 22,
     "metadata": {
      "tags": []
     },
     "output_type": "execute_result"
    }
   ],
   "source": [
    "trainCleanDf.head()"
   ]
  },
  {
   "cell_type": "markdown",
   "metadata": {
    "colab_type": "text",
    "id": "At_ZTeqTTF-t"
   },
   "source": [
    "## Task 2 (WordsTagsCount) - Find 3 most popular tags and 3 most popular words in the train data. - 5 points"
   ]
  },
  {
   "cell_type": "markdown",
   "metadata": {
    "colab_type": "text",
    "id": "x2mT1f7gWKSu"
   },
   "source": [
    "Note: The words which appear the most are considered as popular in this case!"
   ]
  },
  {
   "cell_type": "code",
   "execution_count": 23,
   "metadata": {
    "colab": {
     "base_uri": "https://localhost:8080/",
     "height": 36
    },
    "colab_type": "code",
    "id": "q-eQoxipTF-v",
    "outputId": "821ac312-fae4-41cd-f99e-d887a5912c7b"
   },
   "outputs": [
    {
     "data": {
      "text/plain": [
       "194219"
      ]
     },
     "execution_count": 23,
     "metadata": {
      "tags": []
     },
     "output_type": "execute_result"
    }
   ],
   "source": [
    "import ast\n",
    "tagList = []\n",
    "for index, row in trainDf.iterrows():\n",
    "  x = ast.literal_eval(row['tags'])\n",
    "  tagList.extend(x)\n",
    "  \n",
    "len(tagList)"
   ]
  },
  {
   "cell_type": "code",
   "execution_count": 24,
   "metadata": {
    "colab": {
     "base_uri": "https://localhost:8080/",
     "height": 56
    },
    "colab_type": "code",
    "id": "9EuiBDGrfEWk",
    "outputId": "264bd7ec-0cc8-4353-ab22-ea1b30646393"
   },
   "outputs": [
    {
     "name": "stdout",
     "output_type": "stream",
     "text": [
      "['r', 'php', 'mysql', 'c#', 'javascript', 'jquery', 'java', 'ruby-on-rails', 'ruby', 'ruby-on-rails-3', 'json', 'ruby', 'java', 'spring', 'spring-mvc']\n"
     ]
    }
   ],
   "source": [
    "print(tagList[:15])"
   ]
  },
  {
   "cell_type": "code",
   "execution_count": 25,
   "metadata": {
    "colab": {
     "base_uri": "https://localhost:8080/",
     "height": 206
    },
    "colab_type": "code",
    "id": "CxAmMv-8fouM",
    "outputId": "96c99ad2-342f-42f1-e646-0ebda4048e36"
   },
   "outputs": [
    {
     "data": {
      "text/html": [
       "<div>\n",
       "<style scoped>\n",
       "    .dataframe tbody tr th:only-of-type {\n",
       "        vertical-align: middle;\n",
       "    }\n",
       "\n",
       "    .dataframe tbody tr th {\n",
       "        vertical-align: top;\n",
       "    }\n",
       "\n",
       "    .dataframe thead th {\n",
       "        text-align: right;\n",
       "    }\n",
       "</style>\n",
       "<table border=\"1\" class=\"dataframe\">\n",
       "  <thead>\n",
       "    <tr style=\"text-align: right;\">\n",
       "      <th></th>\n",
       "      <th>tag</th>\n",
       "    </tr>\n",
       "  </thead>\n",
       "  <tbody>\n",
       "    <tr>\n",
       "      <th>0</th>\n",
       "      <td>r</td>\n",
       "    </tr>\n",
       "    <tr>\n",
       "      <th>1</th>\n",
       "      <td>php</td>\n",
       "    </tr>\n",
       "    <tr>\n",
       "      <th>2</th>\n",
       "      <td>mysql</td>\n",
       "    </tr>\n",
       "    <tr>\n",
       "      <th>3</th>\n",
       "      <td>c#</td>\n",
       "    </tr>\n",
       "    <tr>\n",
       "      <th>4</th>\n",
       "      <td>javascript</td>\n",
       "    </tr>\n",
       "  </tbody>\n",
       "</table>\n",
       "</div>"
      ],
      "text/plain": [
       "          tag\n",
       "0           r\n",
       "1         php\n",
       "2       mysql\n",
       "3          c#\n",
       "4  javascript"
      ]
     },
     "execution_count": 25,
     "metadata": {
      "tags": []
     },
     "output_type": "execute_result"
    }
   ],
   "source": [
    "df = pd.DataFrame(tagList, columns={\"tag\"})\n",
    "df.head()"
   ]
  },
  {
   "cell_type": "code",
   "execution_count": 26,
   "metadata": {
    "colab": {
     "base_uri": "https://localhost:8080/",
     "height": 36
    },
    "colab_type": "code",
    "id": "Til1xtD0hWwt",
    "outputId": "5fb8042c-588c-40ac-e6fb-63f248564472"
   },
   "outputs": [
    {
     "data": {
      "text/plain": [
       "(194219, 1)"
      ]
     },
     "execution_count": 26,
     "metadata": {
      "tags": []
     },
     "output_type": "execute_result"
    }
   ],
   "source": [
    "df.shape"
   ]
  },
  {
   "cell_type": "markdown",
   "metadata": {
    "colab_type": "text",
    "id": "W_vAH-GevaQO"
   },
   "source": [
    "**Printing Top 3 tags**"
   ]
  },
  {
   "cell_type": "code",
   "execution_count": 27,
   "metadata": {
    "colab": {
     "base_uri": "https://localhost:8080/",
     "height": 110
    },
    "colab_type": "code",
    "id": "Ik-WczpPfo7G",
    "outputId": "2176b9f3-d6b8-4e29-c469-9c00ca9857db"
   },
   "outputs": [
    {
     "data": {
      "text/plain": [
       "tag\n",
       "javascript    19078\n",
       "c#            19077\n",
       "java          18661\n",
       "Name: tag, dtype: int64"
      ]
     },
     "execution_count": 27,
     "metadata": {
      "tags": []
     },
     "output_type": "execute_result"
    }
   ],
   "source": [
    "grouped = df.groupby('tag')['tag'].count()\n",
    "grouped.sort_values(ascending=False)[:3]"
   ]
  },
  {
   "cell_type": "markdown",
   "metadata": {
    "colab_type": "text",
    "id": "xkwg8_WNTF-3"
   },
   "source": [
    "We are assuming that *tags_counts* and *words_counts* are dictionaries like `{'some_word_or_tag': frequency}`. After applying the sorting procedure, results will be look like this: `[('most_popular_word_or_tag', frequency), ('less_popular_word_or_tag', frequency), ...]`.\n",
    "\n",
    "eg: \n",
    "Tag 1 - 100 Tag 2 - 65 Tag 3 - 250 <br>\n",
    "after sorting looks like, <br>\n",
    "Tag 3 - 250 Tag 1 - 100 Tag 2 - 65"
   ]
  },
  {
   "cell_type": "markdown",
   "metadata": {
    "colab_type": "text",
    "id": "6MEOnvHSfUWe"
   },
   "source": [
    "**Converting grouped Tags into dictionary**"
   ]
  },
  {
   "cell_type": "code",
   "execution_count": 28,
   "metadata": {
    "colab": {
     "base_uri": "https://localhost:8080/",
     "height": 73
    },
    "colab_type": "code",
    "id": "s-SufABBdvSs",
    "outputId": "45210b1f-7743-4d26-ccc6-fa197115c829"
   },
   "outputs": [
    {
     "name": "stdout",
     "output_type": "stream",
     "text": [
      "key: javascript, frequency: 19078 \n",
      "key: c#, frequency: 19077 \n",
      "key: java, frequency: 18661 \n"
     ]
    }
   ],
   "source": [
    "tagDict = grouped.sort_values(ascending=False).to_dict()\n",
    "for x in list(tagDict)[0:3]:\n",
    "    print (\"key: {}, frequency: {} \".format(x,  tagDict[x]))"
   ]
  },
  {
   "cell_type": "code",
   "execution_count": 29,
   "metadata": {
    "colab": {
     "base_uri": "https://localhost:8080/",
     "height": 36
    },
    "colab_type": "code",
    "id": "RSCPa54uTF-4",
    "outputId": "acac14d8-72ac-45d5-8988-e1012b27f58d"
   },
   "outputs": [
    {
     "data": {
      "text/plain": [
       "565425"
      ]
     },
     "execution_count": 29,
     "metadata": {
      "tags": []
     },
     "output_type": "execute_result"
    }
   ],
   "source": [
    "wordList = []\n",
    "for index, row in trainCleanDf.iterrows():\n",
    "  x = row['title'].split()\n",
    "  wordList.extend(x)\n",
    "  \n",
    "len(wordList)"
   ]
  },
  {
   "cell_type": "code",
   "execution_count": 30,
   "metadata": {
    "colab": {
     "base_uri": "https://localhost:8080/",
     "height": 206
    },
    "colab_type": "code",
    "id": "m4KDzLejza_R",
    "outputId": "7873239e-3f26-409c-be7a-53cd3ec79008"
   },
   "outputs": [
    {
     "data": {
      "text/html": [
       "<div>\n",
       "<style scoped>\n",
       "    .dataframe tbody tr th:only-of-type {\n",
       "        vertical-align: middle;\n",
       "    }\n",
       "\n",
       "    .dataframe tbody tr th {\n",
       "        vertical-align: top;\n",
       "    }\n",
       "\n",
       "    .dataframe thead th {\n",
       "        text-align: right;\n",
       "    }\n",
       "</style>\n",
       "<table border=\"1\" class=\"dataframe\">\n",
       "  <thead>\n",
       "    <tr style=\"text-align: right;\">\n",
       "      <th></th>\n",
       "      <th>word</th>\n",
       "    </tr>\n",
       "  </thead>\n",
       "  <tbody>\n",
       "    <tr>\n",
       "      <th>0</th>\n",
       "      <td>draw</td>\n",
       "    </tr>\n",
       "    <tr>\n",
       "      <th>1</th>\n",
       "      <td>stacked</td>\n",
       "    </tr>\n",
       "    <tr>\n",
       "      <th>2</th>\n",
       "      <td>dotplot</td>\n",
       "    </tr>\n",
       "    <tr>\n",
       "      <th>3</th>\n",
       "      <td>r</td>\n",
       "    </tr>\n",
       "    <tr>\n",
       "      <th>4</th>\n",
       "      <td>mysql</td>\n",
       "    </tr>\n",
       "  </tbody>\n",
       "</table>\n",
       "</div>"
      ],
      "text/plain": [
       "      word\n",
       "0     draw\n",
       "1  stacked\n",
       "2  dotplot\n",
       "3        r\n",
       "4    mysql"
      ]
     },
     "execution_count": 30,
     "metadata": {
      "tags": []
     },
     "output_type": "execute_result"
    }
   ],
   "source": [
    "wdf = pd.DataFrame(wordList, columns={\"word\"})\n",
    "wdf.head()"
   ]
  },
  {
   "cell_type": "markdown",
   "metadata": {
    "colab_type": "text",
    "id": "YBFfWSKe0ZyR"
   },
   "source": [
    "**Printing top 3 words in the titles**"
   ]
  },
  {
   "cell_type": "code",
   "execution_count": 31,
   "metadata": {
    "colab": {
     "base_uri": "https://localhost:8080/",
     "height": 110
    },
    "colab_type": "code",
    "id": "-Q8c74QaziUL",
    "outputId": "fb290c6b-eb53-440f-c68f-d2db934ce610"
   },
   "outputs": [
    {
     "data": {
      "text/plain": [
       "word\n",
       "using    8278\n",
       "php      5614\n",
       "java     5501\n",
       "Name: word, dtype: int64"
      ]
     },
     "execution_count": 31,
     "metadata": {
      "tags": []
     },
     "output_type": "execute_result"
    }
   ],
   "source": [
    "grouped = wdf.groupby('word')['word'].count()\n",
    "grouped.sort_values(ascending=False)[:3]"
   ]
  },
  {
   "cell_type": "code",
   "execution_count": 32,
   "metadata": {
    "colab": {
     "base_uri": "https://localhost:8080/",
     "height": 73
    },
    "colab_type": "code",
    "id": "yLeA7yCEfnJt",
    "outputId": "c1c97500-5423-423d-f1d8-f6f046fe61a2"
   },
   "outputs": [
    {
     "name": "stdout",
     "output_type": "stream",
     "text": [
      "key: using, frequency: 8278 \n",
      "key: php, frequency: 5614 \n",
      "key: java, frequency: 5501 \n"
     ]
    }
   ],
   "source": [
    "wordDict = grouped.sort_values(ascending=False).to_dict()\n",
    "for x in list(wordDict)[0:3]:\n",
    "    print (\"key: {}, frequency: {} \".format(x,  wordDict[x]))"
   ]
  },
  {
   "cell_type": "markdown",
   "metadata": {
    "colab_type": "text",
    "id": "Xk7M4uJ_TF-8"
   },
   "source": [
    "## Task - 3 Transforming text to a vector (10 points)\n",
    "\n",
    "Machine Learning algorithms work with numeric data and we cannot use the provided text data \"as is\". There are many ways to transform text data to numeric vectors. In this task you will try to use two of them.\n",
    "\n",
    "#### Bag of words\n",
    "\n",
    "One of the well-known approaches is a *bag-of-words* representation. To create this transformation, follow the steps:\n",
    "1. Find *N* most popular words in train corpus and numerate them. Now we have a dictionary of the most popular words.\n",
    "2. For each title in the corpora create a zero vector with the dimension equals to *N*.\n",
    "3. For each text in the corpora iterate over words which are in the dictionary and increase by 1 the corresponding coordinate.\n",
    "\n",
    "Let's try to do it for a toy example. Imagine that we have *N* = 4 and the list of the most popular words is \n",
    "\n",
    "    ['hi', 'you', 'me', 'are']\n",
    "\n",
    "Then we need to numerate them, for example, like this: \n",
    "\n",
    "    {'hi': 0, 'you': 1, 'me': 2, 'are': 3}\n",
    "\n",
    "And we have the text, which we want to transform to the vector:\n",
    "\n",
    "    'hi how are you'\n",
    "\n",
    "For this text we create a corresponding zero vector \n",
    "\n",
    "    [0, 0, 0, 0]\n",
    "    \n",
    "And iterate over all words, and if the word is in the dictionary, we increase the value of the corresponding position in the vector:\n",
    "\n",
    "    'hi':  [1, 0, 0, 0]\n",
    "    'how': [1, 0, 0, 0] # word 'how' is not in our dictionary\n",
    "    'are': [1, 0, 0, 1]\n",
    "    'you': [1, 1, 0, 1]\n",
    "\n",
    "The resulting vector will be \n",
    "\n",
    "    [1, 1, 0, 1]\n",
    "   \n",
    "Implement the described encoding in the function *my_bag_of_words* with the size of the dictionary equals to 5000. To find the most common words use train data. You can test your code using the function *test_my_bag_of_words*."
   ]
  },
  {
   "cell_type": "code",
   "execution_count": 0,
   "metadata": {
    "colab": {},
    "colab_type": "code",
    "id": "slcDt7BCkQ32"
   },
   "outputs": [],
   "source": [
    "wordsToIndex = { list(wordDict.keys())[i]:i for i in range(0, 5000) }\n",
    "indexOfWords = { j:list(wordDict.keys())[j] for j in range(0, 5000) }"
   ]
  },
  {
   "cell_type": "code",
   "execution_count": 34,
   "metadata": {
    "colab": {
     "base_uri": "https://localhost:8080/",
     "height": 56
    },
    "colab_type": "code",
    "id": "b71P-kpvr-rU",
    "outputId": "59c20656-9803-4ab8-c045-3eca40b08523"
   },
   "outputs": [
    {
     "name": "stdout",
     "output_type": "stream",
     "text": [
      "{'using': 0, 'php': 1, 'java': 2, 'file': 3, 'javascript': 4, 'error': 5, 'get': 6, 'c#': 7, 'python': 8, 'string': 9, 'array': 10, 'data': 11, 'jquery': 12, 'value': 13, 'function': 14, 'object': 15, 'class': 16, 'use': 17, 'c++': 18, 'list': 19, 'method': 20, 'multiple': 21, 'text': 22, 'image': 23, 'page': 24, 'rails': 25, 'form': 26, 'create': 27, 'html': 28, 'type': 29, 'code': 30, 'set': 31, 'working': 32, 'database': 33, 'add': 34, 'convert': 35, 'mysql': 36, 'json': 37, 'c': 38, 'server': 39, 'variable': 40, 'android': 41, 'values': 42, 'aspnet': 43, 'way': 44, 'application': 45, 'change': 46, 'button': 47, 'find': 48, 'django': 49, 'one': 50, 'without': 51, 'windows': 52, 'cannot': 53, 'table': 54, 'call': 55, 'files': 56, 'ajax': 57, 'check': 58, 'time': 59, 'name': 60, 'two': 61, 'ruby': 62, 'getting': 63, 'date': 64, 'web': 65, 'make': 66, 'user': 67, 'input': 68, 'xml': 69, 'app': 70, 'another': 71, 'element': 72, 'custom': 73, 'event': 74, 'api': 75, 'access': 76, 'url': 77, 'number': 78, 'spring': 79, 'view': 80, 'sql': 81, 'return': 82, 'mvc': 83, 'select': 84, 'google': 85, 'query': 86, 'inside': 87, 'exception': 88, 'display': 89, 'column': 90, 'read': 91, 'loop': 92, 'swift': 93, 'remove': 94, 'new': 95, 'work': 96, 'load': 97, 'r': 98, 'objects': 99, 'property': 100, 'line': 101, 'cant': 102, 'pass': 103, 'click': 104, 'framework': 105, 'update': 106, 'script': 107, 'vs': 108, 'post': 109, 'null': 110, '2': 111, 'creating': 112, 'net': 113, 'request': 114, 'different': 115, 'field': 116, 'key': 117, 'run': 118, 'row': 119, 'doesnt': 120, 'ios': 121, 'service': 122, 'linq': 123, 'div': 124, 'open': 125, 'window': 126, 'project': 127, 'wpf': 128, 'format': 129, 'best': 130, 'show': 131, 'variables': 132, 'controller': 133, 'undefined': 134, 'specific': 135, 'dynamically': 136, 'adding': 137, 'based': 138, 'angularjs': 139, 'control': 140, 'parameter': 141, 'send': 142, 'model': 143, '3': 144, 'difference': 145, 'library': 146, 'first': 147, 'insert': 148, 'passing': 149, 'vbnet': 150, 'js': 151, 'regex': 152, 'elements': 153, 'codeigniter': 154, 'within': 155, 'eclipse': 156, 'path': 157, 'dynamic': 158, 'visual': 159, 'memory': 160, 'connection': 161, 'possible': 162, 'id': 163, 'thread': 164, 'save': 165, 'default': 166, '+': 167, 'via': 168, 'running': 169, 'size': 170, 'program': 171, 'found': 172, 'content': 173, 'reference': 174, 'issue': 175, 'write': 176, 'attribute': 177, 'studio': 178, 'laravel': 179, 'search': 180, 'excel': 181, 'test': 182, 'static': 183, 'session': 184, 'output': 185, 'http': 186, 'characters': 187, 'character': 188, 'entity': 189, 'current': 190, 'problem': 191, 'calling': 192, 'client': 193, 'empty': 194, 'int': 195, 'simple': 196, 'css': 197, 'parameters': 198, 'upload': 199, 'command': 200, 'reading': 201, 'directory': 202, 'validation': 203, '1': 204, 'map': 205, 'hibernate': 206, 'selected': 207, 'textbox': 208, 'unable': 209, 'browser': 210, 'images': 211, 'item': 212, 'link': 213, 'index': 214, 'facebook': 215, 'expression': 216, 'setting': 217, 'store': 218, 'delete': 219, 'single': 220, 'template': 221, 'like': 222, 'statement': 223, 'strings': 224, 'failed': 225, 'rows': 226, 'header': 227, 'replace': 228, 'loading': 229, 'login': 230, 'box': 231, 'iphone': 232, '4': 233, 'numbers': 234, 'color': 235, 'nested': 236, 'returning': 237, 'background': 238, 'instance': 239, 'print': 240, 'pdf': 241, 'char': 242, 'parse': 243, 'could': 244, 'disable': 245, 'bootstrap': 246, 'message': 247, 'module': 248, 'csv': 249, 'tag': 250, 'converting': 251, 'chrome': 252, 'x': 253, 'parent': 254, 'invalid': 255, 'returns': 256, 'local': 257, 'methods': 258, 'need': 259, 'connect': 260, 'email': 261, 'changing': 262, 'trying': 263, 'response': 264, 'functions': 265, 'install': 266, 'redirect': 267, 'order': 268, 'angular': 269, 'dictionary': 270, 'arrays': 271, 'dropdown': 272, 'classes': 273, 'generate': 274, 'folder': 275, 'bar': 276, 'submit': 277, 'pandas': 278, 'process': 279, 'columns': 280, 'source': 281, 'checkbox': 282, 'child': 283, 'integer': 284, 'count': 285, 'sending': 286, 'parsing': 287, 'items': 288, 'start': 289, 'detect': 290, 'double': 291, 'jsp': 292, 'hide': 293, 'datetime': 294, 'fields': 295, 'console': 296, 'gridview': 297, 'pointer': 298, 'selenium': 299, 'linux': 300, 'constructor': 301, 'random': 302, 'import': 303, '7': 304, 'programmatically': 305, 'action': 306, 'collection': 307, 'instead': 308, 'version': 309, 'datagridview': 310, 'filter': 311, 'sort': 312, 'objectivec': 313, 'website': 314, 'generic': 315, 'last': 316, 'result': 317, 'build': 318, 'system': 319, 'download': 320, 'properties': 321, 'split': 322, 'back': 323, 'iframe': 324, 'nodejs': 325, 'interface': 326, 'cell': 327, 'binding': 328, 'arguments': 329, '5': 330, 'datatable': 331, 'syntax': 332, 'scroll': 333, 'xcode': 334, 'binary': 335, 'onclick': 336, 'external': 337, 'position': 338, 'socket': 339, '0': 340, 'execute': 341, 'rest': 342, 'missing': 343, 'called': 344, 'word': 345, 'maps': 346, 'typeerror': 347, 'implement': 348, 'byte': 349, 'copy': 350, 'whats': 351, 'extension': 352, 'video': 353, 'refresh': 354, 'menu': 355, 'match': 356, 'given': 357, 'argument': 358, 'node': 359, 'wordpress': 360, 'retrieve': 361, 'include': 362, 'regular': 363, 'accessing': 364, 'forms': 365, 'showing': 366, 'canvas': 367, 'document': 368, 'results': 369, 'ui': 370, 'runtime': 371, 'arraylist': 372, 'defined': 373, 'handle': 374, 'drop': 375, 'apache': 376, 'errors': 377, 'group': 378, 'large': 379, 'compare': 380, 'wcf': 381, 'height': 382, 'opencv': 383, 'ie': 384, 'address': 385, 'mobile': 386, 'properly': 387, 'many': 388, 'member': 389, 'equivalent': 390, 'screen': 391, '8': 392, 'exists': 393, 'global': 394, 'plugin': 395, 'password': 396, 'expected': 397, 'maven': 398, 'jar': 399, 'vector': 400, 'events': 401, 'length': 402, 'writing': 403, 'location': 404, 'numpy': 405, 'servlet': 406, 'types': 407, 'extract': 408, 'html5': 409, 'stored': 410, 'width': 411, 'dialog': 412, 'dataframe': 413, 'certain': 414, 'close': 415, 'help': 416, 'used': 417, 'range': 418, 'style': 419, 'prevent': 420, 'handling': 421, 'names': 422, 'automatically': 423, 'works': 424, 'resource': 425, 'magento': 426, 'every': 427, 'fails': 428, 'tomcat': 429, 'cast': 430, 'pattern': 431, 'created': 432, 'warning': 433, 'frame': 434, 'popup': 435, 'wrong': 436, 'validate': 437, 'displaying': 438, 'contains': 439, 'enum': 440, 'qt': 441, 'updating': 442, 'curl': 443, 'package': 444, 'stop': 445, 'listview': 446, 'must': 447, 'testing': 448, 'operator': 449, 'space': 450, '2d': 451, 'context': 452, 'authentication': 453, 'put': 454, 'conversion': 455, 'keys': 456, 'auto': 457, 'structure': 458, 'callback': 459, 'main': 460, 'saving': 461, 'end': 462, 'exist': 463, 'token': 464, 'long': 465, 'problems': 466, 'db': 467, 'tab': 468, 'existing': 469, 'foreach': 470, 'block': 471, 'always': 472, 'dll': 473, 'grid': 474, 'finding': 475, 'sorting': 476, 'remote': 477, 'matplotlib': 478, 'sqlite': 479, 'option': 480, 'buttons': 481, 'determine': 482, 'bind': 483, 'performance': 484, 'firefox': 485, 'tags': 486, 'modal': 487, 'stream': 488, 'plot': 489, 'label': 490, 'mac': 491, 'combobox': 492, 'decimal': 493, 'join': 494, 'uncaught': 495, 'radio': 496, 'phone': 497, 'example': 498, 'chart': 499, 'attributes': 500, 'unexpected': 501, 'compile': 502, 'dom': 503, 'checking': 504, 'correctly': 505, 'right': 506, 'point': 507, 'lines': 508, 'tables': 509, 'installing': 510, 'base': 511, 'float': 512, 'users': 513, 'mouse': 514, 'basic': 515, 'support': 516, 'struct': 517, 'tree': 518, 'unit': 519, 'making': 520, 'unique': 521, 'scope': 522, 'threads': 523, 'catch': 524, 'hash': 525, 'duplicate': 526, 'correct': 527, 'mean': 528, 'handler': 529, 'next': 530, 'already': 531, 'even': 532, 'wont': 533, 'good': 534, 'edit': 535, 'admin': 536, 'task': 537, 'removing': 538, 'uitableview': 539, 'matrix': 540, 'contents': 541, 'valid': 542, 'pages': 543, 'namespace': 544, 'graph': 545, 'dates': 546, 'lists': 547, 'const': 548, 'sdk': 549, 'log': 550, 'encoding': 551, 'debug': 552, 'changes': 553, 'site': 554, 'objective': 555, 'case': 556, 'calculate': 557, 'programming': 558, 'storing': 559, 'active': 560, 'configuration': 561, 'side': 562, 'full': 563, 'sum': 564, 'limit': 565, 'keep': 566, 'jpa': 567, 'top': 568, 'listbox': 569, 'animation': 570, 'implementation': 571, 'unicode': 572, 'append': 573, 'override': 574, 'printing': 575, 'mongodb': 576, 'twitter': 577, 'allow': 578, 'part': 579, 'winforms': 580, 'record': 581, 'core': 582, 'utf8': 583, 'resize': 584, 'loaded': 585, 'lambda': 586, 'controls': 587, 'ip': 588, 'security': 589, 'mail': 590, 'play': 591, 'times': 592, 'pdo': 593, 'layout': 594, 'selection': 595, 'game': 596, 'fatal': 597, 'async': 598, 'records': 599, 'language': 600, 'bean': 601, 'cookie': 602, 'boolean': 603, 'webdriver': 604, 'switch': 605, 'constant': 606, 'draw': 607, 'outside': 608, 'force': 609, 'cakephp': 610, 'domain': 611, 'gui': 612, 'inserting': 613, 'unknown': 614, 'true': 615, 'wait': 616, 'assign': 617, 'slow': 618, '20': 619, 'mode': 620, 'port': 621, 'false': 622, 'named': 623, 'condition': 624, 'mapping': 625, 'issues': 626, 'available': 627, 'state': 628, 'requests': 629, 'focus': 630, 'netbeans': 631, 'multidimensional': 632, 'oracle': 633, 'generated': 634, 'enable': 635, 'assembly': 636, 'ubuntu': 637, 'device': 638, 'jdbc': 639, 'clicked': 640, 'uploading': 641, 'populate': 642, 'gem': 643, 'yii': 644, 'soap': 645, 'swing': 646, 'specified': 647, 'required': 648, 'special': 649, 'engine': 650, 'initialize': 651, 'exceptions': 652, 'know': 653, '2010': 654, 'checked': 655, 'executing': 656, 'bad': 657, 'native': 658, 'network': 659, 'avoid': 660, 'javafx': 661, 'design': 662, 'tkinter': 663, '6': 664, 'try': 665, 'month': 666, 'webservice': 667, 'timeout': 668, 'export': 669, 'question': 670, 'want': 671, '404': 672, 'heroku': 673, 'trigger': 674, 'efficient': 675, 'move': 676, 'n': 677, 'stack': 678, 'iterate': 679, 'timer': 680, 'component': 681, 'os': 682, 'dont': 683, '10': 684, 'words': 685, 'zend': 686, 'body': 687, 'textarea': 688, 'implementing': 689, 'views': 690, 'compiler': 691, 'clicking': 692, 'linked': 693, 'symbol': 694, 'root': 695, 'flask': 696, 'clear': 697, 'render': 698, 'navigation': 699, 'define': 700, 'symfony2': 701, 'second': 702, 'datagrid': 703, 'pointers': 704, 'fill': 705, 'inheritance': 706, 'procedure': 707, 'route': 708, 'private': 709, 'ssl': 710, 'particular': 711, 'rspec': 712, 'left': 713, 'declaration': 714, 'scrolling': 715, 'information': 716, 'behind': 717, 'bytes': 718, 'status': 719, 'reflection': 720, 'services': 721, 'fix': 722, 'push': 723, 'spaces': 724, 'calendar': 725, 'fetch': 726, 'algorithm': 727, 'alert': 728, 'xpath': 729, 'integers': 730, 'apply': 731, 'cache': 732, 'youtube': 733, 'calls': 734, 'dependency': 735, 'development': 736, 'https': 737, 'hex': 738, 'options': 739, 'max': 740, 'maximum': 741, 'target': 742, 'usage': 743, 'progress': 744, 'environment': 745, 'previous': 746, 'internet': 747, 'models': 748, 'practice': 749, 'title': 750, 'comparing': 751, 'merge': 752, 'headers': 753, 'changed': 754, 'boost': 755, 'notification': 756, 'driver': 757, 'libraries': 758, 'panel': 759, 'shared': 760, 'processing': 761, 'matching': 762, 'tests': 763, 'apps': 764, 'statements': 765, 'symfony': 766, 'font': 767, 'opengl': 768, 'comma': 769, 'xaml': 770, 'installed': 771, 'public': 772, 'datepicker': 773, 'standard': 774, 'resources': 775, 'icon': 776, 'separate': 777, 'links': 778, 'directive': 779, 'report': 780, 'htaccess': 781, 'abstract': 782, 'hidden': 783, 'resolve': 784, 'would': 785, 'container': 786, 'better': 787, 'serialize': 788, 'logging': 789, 'asp': 790, 'debugging': 791, 'see': 792, 'autocomplete': 793, 'configure': 794, 'ggplot2': 795, 'react': 796, 'junit': 797, 'hashmap': 798, 'partial': 799, 'queries': 800, 'alternative': 801, 'returned': 802, 'selecting': 803, 'visible': 804, 'messages': 805, 'throws': 806, 'echo': 807, 'something': 808, 'devise': 809, 'checkboxes': 810, 'svg': 811, 'keyboard': 812, 'generating': 813, 'proxy': 814, 'declare': 815, 'escape': 816, 'jtable': 817, 'coordinates': 818, 'whether': 819, 'denied': 820, 'take': 821, 'formatting': 822, 'operation': 823, 'causes': 824, 'virtual': 825, 'quotes': 826, 'reload': 827, 'drag': 828, 'setup': 829, 'drawing': 830, 'extjs': 831, 'jsf': 832, 'contain': 833, 'day': 834, 'dataset': 835, 'shell': 836, 'product': 837, 'machine': 838, 'phonegap': 839, 'cells': 840, 'entities': 841, 'containing': 842, 'dropdownlist': 843, 'applications': 844, 'strange': 845, 'twice': 846, 'webpage': 847, 'queue': 848, 'delegate': 849, 'rendering': 850, 'intellij': 851, 'inline': 852, 'connecting': 853, 'per': 854, 'gcc': 855, 'execution': 856, 'opening': 857, 'relationship': 858, 'uiview': 859, 'level': 860, 'ms': 861, 'conditional': 862, 'blank': 863, 'initialization': 864, 'serialization': 865, 'razor': 866, 'safe': 867, 'internal': 868, 'modify': 869, 'widget': 870, 'etc': 871, 'relative': 872, 'gives': 873, 'capture': 874, 'definition': 875, 'jqgrid': 876, 'timestamp': 877, 'nodes': 878, 'building': 879, 'importing': 880, 'batch': 881, 'else': 882, 'compiling': 883, 'retrieving': 884, 'expressions': 885, 'allowed': 886, 'tcp': 887, 'added': 888, 'numeric': 889, 'still': 890, 'host': 891, 'sqlalchemy': 892, 'year': 893, 'doctrine': 894, 'seconds': 895, 'highcharts': 896, 'cookies': 897, 'selector': 898, 'boot': 899, 'foreign': 900, 'nsstring': 901, 'href': 902, 'embedded': 903, 'jframe': 904, 'fast': 905, 'jackson': 906, 'config': 907, 'annotation': 908, 'starting': 909, 'firing': 910, 'reset': 911, 'touch': 912, 'injection': 913, 'section': 914, 'protocol': 915, 'closing': 916, 'ascii': 917, 'jaxb': 918, 'points': 919, 'tabs': 920, 'webbrowser': 921, 'labels': 922, 'sharepoint': 923, 'postgresql': 924, 'transaction': 925, 'hover': 926, 'cursor': 927, 'trouble': 928, 'passed': 929, 'overriding': 930, 'assignment': 931, 'specify': 932, 'explorer': 933, 'sequence': 934, 'asynchronous': 935, 'gwt': 936, 'replacing': 937, 'able': 938, 'urls': 939, 'localhost': 940, 'recursive': 941, 'days': 942, 'giving': 943, 'exit': 944, 'templates': 945, 'toggle': 946, 'webview': 947, 'base64': 948, 'deploy': 949, 'fastest': 950, 'anchor': 951, 'deleting': 952, 'fixed': 953, 'restful': 954, 'nil': 955, 'axis': 956, 'v3': 957, 'go': 958, 'vb': 959, 'moving': 960, 'proper': 961, 'osx': 962, '500': 963, 'digits': 964, 'enter': 965, 'nhibernate': 966, 'faster': 967, 'activerecord': 968, 'settings': 969, 'permission': 970, 'casting': 971, 'ignore': 972, 'stl': 973, 'lock': 974, 'including': 975, 'loops': 976, 'pagination': 977, 'border': 978, 'mysqli': 979, 'incorrect': 980, 'real': 981, 'sent': 982, 's3': 983, 'username': 984, 'serial': 985, 'caching': 986, 'activity': 987, 'effect': 988, 'declared': 989, 'complex': 990, 'uitableviewcell': 991, 'complete': 992, 'across': 993, 'safari': 994, 'comparison': 995, 'invoke': 996, 'zip': 997, 'increment': 998, 'speed': 999, 'multi': 1000, 'txt': 1001, 'programatically': 1002, 'audio': 1003, 'void': 1004, 'buffer': 1005, 'singleton': 1006, 'scripts': 1007, 'place': 1008, 'equal': 1009, 'combine': 1010, 'center': 1011, 'closed': 1012, 'keyword': 1013, '3d': 1014, 'modules': 1015, 'express': 1016, 'filtering': 1017, 'repository': 1018, 'break': 1019, 'integration': 1020, 'iis': 1021, 'routing': 1022, 'mock': 1023, 'causing': 1024, 'inner': 1025, 'letter': 1026, 'heap': 1027, 'bundle': 1028, 'letters': 1029, 'whole': 1030, 'mvvm': 1031, 'ie8': 1032, 'crash': 1033, 'uploaded': 1034, '2008': 1035, 'ant': 1036, 'winform': 1037, 'bit': 1038, 'extra': 1039, 'poi': 1040, 'receive': 1041, 'substring': 1042, 'identifier': 1043, 'self': 1044, 'deserialize': 1045, 'ftp': 1046, 'following': 1047, 'success': 1048, 'pip': 1049, 'src': 1050, 'entry': 1051, 'blob': 1052, 'amazon': 1053, 'series': 1054, 'leak': 1055, 'require': 1056, 'browsers': 1057, 'smtp': 1058, 'shows': 1059, 'isnt': 1060, 'free': 1061, 'macro': 1062, 'camera': 1063, 'communication': 1064, 'share': 1065, 'flash': 1066, '2012': 1067, 'extracting': 1068, 'primary': 1069, 'solution': 1070, 'around': 1071, 'dependencies': 1072, 'failure': 1073, 'tableview': 1074, 'rake': 1075, 'storage': 1076, 'generator': 1077, 'controllers': 1078, 'provider': 1079, 'failing': 1080, 'cocoa': 1081, 'iterator': 1082, 'listener': 1083, 'microsoft': 1084, 'area': 1085, 'exe': 1086, 'tell': 1087, 'generics': 1088, 'marker': 1089, 'beautifulsoup': 1090, 'secure': 1091, 'divs': 1092, 'depending': 1093, 'win32': 1094, 'solve': 1095, 'unity': 1096, 'downloading': 1097, 'tutorial': 1098, 'itextsharp': 1099, 'parallel': 1100, 'cross': 1101, 'bool': 1102, 'negative': 1103, 'directly': 1104, 'recursion': 1105, 'scrapy': 1106, 'datasource': 1107, 'decode': 1108, 'sockets': 1109, 'timezone': 1110, 'understanding': 1111, 'slider': 1112, 'idea': 1113, 'calculating': 1114, 'anonymous': 1115, 'requires': 1116, 'ipad': 1117, 'editor': 1118, 'instances': 1119, 'ggplot': 1120, 'detecting': 1121, 'non': 1122, 'behavior': 1123, 'parser': 1124, 'throw': 1125, 'com': 1126, 'give': 1127, 'silverlight': 1128, 'white': 1129, 'png': 1130, 'tool': 1131, 'throwing': 1132, 'compilation': 1133, 'waiting': 1134, 'log4j': 1135, 'jersey': 1136, 'webapi': 1137, 'iterating': 1138, 'accept': 1139, 'unix': 1140, 'similar': 1141, 'zoom': 1142, 'applet': 1143, 'perform': 1144, 'children': 1145, 'needed': 1146, 'clause': 1147, 'tuple': 1148, 'appear': 1149, '40': 1150, 'delay': 1151, 'less': 1152, 'animate': 1153, 'jboss': 1154, 'reverse': 1155, 'executable': 1156, 'certificate': 1157, 'joomla': 1158, 'entire': 1159, 'd3': 1160, 'typescript': 1161, 'installation': 1162, 'raw': 1163, 'receiving': 1164, 'gmail': 1165, 'illegal': 1166, 'rotate': 1167, 'treeview': 1168, 'colors': 1169, 'uibutton': 1170, 'optional': 1171, 'zero': 1172, 'big': 1173, 'references': 1174, 'uri': 1175, 'jpanel': 1176, 'udp': 1177, 'turn': 1178, 'extend': 1179, 'subclass': 1180, 'primefaces': 1181, 'filename': 1182, 'copying': 1183, 'takes': 1184, 'matches': 1185, 'embed': 1186, 'gradle': 1187, 'classpath': 1188, 'practices': 1189, 'except': 1190, 'searching': 1191, 'crashes': 1192, 'desktop': 1193, 'ckeditor': 1194, 'nginx': 1195, 'postback': 1196, 'supported': 1197, 'mvc4': 1198, 'unsigned': 1199, 'tooltip': 1200, 'drupal': 1201, 'manually': 1202, 'backbonejs': 1203, 'w': 1204, 'oauth': 1205, 'bound': 1206, 'datatables': 1207, 'jvm': 1208, 'uiscrollview': 1209, 'due': 1210, 'duplicates': 1211, 'occurred': 1212, 'commands': 1213, '30': 1214, 'connections': 1215, 'prepared': 1216, 'processes': 1217, 'counting': 1218, 'minutes': 1219, 'collections': 1220, 'bottom': 1221, 'mvc3': 1222, 'ngrepeat': 1223, 'yii2': 1224, 'creation': 1225, 'encryption': 1226, 'ide': 1227, 'paypal': 1228, 'job': 1229, 'several': 1230, 'equals': 1231, 'annotations': 1232, 'profile': 1233, 'fit': 1234, 'looping': 1235, 'prototype': 1236, 'phpunit': 1237, 'sessions': 1238, 'tasks': 1239, 'production': 1240, 'blocks': 1241, 'var': 1242, 'img': 1243, 'projects': 1244, 'present': 1245, 'prompt': 1246, 'resolved': 1247, 'usercontrol': 1248, 'linking': 1249, 'comments': 1250, 'bitmap': 1251, 'automatic': 1252, 'incompatible': 1253, 'initializing': 1254, 'account': 1255, '32': 1256, 'backbone': 1257, 'exec': 1258, 'info': 1259, 'original': 1260, 'infinite': 1261, 'upon': 1262, 'increase': 1263, 'textfield': 1264, 'amount': 1265, 'syntaxerror': 1266, 'together': 1267, 'rvm': 1268, 'disabled': 1269, 'literal': 1270, 'routes': 1271, 'conditions': 1272, 'submitting': 1273, 'websocket': 1274, 'operations': 1275, 'nullpointerexception': 1276, 'separated': 1277, 'uiwebview': 1278, 'debugger': 1279, 'fragment': 1280, 'related': 1281, 'crystal': 1282, 'ef': 1283, 'jsonnet': 1284, 'places': 1285, 'unhandled': 1286, 'members': 1287, 'common': 1288, 'derived': 1289, 'aspx': 1290, 'absolute': 1291, 'markers': 1292, 'uses': 1293, 'logged': 1294, 'step': 1295, 'onchange': 1296, 'behaviour': 1297, 'gets': 1298, 'encode': 1299, 'offset': 1300, 'small': 1301, 'uiimageview': 1302, 'im': 1303, 'transparent': 1304, 'garbage': 1305, 'paths': 1306, 'azure': 1307, 'horizontal': 1308, 'meteor': 1309, 'average': 1310, 'schema': 1311, 'exactly': 1312, 'kendo': 1313, 'storyboard': 1314, 'instantiate': 1315, 'inputs': 1316, 'displayed': 1317, 'hiding': 1318, 'fail': 1319, 'posting': 1320, 'ionic': 1321, 'association': 1322, 'multithreading': 1323, 'pop': 1324, 'nothing': 1325, 'fault': 1326, 'xampp': 1327, 'validating': 1328, '100': 1329, 'sheet': 1330, '31': 1331, 'deploying': 1332, 'sorted': 1333, 'assigning': 1334, 'fine': 1335, 'highlight': 1336, 'b': 1337, 'vertical': 1338, 'td': 1339, 'jni': 1340, 'factory': 1341, 'builder': 1342, 'sign': 1343, 'uiimage': 1344, 'attributeerror': 1345, 'much': 1346, 'd3js': 1347, 'chat': 1348, 'entries': 1349, 'resizing': 1350, 'encoded': 1351, 'ids': 1352, 'live': 1353, 'actual': 1354, 'li': 1355, 'helper': 1356, 'updated': 1357, 'hours': 1358, 'architecture': 1359, 'cron': 1360, 'distinct': 1361, 'distance': 1362, 'drive': 1363, 'normal': 1364, 'editing': 1365, 'refreshing': 1366, '11': 1367, 'manager': 1368, 'phpmyadmin': 1369, 'efficiently': 1370, 'total': 1371, 'importerror': 1372, 'viewmodel': 1373, 'deprecated': 1374, 'concatenate': 1375, '_post': 1376, 'three': 1377, 'struts': 1378, 'bug': 1379, 'xamarin': 1380, 'keeping': 1381, 'transfer': 1382, 'pairs': 1383, 'uitextfield': 1384, 'params': 1385, 'repeater': 1386, 'woocommerce': 1387, 'firebase': 1388, 'release': 1389, 'war': 1390, 'computer': 1391, 'mockito': 1392, 'splitting': 1393, 'breaks': 1394, 'lazy': 1395, 'lib': 1396, 'printf': 1397, 'looking': 1398, 'made': 1399, 'libgdx': 1400, 'pygame': 1401, 'struts2': 1402, 'hadoop': 1403, 'structs': 1404, 'str': 1405, 'initial': 1406, 'nsarray': 1407, 'orm': 1408, 'uilabel': 1409, 'codebehind': 1410, 'span': 1411, 'constraint': 1412, 'though': 1413, 'settimeout': 1414, 'dict': 1415, 'anything': 1416, 'world': 1417, 'encrypt': 1418, 'reports': 1419, 'itext': 1420, '81': 1421, 'jdk': 1422, 'eval': 1423, 'threejs': 1424, 'category': 1425, 'requested': 1426, 'thrown': 1427, 'management': 1428, 'exclude': 1429, 'httpclient': 1430, 'press': 1431, 'generation': 1432, 'analytics': 1433, 'threading': 1434, 'components': 1435, 'redirecting': 1436, 'never': 1437, 'actually': 1438, 'nsmutablearray': 1439, 'fire': 1440, 'scale': 1441, 'old': 1442, 'packages': 1443, 'forward': 1444, 'sets': 1445, 'register': 1446, 'detection': 1447, 'referenced': 1448, 'plotting': 1449, 'platform': 1450, 'picture': 1451, '2013': 1452, 'rectangle': 1453, 'started': 1454, 'devices': 1455, 'cause': 1456, 'socketio': 1457, 'sub': 1458, 'unrecognized': 1459, 'sound': 1460, 'approach': 1461, 'slide': 1462, 'symbols': 1463, 'stdstring': 1464, 'skip': 1465, 'converted': 1466, 'xmlhttprequest': 1467, 'pressed': 1468, 'extending': 1469, 'frames': 1470, 'g++': 1471, 'circle': 1472, 'home': 1473, 'newline': 1474, 'details': 1475, 'multiprocessing': 1476, 'segmentation': 1477, 'scraping': 1478, 'plain': 1479, 'feed': 1480, 'zone': 1481, 'folders': 1482, 'readonly': 1483, 'charts': 1484, 'ignoring': 1485, 'round': 1486, 'versions': 1487, 'really': 1488, 'dimensional': 1489, 'cpu': 1490, 'paperclip': 1491, 'done': 1492, 'histogram': 1493, 'cmake': 1494, 'cancel': 1495, 'final': 1496, 'pycharm': 1497, 'mfc': 1498, 'inject': 1499, 'floating': 1500, 'await': 1501, 'phpexcel': 1502, 'picker': 1503, 'shiny': 1504, 'refused': 1505, 'interfaces': 1506, 'destroy': 1507, 'weird': 1508, 'groups': 1509, 'ie9': 1510, 'easiest': 1511, 'got': 1512, 'ways': 1513, 'media': 1514, 'reduce': 1515, 'gson': 1516, 'migration': 1517, 'verify': 1518, 'least': 1519, 'violation': 1520, 'min': 1521, 'spark': 1522, 'colour': 1523, 'vectors': 1524, '64bit': 1525, 'restrict': 1526, 'tools': 1527, 'permissions': 1528, 'rename': 1529, 'initialized': 1530, 'included': 1531, 'functionality': 1532, 'please': 1533, 'populating': 1534, 'uiviewcontroller': 1535, 'taking': 1536, 'transition': 1537, 'malloc': 1538, 'eloquent': 1539, 'wrapper': 1540, 'expects': 1541, 'listt': 1542, 'knockout': 1543, 'layer': 1544, '9': 1545, 'wrap': 1546, 'swt': 1547, 'odd': 1548, 'occurrences': 1549, 'overlay': 1550, 'overloading': 1551, 'dictionaries': 1552, 'runs': 1553, 'clients': 1554, 'digit': 1555, 'according': 1556, 'rgb': 1557, 'disabling': 1558, 'hyperlink': 1559, 'patterns': 1560, 'dot': 1561, 'mp3': 1562, 'aws': 1563, 'learn': 1564, 'written': 1565, 'makefile': 1566, 'nsdictionary': 1567, '64': 1568, 'none': 1569, 'pyqt': 1570, 'beans': 1571, 'brackets': 1572, 'uninitialized': 1573, '35': 1574, 'may': 1575, 'randomly': 1576, 'explicit': 1577, 'jstl': 1578, 'easy': 1579, 'pause': 1580, 'differences': 1581, 'ienumerable': 1582, 'extensions': 1583, 'confirm': 1584, 'phpmailer': 1585, 'appconfig': 1586, 'math': 1587, 'wsdl': 1588, 'posts': 1589, 'photo': 1590, 'doc': 1591, 'ok': 1592, 'also': 1593, 'high': 1594, 'jenkins': 1595, 'received': 1596, 'reason': 1597, 'closure': 1598, 'signalr': 1599, 'rather': 1600, 'exact': 1601, 'inserted': 1602, 'everything': 1603, 'front': 1604, 'hour': 1605, 'recursively': 1606, 'saved': 1607, 'locale': 1608, 'git': 1609, 'scanner': 1610, 'appending': 1611, 'calculation': 1612, 'unsupported': 1613, 'week': 1614, 'signal': 1615, 'happens': 1616, 'registry': 1617, 'counter': 1618, 'documents': 1619, 'known': 1620, 'learning': 1621, 'precision': 1622, 'preg_match': 1623, 'uicollectionview': 1624, 'identity': 1625, 'c++11': 1626, 'valueerror': 1627, 'restart': 1628, 'referenceerror': 1629, 'glassfish': 1630, 'inherited': 1631, 'deployment': 1632, 'iteration': 1633, 'chartjs': 1634, 'additional': 1635, 'lookup': 1636, 'padding': 1637, 'chars': 1638, 'logic': 1639, 'feature': 1640, 'localstorage': 1641, 'prefix': 1642, 'comment': 1643, 'align': 1644, 'pythons': 1645, 'master': 1646, 'textboxes': 1647, 'webconfig': 1648, 'lost': 1649, 'nonobject': 1650, 'emails': 1651, 'submission': 1652, '27': 1653, 'makes': 1654, 'enums': 1655, 'optimize': 1656, 'terminal': 1657, 'tensorflow': 1658, 'underscore': 1659, 'fancybox': 1660, 'beginning': 1661, 'pil': 1662, 'constants': 1663, 'pool': 1664, 'square': 1665, 'sharing': 1666, 'cordova': 1667, 'transform': 1668, 'merging': 1669, 'jsoup': 1670, 'thumbnail': 1671, 'arduino': 1672, 'implicit': 1673, 'postgres': 1674, 'percentage': 1675, 'ldap': 1676, 'online': 1677, 'manytomany': 1678, 'md5': 1679, 'innerhtml': 1680, 'arc': 1681, 'dojo': 1682, 'uitextview': 1683, 'javalangnoclassdeffounderror': 1684, 'obtain': 1685, 'direct': 1686, 'updates': 1687, 'fetching': 1688, 'unresolved': 1689, 'graphics': 1690, 'purpose': 1691, 'concurrent': 1692, 'combo': 1693, 'pure': 1694, 'completely': 1695, 'constraints': 1696, 'clean': 1697, 'rewrite': 1698, 'bash': 1699, 'simulate': 1700, 'p': 1701, 'queryset': 1702, 'legend': 1703, 'deserializing': 1704, 'linker': 1705, 'eg': 1706, 'confusion': 1707, 'naming': 1708, '24': 1709, 'polygon': 1710, 'sqlite3': 1711, 'pixel': 1712, 'mismatch': 1713, 'modified': 1714, 'moq': 1715, 'kernel': 1716, 'launch': 1717, 'explain': 1718, 'dd': 1719, 'greater': 1720, 'upgrade': 1721, 'scanf': 1722, 'sample': 1723, 'rules': 1724, 'identify': 1725, 'rotation': 1726, 'init': 1727, 'reloading': 1728, 'exporting': 1729, 'mouseover': 1730, 'signature': 1731, 'figure': 1732, 'fade': 1733, 'longitude': 1734, 'latitude': 1735, 'grouping': 1736, 'well': 1737, 'mm': 1738, 'startup': 1739, 'bin': 1740, 'hello': 1741, 'track': 1742, 'black': 1743, 'locate': 1744, 'short': 1745, 'preg_replace': 1746, 'connected': 1747, 'cli': 1748, 'interop': 1749, 'protected': 1750, 'adapter': 1751, 'streaming': 1752, 'subset': 1753, 'parts': 1754, 'nokogiri': 1755, 'declaring': 1756, 'openssl': 1757, 'notifications': 1758, 'orientation': 1759, 'managed': 1760, 'individual': 1761, 'compiled': 1762, 'includes': 1763, 'operators': 1764, 'notation': 1765, 'richtextbox': 1766, 'versus': 1767, 'stdout': 1768, '16': 1769, 'pair': 1770, 'contact': 1771, 'either': 1772, 'combining': 1773, 'general': 1774, 'deserialization': 1775, 'assets': 1776, 'footer': 1777, 'coding': 1778, 'executed': 1779, 'relation': 1780, 'xsd': 1781, 'ready': 1782, 'nunit': 1783, 'customize': 1784, 'jasmine': 1785, 'wamp': 1786, 'plus': 1787, 'theme': 1788, 'multithreaded': 1789, 'modifying': 1790, 'opencart': 1791, 'player': 1792, 'hashes': 1793, 'confirmation': 1794, 'products': 1795, 'lxml': 1796, 'transactions': 1797, 'allocated': 1798, 'documentation': 1799, 'actions': 1800, 'finished': 1801, 'manage': 1802, 'setinterval': 1803, 'oop': 1804, 'multiline': 1805, 'couldnt': 1806, 'hangs': 1807, 'calculator': 1808, 'price': 1809, 'integrate': 1810, 'milliseconds': 1811, 'clicks': 1812, 'httpwebrequest': 1813, 'editable': 1814, 'stdin': 1815, 'cart': 1816, 'howto': 1817, 'bluetooth': 1818, 'backend': 1819, 'broken': 1820, 'namespaces': 1821, 'circular': 1822, 'simulator': 1823, 'threadsafe': 1824, 'formatted': 1825, 'observable': 1826, 'understand': 1827, 'inputstream': 1828, 'matlab': 1829, 'switching': 1830, 'plots': 1831, 'opened': 1832, 'occurrence': 1833, 'loads': 1834, 'serializing': 1835, 'boxes': 1836, 'wxpython': 1837, 'json_encode': 1838, 'mono': 1839, 'ee': 1840, 'rule': 1841, 'highlighting': 1842, 'yyyy': 1843, 'attachment': 1844, 'resultset': 1845, 'implicitly': 1846, 'preview': 1847, 'whitespace': 1848, 'recognized': 1849, 'criteria': 1850, 'databases': 1851, 'reactjs': 1852, 'screenshot': 1853, 'jpeg': 1854, 'finish': 1855, 'nsdata': 1856, 'associative': 1857, 'groovy': 1858, 'scrollbar': 1859, 'spreadsheet': 1860, 'allocation': 1861, 'cucumber': 1862, 'gdb': 1863, 'constructors': 1864, 'ejb': 1865, 'enabled': 1866, 'provide': 1867, 'look': 1868, 'longer': 1869, 'resolution': 1870, 'examples': 1871, 'completion': 1872, 'jaxrs': 1873, 'subprocess': 1874, 'querystring': 1875, 'setter': 1876, 'putting': 1877, 'phps': 1878, 'capistrano': 1879, 'initializer': 1880, 'fullcalendar': 1881, 'implemented': 1882, 'triggered': 1883, 'fired': 1884, 'scala': 1885, 'shape': 1886, 'bounds': 1887, 'databinding': 1888, 'invoking': 1889, 'datatype': 1890, 'choose': 1891, 'callbacks': 1892, 'seems': 1893, 'multipart': 1894, 'promise': 1895, 'simplexml': 1896, 'developer': 1897, 'elegant': 1898, 'detected': 1899, 'positive': 1900, 'linear': 1901, 'slash': 1902, 'querying': 1903, 'along': 1904, 'outlook': 1905, 'latest': 1906, 'jbutton': 1907, 'knockoutjs': 1908, 'currently': 1909, 'swipe': 1910, 'emberjs': 1911, 'arrow': 1912, 'jpg': 1913, 'multiply': 1914, 'mongoose': 1915, 'cors': 1916, 'mingw': 1917, 'arbitrary': 1918, 'cloud': 1919, 'defining': 1920, 'disk': 1921, 'videos': 1922, 'sure': 1923, 'needs': 1924, 'manipulation': 1925, 'asynchronously': 1926, 'party': 1927, 'pixels': 1928, 'super': 1929, 'rsa': 1930, 'onload': 1931, 'seem': 1932, 'ssh': 1933, 'usb': 1934, 'meaning': 1935, 'capybara': 1936, 'metadata': 1937, 'separator': 1938, 'hook': 1939, 'metro': 1940, 'servers': 1941, 'jaxws': 1942, 'c#net': 1943, 'decrypt': 1944, 'twig': 1945, 'nsdate': 1946, 'outer': 1947, 'replacement': 1948, 'trailing': 1949, 'textview': 1950, '45': 1951, 'yes': 1952, 'clickable': 1953, 'tinymce': 1954, 'utc': 1955, 'frameworks': 1956, 'relationships': 1957, 'jtextfield': 1958, 'composer': 1959, 'third': 1960, 'fork': 1961, 'paste': 1962, 'openmp': 1963, 'recognize': 1964, 'aggregate': 1965, 'hashtable': 1966, 'aes': 1967, 'country': 1968, 'monitor': 1969, 'adonet': 1970, 'simplest': 1971, 'br': 1972, 'bindings': 1973, 'pipe': 1974, 'registration': 1975, 'appears': 1976, 'raise': 1977, 'coffeescript': 1978, 'backgroundworker': 1979, 'liststring': 1980, 'gems': 1981, 'attach': 1982, 'specifying': 1983, 'mark': 1984, 'catching': 1985, 'logger': 1986, 'pack': 1987, 'union': 1988, '#': 1989, '17': 1990, '51': 1991, '50': 1992, 'vaadin': 1993, 'wrapping': 1994, 'validator': 1995, 'playing': 1996, 'lucene': 1997, 'viewcontroller': 1998, 'rid': 1999, 'structures': 2000, 'clipboard': 2001, 'card': 2002, 'tuples': 2003, 'referencing': 2004, 'carousel': 2005, 'sometimes': 2006, 'redis': 2007, 'applied': 2008, 'filling': 2009, 'dataframes': 2010, 'preserve': 2011, 'preprocessor': 2012, 'wicket': 2013, 'months': 2014, 'overflow': 2015, 'built': 2016, 'xaxis': 2017, 'celery': 2018, 'nameerror': 2019, 'toolbar': 2020, 'automapper': 2021, 'jlabel': 2022, 'collision': 2023, 'scipy': 2024, 'realtime': 2025, 'developing': 2026, 'requirejs': 2027, 'successful': 2028, 'expand': 2029, 'groupby': 2030, 'preventing': 2031, 'escaping': 2032, 'going': 2033, 'alphanumeric': 2034, 'ffmpeg': 2035, 'nan': 2036, 'rmi': 2037, 'tostring': 2038, '15': 2039, 'powershell': 2040, 'passenger': 2041, 'pc': 2042, '25': 2043, 'persist': 2044, 'crm': 2045, 'slower': 2046, 'optimization': 2047, 'stopped': 2048, 'mocking': 2049, 'segue': 2050, 'entered': 2051, 'dealing': 2052, 'stuck': 2053, 'reader': 2054, 'region': 2055, 'regexp': 2056, '13': 2057, 'mongoid': 2058, 'codes': 2059, 'callable': 2060, 'sinatra': 2061, 'head': 2062, 'serializable': 2063, 'imageview': 2064, 'synchronous': 2065, 'middle': 2066, 'sms': 2067, 'anyone': 2068, 'locking': 2069, 'objc': 2070, 'software': 2071, 'leaflet': 2072, 'leading': 2073, 'odbc': 2074, 'onetomany': 2075, 'zf2': 2076, 'logout': 2077, 'dependent': 2078, 'serverside': 2079, 'necessary': 2080, 'styles': 2081, 'comprehension': 2082, 'repeat': 2083, 'notice': 2084, 'angular2': 2085, 'overload': 2086, 'description': 2087, 'alternatives': 2088, 'indexes': 2089, 'adjust': 2090, 'destructor': 2091, '12': 2092, 'triangle': 2093, 'wildcard': 2094, 'maintain': 2095, 'devexpress': 2096, 'es6': 2097, 'ordering': 2098, 'redirection': 2099, 'ensure': 2100, 'has_many': 2101, 'primitive': 2102, 'smooth': 2103, 'exchange': 2104, 'io': 2105, 'immediately': 2106, 'minimum': 2107, 'websphere': 2108, 'expecting': 2109, 'mongo': 2110, 'interval': 2111, 'continue': 2112, 'builtin': 2113, 'subtract': 2114, 'interactive': 2115, 'camel': 2116, 'mssql': 2117, 'jinja2': 2118, 'applying': 2119, 'weblogic': 2120, 'casperjs': 2121, 'css3': 2122, 'terminate': 2123, 'listen': 2124, 'polymorphism': 2125, 'quote': 2126, 'losing': 2127, 'strip': 2128, 'ie7': 2129, 'overwrite': 2130, 'avoiding': 2131, 'indices': 2132, 'csrf': 2133, 'widgets': 2134, 'accessible': 2135, 'questions': 2136, 'ints': 2137, 'allocate': 2138, 'repeating': 2139, 'mask': 2140, 'lowercase': 2141, 'payment': 2142, 'scan': 2143, 'compatible': 2144, '2015': 2145, 'webclient': 2146, 'ul': 2147, 'construct': 2148, 'hosting': 2149, 'filters': 2150, 'delegates': 2151, 'pull': 2152, 'tornado': 2153, 'clone': 2154, 'bars': 2155, 'vertically': 2156, 'follow': 2157, 'suitable': 2158, 'ignored': 2159, 'categories': 2160, 'realm': 2161, 'websites': 2162, 'perl': 2163, 'someone': 2164, 'locally': 2165, 'cuda': 2166, 'styling': 2167, 'rendered': 2168, 'divide': 2169, 'delimited': 2170, 'universal': 2171, 'cxf': 2172, 'deep': 2173, 'decryption': 2174, 'accordion': 2175, 'completed': 2176, 'manifest': 2177, 'kill': 2178, 'nonstatic': 2179, 'alias': 2180, 'authorization': 2181, 'nonetype': 2182, 'aborted': 2183, 'errno': 2184, 'reporting': 2185, 'associated': 2186, 'emacs': 2187, 'handlers': 2188, 'clientside': 2189, 'emulator': 2190, 'consecutive': 2191, 'smaller': 2192, 'servlets': 2193, 'configuring': 2194, 'expressjs': 2195, 'auth': 2196, 'starts': 2197, 'apple': 2198, '14': 2199, 'ad': 2200, 'sencha': 2201, 'javalangnullpointerexception': 2202, 'updatepanel': 2203, 'performing': 2204, 'hql': 2205, 'uinavigationcontroller': 2206, 'credentials': 2207, 'enabling': 2208, 'crop': 2209, 'crashing': 2210, 'rss': 2211, 'crud': 2212, 'e': 2213, 'beginner': 2214, 'directories': 2215, 'pie': 2216, 'hexadecimal': 2217, 'timed': 2218, 'translate': 2219, 'testng': 2220, 'readable': 2221, 'tutorials': 2222, 'dimension': 2223, 'caused': 2224, 'ror': 2225, 'windowopen': 2226, 'jre': 2227, 'observablecollection': 2228, 'tracking': 2229, 'fly': 2230, 'cut': 2231, 'regression': 2232, 'exceeded': 2233, 'measure': 2234, '2005': 2235, 'decoding': 2236, 'haml': 2237, '403': 2238, 'registered': 2239, 'dplyr': 2240, 'explanation': 2241, 'converter': 2242, 'operand': 2243, 'sprite': 2244, 'breaking': 2245, 'slice': 2246, 'printer': 2247, 'ambiguous': 2248, 'log4net': 2249, 'plugins': 2250, 'larger': 2251, 'extends': 2252, 'warnings': 2253, 'huge': 2254, 'jms': 2255, 'coordinate': 2256, 'advantages': 2257, 'strategy': 2258, 'collapse': 2259, 'underlying': 2260, 'continuous': 2261, 'imported': 2262, 'xlsx': 2263, 'lua': 2264, 'placeholder': 2265, 'cmd': 2266, 'rotating': 2267, 'xdocument': 2268, 'dimensions': 2269, 'excluding': 2270, 'flag': 2271, 'choice': 2272, 'superclass': 2273, 'displays': 2274, 'tr': 2275, 'respond': 2276, 'stdvector': 2277, 'repeated': 2278, 'navigate': 2279, 'duration': 2280, 'standalone': 2281, 'addresses': 2282, 'virtualenv': 2283, 'later': 2284, 'currency': 2285, 'produce': 2286, 'usr': 2287, 'subview': 2288, 'keyvalue': 2289, 'says': 2290, 'carrierwave': 2291, 'clang': 2292, 'fullscreen': 2293, 'role': 2294, 'grab': 2295, 'attempting': 2296, 'javalangclassnotfoundexception': 2297, 'memcached': 2298, 'jfreechart': 2299, 'ipython': 2300, 'triggering': 2301, 'h': 2302, 'autolayout': 2303, 'reuse': 2304, 'quickly': 2305, 'mutex': 2306, 'ndk': 2307, 'cms': 2308, 'twisted': 2309, 'older': 2310, 'gallery': 2311, 'asset': 2312, 'guava': 2313, 'creator': 2314, 'unity3d': 2315, 'occurs': 2316, 'appearing': 2317, 'seed': 2318, 'compute': 2319, 'hierarchy': 2320, 'grouped': 2321, 'worker': 2322, 'others': 2323, 'shift': 2324, 'trace': 2325, 'authenticated': 2326, 'commas': 2327, 'assigned': 2328, 'corresponding': 2329, 'extended': 2330, '53': 2331, 'zeros': 2332, '3rd': 2333, 'clearing': 2334, 'signed': 2335, 'shown': 2336, 'mootools': 2337, 'foo': 2338, '#define': 2339, '52': 2340, 'uialertview': 2341, 'activeadmin': 2342, 'blocking': 2343, 'sentence': 2344, 'rounding': 2345, 'blocked': 2346, 'formula': 2347, 'bulk': 2348, 'deal': 2349, 'visibility': 2350, 'alignment': 2351, 'vim': 2352, 'closest': 2353, 'modelform': 2354, 'capturing': 2355, 'uipickerview': 2356, 'retain': 2357, 'viewer': 2358, 'hostname': 2359, 'horizontally': 2360, 'multiplication': 2361, '400': 2362, 'joda': 2363, 'representation': 2364, 'meta': 2365, 'icons': 2366, 'jndi': 2367, 'immutable': 2368, 'quick': 2369, 'beautiful': 2370, 'lodash': 2371, 'priority': 2372, 'spinner': 2373, 'v': 2374, 'origin': 2375, 'apis': 2376, 'texture': 2377, 'enough': 2378, 'orderby': 2379, '_get': 2380, 'asynctask': 2381, 'pythonic': 2382, 'largest': 2383, 'contained': 2384, 'consuming': 2385, 'cygwin': 2386, 'xslt': 2387, 'explicitly': 2388, 'progressbar': 2389, 'floats': 2390, 'phpini': 2391, 'encrypted': 2392, 'plist': 2393, 'nsuserdefaults': 2394, 'tick': 2395, 'frequency': 2396, 'bundler': 2397, 'link_to': 2398, 'come': 2399, 'getter': 2400, 'domains': 2401, 'landscape': 2402, 'various': 2403, 'simultaneously': 2404, 'idle': 2405, '54': 2406, 'elasticsearch': 2407, 'instagram': 2408, 'synchronization': 2409, 'edittext': 2410, 'designer': 2411, 'manipulate': 2412, 'flow': 2413, 'router': 2414, 'regarding': 2415, 'webpack': 2416, 'friends': 2417, 'insertion': 2418, 'parentheses': 2419, 'mixed': 2420, 'javalangstring': 2421, 'chain': 2422, 'keypress': 2423, 'mechanize': 2424, 'protractor': 2425, 'determining': 2426, 'persistent': 2427, 'provided': 2428, 'conditionally': 2429, 'polymer': 2430, 'attempt': 2431, 'subdomain': 2432, 'paragraph': 2433, 'ce': 2434, 'param': 2435, 'springboot': 2436, 'pymongo': 2437, 'swap': 2438, 'netty': 2439, '32bit': 2440, 'shortcut': 2441, 'installer': 2442, 'gulp': 2443, 'dev': 2444, 'away': 2445, 'htmlagilitypack': 2446, 'javas': 2447, 'win': 2448, 'let': 2449, 'history': 2450, 'leaks': 2451, 'linkedlist': 2452, 'handled': 2453, '2011': 2454, 'pressing': 2455, 'firebug': 2456, 'evaluate': 2457, 'truncated': 2458, 'compact': 2459, 'cgi': 2460, 'programs': 2461, 'sqlstate': 2462, 'xna': 2463, 'serve': 2464, 'temporary': 2465, 'detail': 2466, 'file_get_contents': 2467, 'unchecked': 2468, 'combinations': 2469, 'combination': 2470, 'endpoint': 2471, 'javadoc': 2472, 'period': 2473, 'xib': 2474, 'multiselect': 2475, '200': 2476, 'knowing': 2477, 'distribution': 2478, 'photos': 2479, 'polymorphic': 2480, 'watch': 2481, 'arithmetic': 2482, 'countdown': 2483, 'flip': 2484, 'downloaded': 2485, 'jars': 2486, 'twodimensional': 2487, '41': 2488, 'inherit': 2489, 'mime': 2490, 'streams': 2491, 'ordered': 2492, 'ios7': 2493, 'rstudio': 2494, 'refer': 2495, 'keeps': 2496, 'picturebox': 2497, 'codeblocks': 2498, 'cases': 2499, 'insensitive': 2500, 'positioning': 2501, 'appengine': 2502, 'decimals': 2503, 'pivot': 2504, 'webapp': 2505, '1000': 2506, 'sync': 2507, 'phantomjs': 2508, 'momentjs': 2509, 'intellisense': 2510, 'boostasio': 2511, 'linkedin': 2512, 'stops': 2513, 'vs2010': 2514, 'edge': 2515, 'dlls': 2516, 'thumbnails': 2517, 'menus': 2518, 'frontend': 2519, 'formats': 2520, 'imap': 2521, 'creates': 2522, 'disappear': 2523, '21': 2524, 'navbar': 2525, 'draggable': 2526, 'gzip': 2527, 'vm': 2528, 'light': 2529, 'levels': 2530, 'dump': 2531, 'workbook': 2532, 'sensitive': 2533, 'safety': 2534, 'implements': 2535, 'paging': 2536, 'checkout': 2537, 'independent': 2538, 'sources': 2539, 'jasper': 2540, 'mapped': 2541, 'jsonparse': 2542, 'jsonp': 2543, 'classnotfoundexception': 2544, 'communicate': 2545, 'tried': 2546, 'commit': 2547, 'pyqt4': 2548, 'ember': 2549, 'composite': 2550, 'elastic': 2551, 'synchronized': 2552, 'bold': 2553, 'integrating': 2554, 'odata': 2555, 'allowing': 2556, 'ends': 2557, 'obj': 2558, 'codec': 2559, 'ifelse': 2560, 'deadlock': 2561, 'power': 2562, 'cython': 2563, 'hashing': 2564, 'globally': 2565, 'anaconda': 2566, 'jump': 2567, 'directives': 2568, 'enumeration': 2569, 'preparedstatement': 2570, 'authenticate': 2571, 'i18n': 2572, 'jsonobject': 2573, 'manual': 2574, 'parents': 2575, 'differently': 2576, 'ratio': 2577, 'graphs': 2578, 'nearest': 2579, 'fluent': 2580, 'consume': 2581, 'gps': 2582, 'jsonarray': 2583, 'python3': 2584, 'cpp': 2585, 'accessed': 2586, 'english': 2587, 'thing': 2588, 'onto': 2589, 'assertion': 2590, 'locked': 2591, 'populated': 2592, 'fileupload': 2593, 'advanced': 2594, 'opens': 2595, 'recommended': 2596, 'macros': 2597, 'cluster': 2598, 'jade': 2599, 'successfully': 2600, 'grails': 2601, 'uninstall': 2602, 'redirects': 2603, 'embedding': 2604, 'posted': 2605, 'animations': 2606, 'increasing': 2607, 'afnetworking': 2608, 'overloaded': 2609, 'indexing': 2610, 'supports': 2611, 'outputting': 2612, 'winrt': 2613, 'intent': 2614, 'listeners': 2615, 'hard': 2616, 'limited': 2617, 'resharper': 2618, 'longest': 2619, 'channel': 2620, 'concatenation': 2621, 'handshake': 2622, 'webkit': 2623, 'features': 2624, 'publish': 2625, 'identical': 2626, '18': 2627, 'nomethoderror': 2628, 'pthread': 2629, 'functional': 2630, 'lower': 2631, 'kivy': 2632, 'uwp': 2633, 'compress': 2634, 'scrollview': 2635, '22': 2636, 'invocation': 2637, 'sprintf': 2638, 'shadow': 2639, 'concurrency': 2640, 'trim': 2641, 'incomplete': 2642, 'nth': 2643, 'raphael': 2644, 'localization': 2645, 'urllib2': 2646, 'mat': 2647, 'backup': 2648, 'cocos2d': 2649, 'sleep': 2650, 'appropriate': 2651, 'thymeleaf': 2652, 'v2': 2653, 'rails3': 2654, 'alamofire': 2655, 'factor': 2656, 'collect': 2657, 'iso': 2658, 'select2': 2659, 'schedule': 2660, 'hosted': 2661, 'unavailable': 2662, 'alphabetically': 2663, 'djangos': 2664, 'typed': 2665, 'uppercase': 2666, 'lion': 2667, 'represent': 2668, 'nullable': 2669, 'forbidden': 2670, 'yet': 2671, 'customizing': 2672, 'bits': 2673, 'delimiter': 2674, 'responsive': 2675, 'rounded': 2676, 'unused': 2677, 'fires': 2678, 'ascending': 2679, 'javasqlsqlexception': 2680, 'threaded': 2681, 'webinf': 2682, 'roles': 2683, 'memcache': 2684, 'arent': 2685, 'guid': 2686, 'configured': 2687, 'might': 2688, 'preserving': 2689, 'el': 2690, 'imagemagick': 2691, 'maintaining': 2692, 'containers': 2693, 'serving': 2694, 'soup': 2695, 'sublime': 2696, 'gd': 2697, 'attached': 2698, 'customer': 2699, 'markdown': 2700, 'alpha': 2701, 'imports': 2702, 'begin': 2703, 'gcm': 2704, 'slideshow': 2705, 'sections': 2706, 'turning': 2707, 'smallest': 2708, 'trycatch': 2709, 'tokens': 2710, 'eof': 2711, 'improve': 2712, 'belongs_to': 2713, 'fully': 2714, 'messagebox': 2715, 'bubble': 2716, 'versa': 2717, 'mailer': 2718, 'leave': 2719, 'matrices': 2720, 'lightweight': 2721, 'stdmap': 2722, 'entityframework': 2723, 'joins': 2724, 'sizes': 2725, 'locations': 2726, 'solr': 2727, 'temporarily': 2728, 'subclassing': 2729, 'ienumerablet': 2730, 'dragging': 2731, 'jquerys': 2732, 'mapreduce': 2733, 'joining': 2734, 'launching': 2735, 'vc++': 2736, 'margin': 2737, 'entering': 2738, 'x64': 2739, 'igniter': 2740, 'mkmapview': 2741, 'listing': 2742, 'linqtosql': 2743, 'agility': 2744, 'yyyymmdd': 2745, 'friendly': 2746, 'people': 2747, 'multithread': 2748, 'scene': 2749, 'concatenating': 2750, 'clock': 2751, 'suppress': 2752, 'consolelog': 2753, 'guice': 2754, 'unittest': 2755, 'notify': 2756, 'fragments': 2757, 'prime': 2758, 'mq': 2759, 'cs': 2760, '_server': 2761, 'unmanaged': 2762, 'iterators': 2763, 'xp': 2764, 'producing': 2765, 'wall': 2766, 'forcing': 2767, 'mysqldb': 2768, 'retrieved': 2769, 'foundation': 2770, 'textblock': 2771, 'javamail': 2772, 'supplied': 2773, 'docker': 2774, 'scrape': 2775, 'renaming': 2776, 'invoked': 2777, 'websockets': 2778, 'persistence': 2779, 'injecting': 2780, 'greasemonkey': 2781, 'rate': 2782, 'iframes': 2783, 'logs': 2784, 'bitwise': 2785, 'complexity': 2786, 'listening': 2787, 'vice': 2788, 'resume': 2789, 'recaptcha': 2790, 'nltk': 2791, 'underscorejs': 2792, 'decorator': 2793, 'bufferedreader': 2794, 'redux': 2795, 'allows': 2796, 'github': 2797, 'aspect': 2798, 'didnt': 2799, 'uncheck': 2800, 'fabricjs': 2801, 'near': 2802, 'oledb': 2803, 'optimizing': 2804, 'hierarchical': 2805, 'gateway': 2806, 'unauthorized': 2807, 'session_start': 2808, 'commandline': 2809, 'pyspark': 2810, 'unexpectedly': 2811, 'retrofit': 2812, 'centos': 2813, 'xxx': 2814, 'jetty': 2815, 'webrtc': 2816, 'despite': 2817, 'stay': 2818, 'std': 2819, 'depth': 2820, 'positions': 2821, 'deleted': 2822, 'autofac': 2823, 'shapes': 2824, 'formdata': 2825, 'deployed': 2826, 'httpurlconnection': 2827, 'kind': 2828, 'yaxis': 2829, 'uploads': 2830, 'keydown': 2831, 'coredata': 2832, 'pipeline': 2833, 'monitoring': 2834, 'documentgetelementbyid': 2835, 'grunt': 2836, 'accesscontrolalloworigin': 2837, 'classname': 2838, 'webgl': 2839, 'panels': 2840, 'dispatcher': 2841, 'vuejs': 2842, 'safely': 2843, 'conflict': 2844, 'npm': 2845, 'choices': 2846, 'indexof': 2847, 'minute': 2848, 'flatten': 2849, 'prepare': 2850, 'migrating': 2851, 'layers': 2852, 'gc': 2853, 'effects': 2854, 'city': 2855, 'highest': 2856, '33': 2857, 'swf': 2858, 'low': 2859, 'achieve': 2860, 'xss': 2861, 'sites': 2862, 'clickonce': 2863, 'val': 2864, 'javascripts': 2865, 'lots': 2866, 'undeclared': 2867, 'automated': 2868, 'liferay': 2869, 'stacked': 2870, 'confused': 2871, 'evaluating': 2872, 'crossplatform': 2873, 'leaving': 2874, '61': 2875, 'automation': 2876, 'webservices': 2877, 'javalangoutofmemoryerror': 2878, 'crawler': 2879, 'upgrading': 2880, 'zooming': 2881, 'pooling': 2882, 'gradient': 2883, 'persisting': 2884, 'convention': 2885, 'interpreter': 2886, 'limiting': 2887, 'limits': 2888, 'computing': 2889, 'overlapping': 2890, 'rdlc': 2891, 'accepting': 2892, 'office': 2893, 'interview': 2894, 'beanstalk': 2895, 'quartz': 2896, 'qml': 2897, '2007': 2898, 'coming': 2899, 'spacing': 2900, 'yaml': 2901, 'hold': 2902, 'compatibility': 2903, 'instantiated': 2904, 'barplot': 2905, 'computers': 2906, 'angle': 2907, 'javautildate': 2908, 'tap': 2909, 'eager': 2910, 'jobs': 2911, 'volume': 2912, 'means': 2913, 'subviews': 2914, 'terminating': 2915, 'ec2': 2916, 'caught': 2917, 'descending': 2918, 'serialized': 2919, 'scalar': 2920, 'mixing': 2921, 'threadpool': 2922, 'asmx': 2923, 'httppost': 2924, 'ngclick': 2925, 'gesture': 2926, 'mod_rewrite': 2927, 'blur': 2928, 'generates': 2929, 'getelementbyid': 2930, 'subfolder': 2931, 'wp7': 2932, 'passwords': 2933, 'scheduler': 2934, '2x': 2935, 'advice': 2936, 'ternary': 2937, 'wmi': 2938, 'ending': 2939, 'reached': 2940, 'ports': 2941, 'clr': 2942, 'whose': 2943, 'finally': 2944, 'till': 2945, 'star': 2946, 'closures': 2947, 'cached': 2948, 'closes': 2949, 'spec': 2950, 'rich': 2951, 'languages': 2952, 'msbuild': 2953, 'scatter': 2954, 'instantiation': 2955, 'payload': 2956, 'serializer': 2957, 'bypass': 2958, 'diff': 2959, 'onmouseover': 2960, 'colon': 2961, 'winapi': 2962, 'queues': 2963, 'doubles': 2964, 'ever': 2965, 'radiobutton': 2966, 'encountered': 2967, 'broadcast': 2968, 'gif': 2969, 'logical': 2970, 'loader': 2971, 'httpget': 2972, 'typing': 2973, 'encrypting': 2974, 'webserver': 2975, 'drawn': 2976, 'scheduled': 2977, 'ranges': 2978, 'actionlistener': 2979, '2nd': 2980, 'pomxml': 2981, 'direction': 2982, 'book': 2983, 'indentation': 2984, 'animating': 2985, 'getjson': 2986, 'backing': 2987, 'pm': 2988, 'stringformat': 2989, 'material': 2990, 'surface': 2991, 'z': 2992, 'registering': 2993, 'corrupted': 2994, 'ref': 2995, 'business': 2996, 'packets': 2997, 'stopping': 2998, 'stylesheet': 2999, 'reorder': 3000, 'procedures': 3001, '60': 3002, 'escaped': 3003, 'terminated': 3004, 'delphi': 3005, 'nilnilclass': 3006, 'pointing': 3007, '401': 3008, 'directx': 3009, 'jscrollpane': 3010, 'nullreferenceexception': 3011, 'modifier': 3012, 'recognition': 3013, 'indexphp': 3014, 'rollback': 3015, 'since': 3016, 'years': 3017, 'builds': 3018, 'higher': 3019, 'fb': 3020, 'recent': 3021, 'develop': 3022, 'goes': 3023, 'dash': 3024, 'alive': 3025, 'equation': 3026, 'jumping': 3027, 'thats': 3028, 'databind': 3029, 'division': 3030, 'minus': 3031, 'workaround': 3032, 'stand': 3033, 'processed': 3034, 'paint': 3035, 'dismiss': 3036, 'addition': 3037, 'pthreads': 3038, 'archive': 3039, 'four': 3040, 'foreignkey': 3041, 'hang': 3042, 'databound': 3043, 'freeze': 3044, 'indent': 3045, 'parsed': 3046, 'entitymanager': 3047, 'scripting': 3048, 'datacontext': 3049, 'sliding': 3050, 'benefits': 3051, 'braces': 3052, 'membership': 3053, 'jython': 3054, 'freezes': 3055, 'animated': 3056, 'nstimer': 3057, 'resizable': 3058, '34': 3059, 'keywords': 3060, 'fonts': 3061, 'easily': 3062, 'ie11': 3063, 'managepy': 3064, '23': 3065, '193': 3066, 'classic': 3067, 'subscript': 3068, 'elapsed': 3069, 'choosing': 3070, 'hit': 3071, 'karma': 3072, 'xls': 3073, 'svn': 3074, 'phpfpm': 3075, 'newlines': 3076, 'beta': 3077, 'bring': 3078, 'smarty': 3079, 'filled': 3080, 'hbase': 3081, 'followed': 3082, 'opacity': 3083, 'gae': 3084, 'ibm': 3085, 'peer': 3086, 'dots': 3087, 'indicator': 3088, 'restore': 3089, 'expire': 3090, 'javalangillegalstateexception': 3091, 'incoming': 3092, 'dns': 3093, 'dbcontext': 3094, 'mod_wsgi': 3095, 'states': 3096, 'conventions': 3097, 'ipn': 3098, 't_string': 3099, 'statistics': 3100, 'intersection': 3101, '26': 3102, 'gtk': 3103, 'submitted': 3104, 'formatter': 3105, 'scheme': 3106, 'score': 3107, 'tls': 3108, 'runnable': 3109, 'powerpoint': 3110, 'coverage': 3111, 'consumer': 3112, 'toolkit': 3113, 'attr': 3114, 'cons': 3115, 'calculations': 3116, 'considered': 3117, 'selectors': 3118, 'webmethod': 3119, 'human': 3120, 'sass': 3121, 'preferred': 3122, 'guide': 3123, 'mocha': 3124, 'steps': 3125, 'applicable': 3126, 'incrementing': 3127, 'parameterized': 3128, 'stringbuilder': 3129, 'ff': 3130, 'ssis': 3131, 'cocoapods': 3132, 'recommend': 3133, 'cloning': 3134, '1d': 3135, 'responses': 3136, 'newly': 3137, 'clustering': 3138, 'writer': 3139, 'javalangillegalargumentexception': 3140, 'ngmodel': 3141, 'stripe': 3142, 'duplicated': 3143, 'sessionfactory': 3144, 'infowindow': 3145, 'dialogs': 3146, 'quiz': 3147, 'quit': 3148, 'responding': 3149, 'jqueryajax': 3150, '1st': 3151, 'useful': 3152, 'marks': 3153, 'efficiency': 3154, 'truncate': 3155, 'hitting': 3156, 'removed': 3157, 'shopping': 3158, 'jqueryui': 3159, 'asio': 3160, 'synchronize': 3161, 'triggers': 3162, 'today': 3163, 'destination': 3164, 'valgrind': 3165, 'shutdown': 3166, 'telerik': 3167, 'utility': 3168, 'browse': 3169, 'translation': 3170, 'explode': 3171, '#include': 3172, 'ilist': 3173, 'sequences': 3174, 'future': 3175, 'specifier': 3176, 'vba': 3177, 'wildcards': 3178, 'equality': 3179, 'handlebars': 3180, 'springmvc': 3181, 'owin': 3182, 'na': 3183, 'alphabetical': 3184, 'protobuf': 3185, 'protect': 3186, 'happen': 3187, '000': 3188, 'specifically': 3189, 'literals': 3190, 'iis7': 3191, 'dropbox': 3192, 'pushing': 3193, 'disappears': 3194, 'training': 3195, 'certificates': 3196, 'loaderror': 3197, '302': 3198, 'axes': 3199, 'xamarinforms': 3200, 'migrate': 3201, 'answer': 3202, 'openlayers': 3203, 'org': 3204, 'g': 3205, 'suite': 3206, 'apostrophe': 3207, 'associations': 3208, 'artifact': 3209, 'arabic': 3210, 'exited': 3211, '80': 3212, 'ask': 3213, 'kafka': 3214, 'assert': 3215, 'appended': 3216, 'stretch': 3217, 'json_decode': 3218, 'ext': 3219, 'incorrectly': 3220, 'javalangclasscastexception': 3221, 'javaioioexception': 3222, 'filenames': 3223, 'ive': 3224, 'scikitlearn': 3225, 'interpreted': 3226, 'designing': 3227, 'disadvantages': 3228, 'restkit': 3229, '3x': 3230, 'nio': 3231, 'uirouter': 3232, 'desired': 3233, 'descriptor': 3234, 'umbraco': 3235, 'uitableviewcells': 3236, 'cipher': 3237, 'remotely': 3238, 'reliable': 3239, 'degrees': 3240, 'classloader': 3241, 'mysql_fetch_array': 3242, 'mvc5': 3243, 'music': 3244, 'dispose': 3245, 'scenario': 3246, 'mpmovieplayercontroller': 3247, 'mpi': 3248, 'worksheet': 3249, 'doctrine2': 3250, 'scopes': 3251, '43': 3252, 'scrollable': 3253, 'typefile': 3254, 'dollar': 3255, 'modification': 3256, 'modern': 3257, 'geolocation': 3258, 'classs': 3259, 'initializers': 3260, 'downloads': 3261, 'anchors': 3262, 'h2': 3263, 'gone': 3264, 'conflicting': 3265, 'parsecom': 3266, 'connector': 3267, 'portable': 3268, 'continuously': 3269, 'recognizing': 3270, 'controlling': 3271, 'corners': 3272, 'weeks': 3273, 'pipes': 3274, 'pictures': 3275, 'physical': 3276, 'wifi': 3277, 'produces': 3278, 'packet': 3279, 'concat': 3280, 'overwriting': 3281, 'foreground': 3282, 'unless': 3283, 'customized': 3284, 'abort': 3285, 'datastore': 3286, 'datatemplate': 3287, 'datetimepicker': 3288, 'acceptable': 3289, 'db2': 3290, 'occured': 3291, 'underscores': 3292, 'reasons': 3293, 'segment': 3294, 'charset': 3295, 'sparse': 3296, 'automate': 3297, 'maximize': 3298, 'benefit': 3299, 'manipulating': 3300, 'matched': 3301, 'masterpage': 3302, 'traversal': 3303, 'ago': 3304, '55': 3305, 'magic': 3306, 'evaluation': 3307, 'sheets': 3308, 'avplayer': 3309, 'marked': 3310, 'verification': 3311, 'es': 3312, 'axis2': 3313, 'manytoone': 3314, 'writes': 3315, 'linkbutton': 3316, 'social': 3317, 'servicestack': 3318, 'sonar': 3319, 'kit': 3320, 'bracket': 3321, 'doxygen': 3322, 'memorystream': 3323, 'fscanf': 3324, 'bucket': 3325, 'listobject': 3326, 'ones': 3327, 'pulling': 3328, 'instantiating': 3329, 'radius': 3330, 'zindex': 3331, 'compilers': 3332, 'pros': 3333, 'compression': 3334, 'overrides': 3335, 'unload': 3336, 'little': 3337, 'epoch': 3338, 'py': 3339, '2003': 3340, 'alternate': 3341, 'thousand': 3342, 'j2me': 3343, 'pydev': 3344, 'unicodeencodeerror': 3345, 'us': 3346, 'traffic': 3347, 'comes': 3348, 'openerp': 3349, 'pyside': 3350, 'dealloc': 3351, 'systems': 3352, 'corner': 3353, 'strict': 3354, 'pojo': 3355, 'lat': 3356, 'grey': 3357, 'php5': 3358, 'placed': 3359, 'knitr': 3360, 'xelement': 3361, 'k': 3362, 'pin': 3363, 'phpstorm': 3364, 'tail': 3365, 'invisible': 3366, 'keyup': 3367, 'upper': 3368, 'percent': 3369, 'promises': 3370, '_session': 3371, 'isset': 3372, 'wildfly': 3373, 'proguard': 3374, 'webforms': 3375, 'offline': 3376, 'interpolation': 3377, 'printed': 3378, 'unwanted': 3379, 'varchar': 3380, 'conflicts': 3381, 'autowired': 3382, 'inserts': 3383, 'past': 3384, 'xsl': 3385, 'expired': 3386, 'analysis': 3387, 'rand': 3388, 'mysql_query': 3389, 'interaction': 3390, 'gdi+': 3391, 'suddenly': 3392, '405': 3393, 'suffix': 3394, 'suggestions': 3395, 'summary': 3396, 'executes': 3397, 'visualization': 3398, 'reusing': 3399, 'xmlserializer': 3400, 'chaining': 3401, 'newbie': 3402, 'localized': 3403, 'multilevel': 3404, '42': 3405, 'f': 3406, 'flush': 3407, 'mp4': 3408, 'bot': 3409, 'intercept': 3410, 'calayer': 3411, 'interrupt': 3412, 'typedef': 3413, 'seperate': 3414, 'tmp': 3415, 'sender': 3416, 'wrapped': 3417, 'segfault': 3418, 'semicolon': 3419, '_': 3420, 'respect': 3421, 'effective': 3422, 'indexed': 3423, 'remember': 3424, 'annotated': 3425, 'definitions': 3426, 'slashes': 3427, 'decrypting': 3428, 'highchart': 3429, 'arraylists': 3430, 'nsurlconnection': 3431, 'red': 3432, 'declarations': 3433, 'slicing': 3434, 'advantage': 3435, 'looks': 3436, 'helpers': 3437, 'obtaining': 3438, 'located': 3439, 'resolving': 3440, 'accuracy': 3441, 'uisearchbar': 3442, 'indexhtml': 3443, 'simple_form': 3444, 'managing': 3445, 'noclassdeffounderror': 3446, 'electron': 3447, 'inheriting': 3448, 'hive': 3449, 'extern': 3450, 'integrity': 3451, 'ansi': 3452, 'techniques': 3453, 'integral': 3454, 'apk': 3455, 'anyway': 3456, 'focused': 3457, 'internally': 3458, 'fopen': 3459, 'textfile': 3460, 'term': 3461, 'malformed': 3462, 'ioexception': 3463, 'operands': 3464, 'windowlocation': 3465, 'rabbitmq': 3466, 'rectangles': 3467, 'redirected': 3468, 'redraw': 3469, 'refactoring': 3470, 'nsinvalidargumentexception': 3471, 'degree': 3472, 'released': 3473, 'remaining': 3474, '19': 3475, 'density': 3476, 'chunk': 3477, 'representing': 3478, 'chinese': 3479, 'vs2012': 3480, 'resized': 3481, 'vs2008': 3482, 'restarting': 3483, 'quality': 3484, 'cycle': 3485, 'tabbar': 3486, 'oriented': 3487, 'contexts': 3488, 'pom': 3489, 'permutations': 3490, 'popover': 3491, 'contenttype': 3492, 'posix': 3493, 'construction': 3494, 'crossbrowser': 3495, 'crossdomain': 3496, 'connectionstring': 3497, 'prestashop': 3498, 'previously': 3499, 'processstart': 3500, 'profiling': 3501, 'overlap': 3502, 'computed': 3503, 'overhead': 3504, 'curly': 3505, 'curve': 3506, 'nesting': 3507, 'rewriting': 3508, 'rolling': 3509, 'visitors': 3510, 'splash': 3511, 'erase': 3512, 'spritekit': 3513, 'backslash': 3514, 'establish': 3515, 'exercise': 3516, 'existence': 3517, 'expose': 3518, 'subdomains': 3519, 'subprocesspopen': 3520, 'fadein': 3521, 'jmeter': 3522, 'assemblies': 3523, 'xmlreader': 3524, 'javac': 3525, 'japanese': 3526, 'j2ee': 3527, 'iqueryable': 3528, 'flat': 3529, 'specification': 3530, 'solutions': 3531, 'x86_64': 3532, 'migrations': 3533, 'salesforce': 3534, 'msvc': 3535, 'caller': 3536, 'movie': 3537, 'movement': 3538, 'scrolled': 3539, 'mix': 3540, 'minimize': 3541, 'seo': 3542, 'beyond': 3543, 'messaging': 3544, 'boundary': 3545, 'mdb': 3546, 'mass': 3547, 'sidebar': 3548, 'mamp': 3549, 'simply': 3550, 'sized': 3551, 'seen': 3552, 'pick': 3553, 'activation': 3554, 'traverse': 3555, 'actionscript': 3556, '__init__': 3557, 'implementations': 3558, 'timestamps': 3559, 'activemq': 3560, 'tips': 3561, 'transient': 3562, 'googles': 3563, 'ignores': 3564, 'timeline': 3565, 'uploader': 3566, 'transformation': 3567, 'imagefield': 3568, 'unordered': 3569, 'todays': 3570, 'hdfs': 3571, 'threw': 3572, 'geocoding': 3573, 'hy000': 3574, 'ticks': 3575, 'unicodedecodeerror': 3576, 'algorithms': 3577, 'uinavigationbar': 3578, 'gmt': 3579, 'tile': 3580, 'yield': 3581, '_files': 3582, 'hhmmss': 3583, 'aligned': 3584, 'activex': 3585, 'presence': 3586, 'ssrs': 3587, 'viewport': 3588, 'secret': 3589, 'nonblocking': 3590, 'supporting': 3591, 'wp8': 3592, 'anyobject': 3593, 'placement': 3594, 'optimized': 3595, 'workflow': 3596, 'openshift': 3597, 'opencl': 3598, 'storyboards': 3599, 'javalangnosuchmethoderror': 3600, 'sqlcommand': 3601, 'imshow': 3602, 'selects': 3603, 'int32': 3604, 'resetting': 3605, 'sdl': 3606, 'xhtml': 3607, 'scaling': 3608, 'ninject': 3609, 'osgi': 3610, 'punctuation': 3611, 'scientific': 3612, 'webcam': 3613, 'stdset': 3614, 'djangorestframework': 3615, 'correlation': 3616, 'intended': 3617, 'demo': 3618, 'requiring': 3619, 'vsto': 3620, 'lambdas': 3621, 'cake': 3622, 'vagrant': 3623, 'docx': 3624, 'dao': 3625, 'supposed': 3626, 'nib': 3627, 'autowire': 3628, 'availability': 3629, 'factorygirl': 3630, 'collector': 3631, 'varying': 3632, 'accurate': 3633, 'nspredicate': 3634, 'constantly': 3635, 'transparency': 3636, 'ios5': 3637, 'flexible': 3638, 'transport': 3639, 'periodically': 3640, 'credit': 3641, 'loses': 3642, 'edition': 3643, 'mathematical': 3644, 'alphabet': 3645, 'observe': 3646, 'markup': 3647, 'bidirectional': 3648, 'flags': 3649, 'recording': 3650, 'itemssource': 3651, 'simultaneous': 3652, 'systemstring': 3653, 'mapkit': 3654, 'debian': 3655, 'numerical': 3656, 'gb': 3657, 'signals': 3658, 'ocr': 3659, 'wav': 3660, 'mechanism': 3661, 'girl': 3662, 'hyphen': 3663, 'sends': 3664, 'onetoone': 3665, 'taskbar': 3666, 'separately': 3667, 'expensive': 3668, 'env': 3669, 'writable': 3670, 'policy': 3671, 'vbscript': 3672, 'preference': 3673, 'transactional': 3674, 'borders': 3675, 'polyline': 3676, 'jasperreports': 3677, 'predicate': 3678, 'predefined': 3679, 'x86': 3680, 'raising': 3681, 'argumenterror': 3682, 'highlighted': 3683, 'args': 3684, 'randomize': 3685, 'dynamodb': 3686, 'samples': 3687, 'combined': 3688, 'processor': 3689, 'things': 3690, 'jodatime': 3691, 'paper': 3692, 'subfolders': 3693, 'inconsistent': 3694, 'carriage': 3695, 'retry': 3696, 'overridden': 3697, 'think': 3698, 'subplots': 3699, 'substrings': 3700, 'textures': 3701, 'jscript': 3702, 'associate': 3703, 'aka': 3704, 'facet': 3705, 'stub': 3706, 'uiimagepickercontroller': 3707, 'welcome': 3708, 'digital': 3709, 'dirty': 3710, 'neural': 3711, 'forloop': 3712, 'hanging': 3713, 'handles': 3714, 'volley': 3715, 'culture': 3716, 'outofmemoryerror': 3717, 'forever': 3718, 'navigating': 3719, 'serialport': 3720, 'neither': 3721, 'album': 3722, 'viewbag': 3723, 'preferences': 3724, 'raised': 3725, 'polling': 3726, '128': 3727, 'classcastexception': 3728, 'arm': 3729, 'breakpoints': 3730, 'taken': 3731, 'breakpoint': 3732, 'xmpp': 3733, 'dictionarystring': 3734, 'regardless': 3735, 'notepad++': 3736, 'contextmenu': 3737, 'sortable': 3738, 'solved': 3739, 'hovering': 3740, 'releasing': 3741, 'driven': 3742, 'ci': 3743, 'guessing': 3744, 'datarow': 3745, 'holding': 3746, 'qstring': 3747, 'categorical': 3748, 'datalist': 3749, 'chunks': 3750, 'sequentially': 3751, 'sqlexception': 3752, 'depends': 3753, 'viewing': 3754, 'az': 3755, 'awt': 3756, 'although': 3757, 'cin': 3758, 'uitableviewcontroller': 3759, 'downgrade': 3760, 'diagonal': 3761, 'xmlelement': 3762, 'delimiters': 3763, 'addin': 3764, 'deletion': 3765, 'disconnect': 3766, 'middleware': 3767, 'hack': 3768, 'speech': 3769, 'subtracting': 3770, 'tweet': 3771, 'targets': 3772, 'asterisk': 3773, 'sequential': 3774, 'ioc': 3775, 'vertex': 3776, 'webpages': 3777, 'systemnullreferenceexception': 3778, 'gstreamer': 3779, 'mappings': 3780, 'contenteditable': 3781, 'dbmigrate': 3782, 'cocos2dx': 3783, 'effectively': 3784, 'emulate': 3785, 'official': 3786, 'freed': 3787, 'portion': 3788, 'marshal': 3789, 'ef6': 3790, 'windowprint': 3791, 'wxwidgets': 3792, 'simulation': 3793, 'adobe': 3794, 'perfect': 3795, 'readline': 3796, 'ddmmyyyy': 3797, 'possibly': 3798, 'pdfs': 3799, 'contacts': 3800, 'mainwindow': 3801, 'pdoexception': 3802, 'subquery': 3803, 'pi': 3804, 'natural': 3805, 'significant': 3806, 'richfaces': 3807, 'finishes': 3808, 'admob': 3809, 'board': 3810, 'marshalling': 3811, 'uicollectionviewcell': 3812, 'reducing': 3813, 'ram': 3814, 'subclasses': 3815, 'translating': 3816, 'pid': 3817, 'reversing': 3818, 'threadsleep': 3819, 'xy': 3820, 'gemfile': 3821, 'subdirectory': 3822, 'alone': 3823, 'alertdialog': 3824, 'rank': 3825, 'mb': 3826, 'raphaeljs': 3827, 'wants': 3828, 'nuget': 3829, 'eclipselink': 3830, 'setters': 3831, 'transpose': 3832, 'unbind': 3833, 'pre': 3834, 'pad': 3835, 'redirect_to': 3836, 'trap': 3837, 'accepts': 3838, 'loss': 3839, 'webform': 3840, 'hides': 3841, 'enclosing': 3842, 'ideas': 3843, 'age': 3844, 'drawer': 3845, 'mod': 3846, '2dimensional': 3847, 'checkboxlist': 3848, 'atomic': 3849, 'configurable': 3850, 'hardware': 3851, 'hashcode': 3852, 'nonascii': 3853, 'jwt': 3854, 'unset': 3855, 'legacy': 3856, 'layouts': 3857, 'chosen': 3858, 'amounts': 3859, 'thousands': 3860, 'cards': 3861, 'sailsjs': 3862, 'svm': 3863, 'frequent': 3864, 'leaves': 3865, 'unsafe': 3866, 'ld': 3867, 'presses': 3868, 'dispatch': 3869, 'se': 3870, 'compared': 3871, 'hresult': 3872, 'cassandra': 3873, 'javanetsocketexception': 3874, 'calculated': 3875, 'homepage': 3876, 'attack': 3877, 'homebrew': 3878, 'attaching': 3879, 'xhr': 3880, 'arrows': 3881, 'asking': 3882, 'exc_bad_access': 3883, 'placeholders': 3884, 'workspace': 3885, 'scrollbars': 3886, 'ampersand': 3887, 'partially': 3888, 'unserialize': 3889, 'timespan': 3890, '90': 3891, 'tooltips': 3892, 'requirements': 3893, 'feeds': 3894, 'news': 3895, 'grayscale': 3896, 'jsonstringify': 3897, 'reflect': 3898, 'itemtemplate': 3899, 'adds': 3900, 'lvalue': 3901, 'soft': 3902, 'findall': 3903, 'wizard': 3904, 'filesystem': 3905, 'windowonload': 3906, '#2': 3907, 'inflating': 3908, 'locks': 3909, 'nsdateformatter': 3910, 'prev': 3911, 'lang': 3912, 'reactnative': 3913, 'concept': 3914, 'greek': 3915, 'fake': 3916, 'alter': 3917, 'glsl': 3918, 'argv': 3919, 'blog': 3920, 'mysqli_query': 3921, 'subdirectories': 3922, 'httpresponse': 3923, 'sizeof': 3924, 'accepted': 3925, 'submenu': 3926, 'filtered': 3927, 'occur': 3928, 'sunday': 3929, '1204': 3930, 'lose': 3931, 'outputstream': 3932, 'hot': 3933, 'annotate': 3934, 't_variable': 3935, 'getters': 3936, 'ipaddress': 3937, 'subject': 3938, 'indexerror': 3939, 'amp': 3940, 'observer': 3941, 'recyclerview': 3942, 'stock': 3943, 'activities': 3944, 'flasksqlalchemy': 3945, 'ppt': 3946, 'rubygems': 3947, 'suspend': 3948, 'snake': 3949, 'identifying': 3950, 'swagger': 3951, 'interact': 3952, 'mutable': 3953, 'platforms': 3954, 'decrement': 3955, 'nsobject': 3956, 'logon': 3957, 'emit': 3958, 'margins': 3959, 'smoothly': 3960, 'act': 3961, 'docs': 3962, 'iterable': 3963, 'directions': 3964, 'activate': 3965, 'pthread_create': 3966, 'nice': 3967, 'payments': 3968, 'thirdparty': 3969, 'happening': 3970, 'flex': 3971, 'outputs': 3972, 'bat': 3973, 'friend': 3974, 'doubly': 3975, 'actively': 3976, 'factors': 3977, 'multiplying': 3978, 'qtcreator': 3979, 'administrator': 3980, 'templated': 3981, 'reply': 3982, 'discrete': 3983, 'clojure': 3984, 'removal': 3985, 'tpl': 3986, 'circles': 3987, 'validations': 3988, 'addeventlistener': 3989, 'stanford': 3990, 'consumption': 3991, 'colored': 3992, 'weak': 3993, 'shouldnt': 3994, 'meteorjs': 3995, 'remain': 3996, 'sqlconnection': 3997, 'cout': 3998, 'shortest': 3999, 'pending': 4000, 'anymore': 4001, 'receiver': 4002, 'crossorigin': 4003, 'timeseries': 4004, 'chromedriver': 4005, 'subscribe': 4006, 'operating': 4007, 'elementwise': 4008, '09': 4009, 'license': 4010, 'stackoverflow': 4011, 'opensource': 4012, 'leopard': 4013, 'disposed': 4014, 'linearlayout': 4015, 'aop': 4016, '256': 4017, 'outline': 4018, 'expect': 4019, 'func': 4020, 'expanding': 4021, 'userdefined': 4022, 'masked': 4023, 'nonzero': 4024, 'latex': 4025, 'invalidate': 4026, 'collectionview': 4027, 'producer': 4028, 'turned': 4029, 'relational': 4030, 'childs': 4031, 'buffers': 4032, 'pretty': 4033, 'rejected': 4034, 'scrolltop': 4035, 'pyplot': 4036, 'vnext': 4037, 'windsor': 4038, 'onclicklistener': 4039, 'copied': 4040, 'cpanel': 4041, 'fallback': 4042, 'drawrect': 4043, 'daemon': 4044, 'httpservletrequest': 4045, 'wp': 4046, 'sense': 4047, 'stringsplit': 4048, 'mysql2': 4049, 'captured': 4050, 'mysql_connect': 4051, 'immediate': 4052, 'titles': 4053, 'usable': 4054, 'affect': 4055, 'asm': 4056, 'spider': 4057, '192': 4058, 'disappearing': 4059, 'separating': 4060, 'environments': 4061, 'underline': 4062, 'impossible': 4063, 'attempts': 4064, 'machines': 4065, 'rcp': 4066, 'prototypes': 4067, 'prints': 4068, 'street': 4069, 'helloworld': 4070, 'straight': 4071, 'parameterless': 4072, 'outofmemoryexception': 4073, 'profiler': 4074, 'constructed': 4075, 'strcpy': 4076, 'timezones': 4077, 'timing': 4078, 'submits': 4079, 'oauth2': 4080, 'reach': 4081, 'improving': 4082, 'lan': 4083, 'skipping': 4084, 'oserror': 4085, 'avaudioplayer': 4086, 'wide': 4087, 'fan': 4088, 'barcode': 4089, 'illegalstateexception': 4090, 'prop': 4091, 'timeouts': 4092, 'toggling': 4093, 'probability': 4094, 'unfortunately': 4095, 'organize': 4096, 'specialization': 4097, 'llvm': 4098, 'pyramid': 4099, 'enumerate': 4100, 'badge': 4101, 'backwards': 4102, 'backspace': 4103, 'lengths': 4104, 'optimal': 4105, 'stable': 4106, 'blackberry': 4107, 'openxml': 4108, 'limitations': 4109, 'sys': 4110, 'stamp': 4111, 'onsubmit': 4112, 'stroke': 4113, 'figures': 4114, 'legal': 4115, 'strongly': 4116, 'backgroundimage': 4117, 'exposing': 4118, 'cropping': 4119, 'preferably': 4120, 'affected': 4121, 'slug': 4122, 'comparisons': 4123, 'parenthesis': 4124, 'cshtml': 4125, '75': 4126, 'raspberry': 4127, 'smart': 4128, 'kml': 4129, 'j': 4130, 'kinect': 4131, 'ascx': 4132, 'has_one': 4133, 'important': 4134, 'lot': 4135, 'concrete': 4136, 'unmarshalling': 4137, 'yesterday': 4138, 'coldfusion': 4139, '__attribute__': 4140, 'java_home': 4141, 'crontab': 4142, 'communicating': 4143, 'pyc': 4144, 'cstring': 4145, 'stdclass': 4146, 'subtraction': 4147, 'snap': 4148, 'becomes': 4149, 'pro': 4150, '70': 4151, 'assignments': 4152, 'allocating': 4153, 'comparator': 4154, 'www': 4155, 'digest': 4156, 'sibling': 4157, 'tfs': 4158, 'dropping': 4159, 'serversocket': 4160, 'turns': 4161, 'delayed': 4162, 'relations': 4163, 'person': 4164, 'apns': 4165, '36': 4166, 'disconnected': 4167, 'hyperlinks': 4168, 'segments': 4169, 'resulting': 4170, 'intervals': 4171, 'bytearray': 4172, 'inspect': 4173, 'apache2': 4174, 'chance': 4175, 'castle': 4176, 'hub': 4177, 'usercontrols': 4178, 'accounts': 4179, 'retrieval': 4180, 'theano': 4181, 'routeprovider': 4182, 'nsurl': 4183, 'mavericks': 4184, 'versioning': 4185, 'maximized': 4186, 'appium': 4187, 'maybe': 4188, 'flickering': 4189, 'refactor': 4190, 'didselectrowatindexpath': 4191, '502': 4192, 'ear': 4193, 'meant': 4194, '05': 4195, 'theres': 4196, 'dynamics': 4197, 'rotated': 4198, 'involving': 4199, 'permitted': 4200, 'permutation': 4201, '__getitem__': 4202, 'visit': 4203, 'unbound': 4204, 'deviation': 4205, 'hooks': 4206, 'terms': 4207, 'corrupt': 4208, 'rubys': 4209, '1404': 4210, 'acting': 4211, 'detached': 4212, 'require_once': 4213, 'displaynone': 4214, 'typetext': 4215, 'acquire': 4216, 'scanning': 4217, 'placing': 4218, 'say': 4219, 'among': 4220, 'djangoadmin': 4221, 'ngshow': 4222, 'distinguish': 4223, 'sandbox': 4224, 'capitalize': 4225, 'cascade': 4226, 'worth': 4227, '16bit': 4228, 'interest': 4229, 'grammar': 4230, 'viewpager': 4231, 'wheel': 4232, 'nonempty': 4233, 'temp': 4234, 'gray': 4235, 'internationalization': 4236, 'temperature': 4237, 'secured': 4238, 'international': 4239, 'repo': 4240, 'couchdb': 4241, 'repositories': 4242, 'caseinsensitive': 4243, 'newer': 4244, 'cost': 4245, 'cascading': 4246, 'represented': 4247, 'corruption': 4248, 'ws': 4249, 'discover': 4250, 'edited': 4251, 'manner': 4252, 'clob': 4253, 'five': 4254, 'grabbing': 4255, 'mapper': 4256, 'cellforrowatindexpath': 4257, 'shorter': 4258, 'contentlength': 4259, 'getelementsbyclassname': 4260, 'dir': 4261, 'showdialog': 4262, 'accessor': 4263, 'rect': 4264, 'ipv6': 4265, 'shell_exec': 4266, 'forwarding': 4267, 'receives': 4268, 'weka': 4269, '71': 4270, 'outgoing': 4271, 'ddl': 4272, 'bindingsource': 4273, 'des': 4274, 'props': 4275, 'intermediate': 4276, 'eliminate': 4277, 'ctrl': 4278, 'secondary': 4279, 'inherits': 4280, 'follows': 4281, 'len': 4282, 'idiom': 4283, 'presentation': 4284, 'simplexmlelement': 4285, 'ordinal': 4286, 'stores': 4287, 'simplify': 4288, 'half': 4289, 'scrolls': 4290, 'mvc2': 4291, 'de': 4292, 'percentages': 4293, 'webxml': 4294, 'monday': 4295, 'autoscroll': 4296, 'webapplication': 4297, 'ini': 4298, 'commaseparated': 4299, 'leads': 4300, 'reads': 4301, 'moment': 4302, 'autowiring': 4303, 'perfectly': 4304, 'converts': 4305, 'automating': 4306, 'repaint': 4307, 'rmarkdown': 4308, 'suggestion': 4309, 'anywhere': 4310, 'lifecycle': 4311, 'javalangunsatisfiedlinkerror': 4312, 'gridlayout': 4313, 'panning': 4314, 'reconnect': 4315, 'lifetime': 4316, 'openid': 4317, 'reactrouter': 4318, 'backcolor': 4319, 'instruction': 4320, 'triangles': 4321, 'unlock': 4322, 'squares': 4323, 'libs': 4324, 'fosuserbundle': 4325, 'stringreplace': 4326, 'repeats': 4327, 'arrayliststring': 4328, 'sides': 4329, 'phase': 4330, 'partialview': 4331, 'trees': 4332, 'q': 4333, 'objectid': 4334, 'technique': 4335, 'opposed': 4336, 'sscanf': 4337, 'uitabbarcontroller': 4338, 'mandatory': 4339, 'dos': 4340, 'seeing': 4341, 'dead': 4342, 'phtml': 4343, 'ngif': 4344, 'requirement': 4345, 'killed': 4346, 'subscription': 4347, 'aspectj': 4348, 'hhmm': 4349, 'destruction': 4350, 'dock': 4351, 'fetched': 4352, 'pager': 4353, 'httprequest': 4354, 'nas': 4355, 'purposes': 4356, 'checkedlistbox': 4357, 'godaddy': 4358, 'destroyed': 4359, 'compareto': 4360, 'textfields': 4361, 'expiration': 4362, 'latin': 4363, 'compiletime': 4364, 'u': 4365, 'mstest': 4366, 'msg': 4367, 'strength': 4368, 'isolate': 4369, 'dist': 4370, 'outofmemory': 4371, 'disposing': 4372, 'executereader': 4373, 'providing': 4374, 'parallelforeach': 4375, 'rxjava': 4376, 'published': 4377, 'keystore': 4378, 'subqueries': 4379, 'stdlist': 4380, 'conform': 4381, 'newtonsoftjson': 4382, 'moved': 4383, 'mousedown': 4384, 'centering': 4385, 'motion': 4386, 'monthly': 4387, 'monotouch': 4388, 'xx': 4389, 'interceptor': 4390, 'cvmat': 4391, 'crawling': 4392, 'inactive': 4393, 'instanceof': 4394, 'grep': 4395, 'nav': 4396, 'documentready': 4397, 'playlist': 4398, 'attacks': 4399, 'sums': 4400, 'realloc': 4401, 'mousemove': 4402, 'move_uploaded_file': 4403, 'as3': 4404, 'scoping': 4405, 'mouseout': 4406, 'prevents': 4407, 'reserved': 4408, 'rearrange': 4409, 'scratch': 4410, 'requesting': 4411, 'swapping': 4412, 'comparable': 4413, 'lag': 4414, 'systemtimerstimer': 4415, '111': 4416, 'interpret': 4417, 'exiting': 4418, 'selectedindex': 4419, 'predict': 4420, 'dtype': 4421, 'userid': 4422, 'dummy': 4423, 'clauses': 4424, 'bridge': 4425, 'getelementsbytagname': 4426, 'robot': 4427, 'uibarbuttonitem': 4428, 'engines': 4429, 'neo4j': 4430, 'cleanup': 4431, 'hand': 4432, 'reusable': 4433, 'jpanels': 4434, 'setattribute': 4435, 'retrive': 4436, 'whitespaces': 4437, 'pieces': 4438, 'solving': 4439, 'histograms': 4440, 'dropdowns': 4441, 'prefer': 4442, 'crawl': 4443, 'guaranteed': 4444, 'hint': 4445, 'marionette': 4446, 'transactionscope': 4447, 'gap': 4448, 'ensuring': 4449, 'asterisks': 4450, 'portrait': 4451, 'browserify': 4452, 'falls': 4453, 'recover': 4454, 'become': 4455, 'ioerror': 4456, 'notebook': 4457, 'uml': 4458, 'traversing': 4459, 'analog': 4460, 'declares': 4461, 'behave': 4462, 'ios8': 4463, 'behaving': 4464, 'undo': 4465, 'jinja': 4466, 'belong': 4467, 'warn': 4468, 'settext': 4469, 'rating': 4470, 'redirecttoaction': 4471, 'whilst': 4472, 'benchmark': 4473, 'phrase': 4474, 'early': 4475, 'nsmutabledictionary': 4476, 'recv': 4477, 'concepts': 4478, 'transitions': 4479, 'subarray': 4480, 'iterations': 4481, 'mediawiki': 4482, 'sklearn': 4483, 'reversed': 4484, 'ended': 4485, 'tablet': 4486, 'nsnumber': 4487, 'pausing': 4488, 'robust': 4489, 'permgen': 4490, 'arg': 4491, 'adjusting': 4492, 'jruby': 4493, 'java8': 4494, 'basics': 4495, 'concurrenthashmap': 4496, 'troubles': 4497, 'reliably': 4498, 'vb6': 4499, 'datarows': 4500, 'form1': 4501, 'javaiofilenotfoundexception': 4502, 'situation': 4503, 'unpack': 4504, 'unterminated': 4505, 'xxxx': 4506, 'bundles': 4507, 'busy': 4508, 'affecting': 4509, 'rn': 4510, 'webstorm': 4511, 'strong': 4512, 'erb': 4513, 'minimal': 4514, 'networking': 4515, 'springs': 4516, 'datasources': 4517, 'visitor': 4518, 'consider': 4519, 'jdbctemplate': 4520, 'vars': 4521, 'contour': 4522, 'backward': 4523, 'deny': 4524, 'contract': 4525, 'datasets': 4526, 'quickest': 4527, 'biggest': 4528, 'onblur': 4529, 'patch': 4530, 'affects': 4531, 'drools': 4532, 'talk': 4533, 'form_for': 4534, 'selecteditem': 4535, '46': 4536, 'lnk2019': 4537, 'mistake': 4538, 'reactive': 4539, 'reject': 4540, 'vista': 4541, 'linebreaks': 4542, 'size_t': 4543, 'filenotfoundexception': 4544, 'jsfiddle': 4545, 'aligning': 4546, 'fixing': 4547, 'generators': 4548, 'i++': 4549, 'programmatic': 4550, 'exits': 4551, 'otherwise': 4552, 'di': 4553, 'capital': 4554, 'respective': 4555, 'catalog': 4556, 'programmer': 4557, 'die': 4558, 'difficulty': 4559, 'vowels': 4560, 'unnecessary': 4561, 'inactivity': 4562, 'unqualifiedid': 4563, 'captcha': 4564, 'uibuttons': 4565, 'compressing': 4566, 'roll': 4567, 'dim': 4568, 'room': 4569, 'stylesheets': 4570, 'overwritten': 4571, 'stringify': 4572, 'protection': 4573, 'jobject': 4574, 'mysql_num_rows': 4575, 'expiry': 4576, 'struggling': 4577, 'routine': 4578, 'student': 4579, 'assume': 4580, 'jquerymobile': 4581, 'restricting': 4582, 'actionlink': 4583, 'attempted': 4584, 'centered': 4585, 'differ': 4586, 'extremely': 4587, 'joined': 4588, 'developers': 4589, 'runner': 4590, 'compressed': 4591, 'mvn': 4592, 'cdi': 4593, 'freezing': 4594, 'runserver': 4595, 'actionresult': 4596, 'volatile': 4597, 'subcategories': 4598, 'rightclick': 4599, 'exponent': 4600, 'visited': 4601, 'ie10': 4602, 'current_user': 4603, 'nsinteger': 4604, 'refuses': 4605, 'viable': 4606, 'branch': 4607, '106': 4608, 'boxplot': 4609, 'log4jxml': 4610, 'socketexception': 4611, 'nsmanagedobject': 4612, 'setcookie': 4613, 'datetimes': 4614, 'boundaries': 4615, 'soapclient': 4616, 'endless': 4617, 'unescape': 4618, 'logo': 4619, 'transforming': 4620, 'defaults': 4621, 'normalize': 4622, 'often': 4623, 'quotation': 4624, 'oncreate': 4625, 'buffered': 4626, 'note': 4627, 'bubbling': 4628, 'basis': 4629, 'browsing': 4630, 'datetimefield': 4631, 'transferred': 4632, 'met': 4633, 'deferred': 4634, 'localtime': 4635, 'locating': 4636, 'enhanced': 4637, 'servletcontext': 4638, '#object': 4639, '503': 4640, 'decorators': 4641, 'windowsh': 4642, 'gcd': 4643, 'recommendations': 4644, 'simplexml_load_string': 4645, 'idiomatic': 4646, 'triple': 4647, 'recognised': 4648, 'verifying': 4649, 'birth': 4650, 'ellipse': 4651, 'recipients': 4652, 'signing': 4653, '110': 4654, 'recipient': 4655, 'tries': 4656, 'blade': 4657, 'shipping': 4658, 'read_csv': 4659, 'mapstring': 4660, 'books': 4661, 'matter': 4662, 'adjacent': 4663, 'mathround': 4664, 'advance': 4665, 'decoded': 4666, 'rbind': 4667, '#pragma': 4668, '323': 4669, 'massive': 4670, 'truncating': 4671, 'bigdecimal': 4672, 'bigger': 4673, 'troubleshooting': 4674, 'lwjgl': 4675, 'drawimage': 4676, 'tweets': 4677, 'distributed': 4678, 'complains': 4679, 'compiles': 4680, 'toolbox': 4681, 'killing': 4682, '__dopostback': 4683, 'purchase': 4684, 'pushed': 4685, 'mozilla': 4686, 'moves': 4687, 'puzzle': 4688, 'checks': 4689, 'cv': 4690, 'mouseenter': 4691, 'requestbody': 4692, 'autoload': 4693, 'stays': 4694, 'publishing': 4695, 'executenonquery': 4696, 'sphere': 4697, 'scenarios': 4698, 'str_replace': 4699, 'aurelia': 4700, 'complicated': 4701, 'uint8_t': 4702, 'workers': 4703, 'cancellation': 4704, 'saying': 4705, 'wise': 4706, 'executorservice': 4707, 'authenticating': 4708, 'keycode': 4709, 'complement': 4710, 'scatterplot': 4711, 'keyerror': 4712, 'sticky': 4713, 'monodevelop': 4714, 'air': 4715, 'cyrillic': 4716, 'daily': 4717, 'twoway': 4718, 'selectedindexchanged': 4719, 'selectedvalue': 4720, 'qt5': 4721, 'spy': 4722, 'colours': 4723, 'depend': 4724, 'springsecurity': 4725, 'addclass': 4726, 'viewed': 4727, 'quantity': 4728, 'banner': 4729, 'million': 4730, 'viewdidload': 4731, 'midnight': 4732, 'sqlparameter': 4733, 'sqlserver': 4734, 'reopen': 4735, 'stale': 4736, 'money': 4737, '301': 4738, 'hashmaps': 4739, 'var_dump': 4740, 'standards': 4741, 'modalpopupextender': 4742, 'securely': 4743, 'reordering': 4744, 'dashes': 4745, 'stage': 4746, 'hasmany': 4747, 'viewmodels': 4748, 'mocked': 4749, 'opera': 4750, 'euler': 4751, 'listint': 4752, 'parseint': 4753, 'print_r': 4754, 'groupbox': 4755, 'flipping': 4756, 'popular': 4757, 'pane': 4758, 'alt': 4759, 'javalangnumberformatexception': 4760, 'proc': 4761, 'poor': 4762, 'instant': 4763, 'javalangruntimeexception': 4764, 'far': 4765, 'timers': 4766, 'appdelegate': 4767, 'prepend': 4768, 'connectivity': 4769, 'fashion': 4770, 'javalanginteger': 4771, 'periodic': 4772, 'premature': 4773, 'popups': 4774, 'finger': 4775, 'fileoutputstream': 4776, 'created_at': 4777, 'pem': 4778, 'injected': 4779, 'firebird': 4780, 'urlopen': 4781, 'th': 4782, 'porting': 4783, 'fall': 4784, 'pan': 4785, 'inference': 4786, 'succeeded': 4787, 'xmlns': 4788, 'tabbed': 4789, 'goal': 4790, 'polynomial': 4791, 'update_attributes': 4792, 'uuid': 4793, 'tdd': 4794, 'configurations': 4795, 'technology': 4796, 'fontawesome': 4797, 'weekly': 4798, 'phones': 4799, 'primaryexpression': 4800, 'feel': 4801, 'suggest': 4802, 'ashx': 4803, 'weekends': 4804, 'interacting': 4805, 'corresponds': 4806, 'initialise': 4807, 'feedback': 4808, 'superview': 4809, 'counts': 4810, 'couple': 4811, 'artifacts': 4812, 'paragraphs': 4813, '#1': 4814, 'javanetconnectexception': 4815, 'tapped': 4816, 'utf': 4817, 'crossthread': 4818, 'jbuttons': 4819, 'taskrun': 4820, 'pods': 4821, 'pod': 4822, 'confusing': 4823, 'instructions': 4824, 'sun': 4825, 'tbody': 4826, 'interprocess': 4827, 'articles': 4828, 'findviewbyid': 4829, 'grant': 4830, 'indirect': 4831, 'paginate': 4832, 'zurb': 4833, 'picking': 4834, 'precise': 4835, 'fadeout': 4836, 'constructing': 4837, '0s': 4838, 'urllib': 4839, 'tiles': 4840, 'pound': 4841, 'jasperreport': 4842, 'gsub': 4843, 'practical': 4844, 'pow': 4845, 'practise': 4846, 'webrequest': 4847, 'webpart': 4848, 'inmemory': 4849, 'subsets': 4850, 'systemint32': 4851, 'relevant': 4852, 'late': 4853, 'switchcase': 4854, 'static_cast': 4855, 'targeting': 4856, 'launcher': 4857, 'statically': 4858, 'ews': 4859, 'latin1': 4860, 'before_save': 4861, 'removeclass': 4862, 'selectlist': 4863, 'endpoints': 4864, 'pylab': 4865, 'zipping': 4866, 'viewcontrollers': 4867, 'fstream': 4868, 'symmetric': 4869, 'stacktrace': 4870, 'flushing': 4871, 'commons': 4872, 'impact': 4873, 'stackoverflowerror': 4874, 'slices': 4875, 'google+': 4876, '303': 4877, '187': 4878, 'rc': 4879, 'unspecified': 4880, 'evenly': 4881, 'semantic': 4882, 'dashboard': 4883, 'hyphens': 4884, 'buildxml': 4885, 'noob': 4886, 'continuewith': 4887, 'eventhandler': 4888, 'hashtag': 4889, 'remainder': 4890, 'deletes': 4891, 'varbinary': 4892, 'separation': 4893, 'presented': 4894, 'intranet': 4895, 'cover': 4896, 'normally': 4897, 'fieldset': 4898, 'evaluated': 4899, 'autoincrement': 4900, 'mimetype': 4901, 'obtained': 4902, 'delivery': 4903, 'minification': 4904, 'javasqldate': 4905, 'games': 4906, 'minimized': 4907, 'zipped': 4908, 'eventlistener': 4909, 'simplexml_load_file': 4910, 'commysqljdbcdriver': 4911, 'orgjsonjsonexception': 4912, 'slows': 4913, 'viewstate': 4914, 'chef': 4915, 'documentcreateelement': 4916, '_request': 4917, 'deserialized': 4918, 'deselect': 4919, 'unlimited': 4920, 'javax': 4921, 'homework': 4922, 'describe': 4923, 'authorized': 4924, 'wget': 4925, 'tensor': 4926, 'stdthread': 4927, 'playback': 4928, 'ifstream': 4929, 'accents': 4930, 'typeof': 4931, 'plan': 4932, 'kendoui': 4933, 'behaves': 4934, 'keras': 4935, 'destructors': 4936, 'german': 4937, 'scikit': 4938, 'beginners': 4939, 'x11': 4940, 'completes': 4941, 'indexer': 4942, 'requestparam': 4943, 'individually': 4944, 'ptr': 4945, 'ca': 4946, 'fontsize': 4947, 'templating': 4948, 'stdfunction': 4949, 'wave': 4950, 'indirectly': 4951, 'uitabbar': 4952, 'nonexistent': 4953, 'chromes': 4954, 'nongeneric': 4955, 'c#s': 4956, 'repetition': 4957, 'team': 4958, 'snow': 4959, 'endian': 4960, 'accented': 4961, 'avfoundation': 4962, 'raw_input': 4963, 'c++0x': 4964, 'followers': 4965, 'prices': 4966, 'push_back': 4967, 'formset': 4968, 'alloc': 4969, 'modifiers': 4970, 'logistic': 4971, 'itunes': 4972, 'modes': 4973, 'reponse': 4974, 'nondefault': 4975, 'modelsave': 4976, 'typecasting': 4977, '0xc0000005': 4978, 'derive': 4979, 'pushviewcontroller': 4980, 'l': 4981, 'pg': 4982, 'driving': 4983, 'addon': 4984, 'alphabets': 4985, 'splice': 4986, 'applicationcontext': 4987, 'potentially': 4988, 'equations': 4989, 'localize': 4990, 'listitem': 4991, 'nullpointer': 4992, '310': 4993, 'rails4': 4994, 'preflight': 4995, 'wheres': 4996, 'illegalargumentexception': 4997, 'shifting': 4998, 'recommendation': 4999}\n"
     ]
    }
   ],
   "source": [
    "print(wordsToIndex)"
   ]
  },
  {
   "cell_type": "code",
   "execution_count": 35,
   "metadata": {
    "colab": {
     "base_uri": "https://localhost:8080/",
     "height": 56
    },
    "colab_type": "code",
    "id": "2t6w44pss7zV",
    "outputId": "ffb55d1b-87df-482f-b778-7ae34d26b26b"
   },
   "outputs": [
    {
     "name": "stdout",
     "output_type": "stream",
     "text": [
      "{0: 'using', 1: 'php', 2: 'java', 3: 'file', 4: 'javascript', 5: 'error', 6: 'get', 7: 'c#', 8: 'python', 9: 'string', 10: 'array', 11: 'data', 12: 'jquery', 13: 'value', 14: 'function', 15: 'object', 16: 'class', 17: 'use', 18: 'c++', 19: 'list', 20: 'method', 21: 'multiple', 22: 'text', 23: 'image', 24: 'page', 25: 'rails', 26: 'form', 27: 'create', 28: 'html', 29: 'type', 30: 'code', 31: 'set', 32: 'working', 33: 'database', 34: 'add', 35: 'convert', 36: 'mysql', 37: 'json', 38: 'c', 39: 'server', 40: 'variable', 41: 'android', 42: 'values', 43: 'aspnet', 44: 'way', 45: 'application', 46: 'change', 47: 'button', 48: 'find', 49: 'django', 50: 'one', 51: 'without', 52: 'windows', 53: 'cannot', 54: 'table', 55: 'call', 56: 'files', 57: 'ajax', 58: 'check', 59: 'time', 60: 'name', 61: 'two', 62: 'ruby', 63: 'getting', 64: 'date', 65: 'web', 66: 'make', 67: 'user', 68: 'input', 69: 'xml', 70: 'app', 71: 'another', 72: 'element', 73: 'custom', 74: 'event', 75: 'api', 76: 'access', 77: 'url', 78: 'number', 79: 'spring', 80: 'view', 81: 'sql', 82: 'return', 83: 'mvc', 84: 'select', 85: 'google', 86: 'query', 87: 'inside', 88: 'exception', 89: 'display', 90: 'column', 91: 'read', 92: 'loop', 93: 'swift', 94: 'remove', 95: 'new', 96: 'work', 97: 'load', 98: 'r', 99: 'objects', 100: 'property', 101: 'line', 102: 'cant', 103: 'pass', 104: 'click', 105: 'framework', 106: 'update', 107: 'script', 108: 'vs', 109: 'post', 110: 'null', 111: '2', 112: 'creating', 113: 'net', 114: 'request', 115: 'different', 116: 'field', 117: 'key', 118: 'run', 119: 'row', 120: 'doesnt', 121: 'ios', 122: 'service', 123: 'linq', 124: 'div', 125: 'open', 126: 'window', 127: 'project', 128: 'wpf', 129: 'format', 130: 'best', 131: 'show', 132: 'variables', 133: 'controller', 134: 'undefined', 135: 'specific', 136: 'dynamically', 137: 'adding', 138: 'based', 139: 'angularjs', 140: 'control', 141: 'parameter', 142: 'send', 143: 'model', 144: '3', 145: 'difference', 146: 'library', 147: 'first', 148: 'insert', 149: 'passing', 150: 'vbnet', 151: 'js', 152: 'regex', 153: 'elements', 154: 'codeigniter', 155: 'within', 156: 'eclipse', 157: 'path', 158: 'dynamic', 159: 'visual', 160: 'memory', 161: 'connection', 162: 'possible', 163: 'id', 164: 'thread', 165: 'save', 166: 'default', 167: '+', 168: 'via', 169: 'running', 170: 'size', 171: 'program', 172: 'found', 173: 'content', 174: 'reference', 175: 'issue', 176: 'write', 177: 'attribute', 178: 'studio', 179: 'laravel', 180: 'search', 181: 'excel', 182: 'test', 183: 'static', 184: 'session', 185: 'output', 186: 'http', 187: 'characters', 188: 'character', 189: 'entity', 190: 'current', 191: 'problem', 192: 'calling', 193: 'client', 194: 'empty', 195: 'int', 196: 'simple', 197: 'css', 198: 'parameters', 199: 'upload', 200: 'command', 201: 'reading', 202: 'directory', 203: 'validation', 204: '1', 205: 'map', 206: 'hibernate', 207: 'selected', 208: 'textbox', 209: 'unable', 210: 'browser', 211: 'images', 212: 'item', 213: 'link', 214: 'index', 215: 'facebook', 216: 'expression', 217: 'setting', 218: 'store', 219: 'delete', 220: 'single', 221: 'template', 222: 'like', 223: 'statement', 224: 'strings', 225: 'failed', 226: 'rows', 227: 'header', 228: 'replace', 229: 'loading', 230: 'login', 231: 'box', 232: 'iphone', 233: '4', 234: 'numbers', 235: 'color', 236: 'nested', 237: 'returning', 238: 'background', 239: 'instance', 240: 'print', 241: 'pdf', 242: 'char', 243: 'parse', 244: 'could', 245: 'disable', 246: 'bootstrap', 247: 'message', 248: 'module', 249: 'csv', 250: 'tag', 251: 'converting', 252: 'chrome', 253: 'x', 254: 'parent', 255: 'invalid', 256: 'returns', 257: 'local', 258: 'methods', 259: 'need', 260: 'connect', 261: 'email', 262: 'changing', 263: 'trying', 264: 'response', 265: 'functions', 266: 'install', 267: 'redirect', 268: 'order', 269: 'angular', 270: 'dictionary', 271: 'arrays', 272: 'dropdown', 273: 'classes', 274: 'generate', 275: 'folder', 276: 'bar', 277: 'submit', 278: 'pandas', 279: 'process', 280: 'columns', 281: 'source', 282: 'checkbox', 283: 'child', 284: 'integer', 285: 'count', 286: 'sending', 287: 'parsing', 288: 'items', 289: 'start', 290: 'detect', 291: 'double', 292: 'jsp', 293: 'hide', 294: 'datetime', 295: 'fields', 296: 'console', 297: 'gridview', 298: 'pointer', 299: 'selenium', 300: 'linux', 301: 'constructor', 302: 'random', 303: 'import', 304: '7', 305: 'programmatically', 306: 'action', 307: 'collection', 308: 'instead', 309: 'version', 310: 'datagridview', 311: 'filter', 312: 'sort', 313: 'objectivec', 314: 'website', 315: 'generic', 316: 'last', 317: 'result', 318: 'build', 319: 'system', 320: 'download', 321: 'properties', 322: 'split', 323: 'back', 324: 'iframe', 325: 'nodejs', 326: 'interface', 327: 'cell', 328: 'binding', 329: 'arguments', 330: '5', 331: 'datatable', 332: 'syntax', 333: 'scroll', 334: 'xcode', 335: 'binary', 336: 'onclick', 337: 'external', 338: 'position', 339: 'socket', 340: '0', 341: 'execute', 342: 'rest', 343: 'missing', 344: 'called', 345: 'word', 346: 'maps', 347: 'typeerror', 348: 'implement', 349: 'byte', 350: 'copy', 351: 'whats', 352: 'extension', 353: 'video', 354: 'refresh', 355: 'menu', 356: 'match', 357: 'given', 358: 'argument', 359: 'node', 360: 'wordpress', 361: 'retrieve', 362: 'include', 363: 'regular', 364: 'accessing', 365: 'forms', 366: 'showing', 367: 'canvas', 368: 'document', 369: 'results', 370: 'ui', 371: 'runtime', 372: 'arraylist', 373: 'defined', 374: 'handle', 375: 'drop', 376: 'apache', 377: 'errors', 378: 'group', 379: 'large', 380: 'compare', 381: 'wcf', 382: 'height', 383: 'opencv', 384: 'ie', 385: 'address', 386: 'mobile', 387: 'properly', 388: 'many', 389: 'member', 390: 'equivalent', 391: 'screen', 392: '8', 393: 'exists', 394: 'global', 395: 'plugin', 396: 'password', 397: 'expected', 398: 'maven', 399: 'jar', 400: 'vector', 401: 'events', 402: 'length', 403: 'writing', 404: 'location', 405: 'numpy', 406: 'servlet', 407: 'types', 408: 'extract', 409: 'html5', 410: 'stored', 411: 'width', 412: 'dialog', 413: 'dataframe', 414: 'certain', 415: 'close', 416: 'help', 417: 'used', 418: 'range', 419: 'style', 420: 'prevent', 421: 'handling', 422: 'names', 423: 'automatically', 424: 'works', 425: 'resource', 426: 'magento', 427: 'every', 428: 'fails', 429: 'tomcat', 430: 'cast', 431: 'pattern', 432: 'created', 433: 'warning', 434: 'frame', 435: 'popup', 436: 'wrong', 437: 'validate', 438: 'displaying', 439: 'contains', 440: 'enum', 441: 'qt', 442: 'updating', 443: 'curl', 444: 'package', 445: 'stop', 446: 'listview', 447: 'must', 448: 'testing', 449: 'operator', 450: 'space', 451: '2d', 452: 'context', 453: 'authentication', 454: 'put', 455: 'conversion', 456: 'keys', 457: 'auto', 458: 'structure', 459: 'callback', 460: 'main', 461: 'saving', 462: 'end', 463: 'exist', 464: 'token', 465: 'long', 466: 'problems', 467: 'db', 468: 'tab', 469: 'existing', 470: 'foreach', 471: 'block', 472: 'always', 473: 'dll', 474: 'grid', 475: 'finding', 476: 'sorting', 477: 'remote', 478: 'matplotlib', 479: 'sqlite', 480: 'option', 481: 'buttons', 482: 'determine', 483: 'bind', 484: 'performance', 485: 'firefox', 486: 'tags', 487: 'modal', 488: 'stream', 489: 'plot', 490: 'label', 491: 'mac', 492: 'combobox', 493: 'decimal', 494: 'join', 495: 'uncaught', 496: 'radio', 497: 'phone', 498: 'example', 499: 'chart', 500: 'attributes', 501: 'unexpected', 502: 'compile', 503: 'dom', 504: 'checking', 505: 'correctly', 506: 'right', 507: 'point', 508: 'lines', 509: 'tables', 510: 'installing', 511: 'base', 512: 'float', 513: 'users', 514: 'mouse', 515: 'basic', 516: 'support', 517: 'struct', 518: 'tree', 519: 'unit', 520: 'making', 521: 'unique', 522: 'scope', 523: 'threads', 524: 'catch', 525: 'hash', 526: 'duplicate', 527: 'correct', 528: 'mean', 529: 'handler', 530: 'next', 531: 'already', 532: 'even', 533: 'wont', 534: 'good', 535: 'edit', 536: 'admin', 537: 'task', 538: 'removing', 539: 'uitableview', 540: 'matrix', 541: 'contents', 542: 'valid', 543: 'pages', 544: 'namespace', 545: 'graph', 546: 'dates', 547: 'lists', 548: 'const', 549: 'sdk', 550: 'log', 551: 'encoding', 552: 'debug', 553: 'changes', 554: 'site', 555: 'objective', 556: 'case', 557: 'calculate', 558: 'programming', 559: 'storing', 560: 'active', 561: 'configuration', 562: 'side', 563: 'full', 564: 'sum', 565: 'limit', 566: 'keep', 567: 'jpa', 568: 'top', 569: 'listbox', 570: 'animation', 571: 'implementation', 572: 'unicode', 573: 'append', 574: 'override', 575: 'printing', 576: 'mongodb', 577: 'twitter', 578: 'allow', 579: 'part', 580: 'winforms', 581: 'record', 582: 'core', 583: 'utf8', 584: 'resize', 585: 'loaded', 586: 'lambda', 587: 'controls', 588: 'ip', 589: 'security', 590: 'mail', 591: 'play', 592: 'times', 593: 'pdo', 594: 'layout', 595: 'selection', 596: 'game', 597: 'fatal', 598: 'async', 599: 'records', 600: 'language', 601: 'bean', 602: 'cookie', 603: 'boolean', 604: 'webdriver', 605: 'switch', 606: 'constant', 607: 'draw', 608: 'outside', 609: 'force', 610: 'cakephp', 611: 'domain', 612: 'gui', 613: 'inserting', 614: 'unknown', 615: 'true', 616: 'wait', 617: 'assign', 618: 'slow', 619: '20', 620: 'mode', 621: 'port', 622: 'false', 623: 'named', 624: 'condition', 625: 'mapping', 626: 'issues', 627: 'available', 628: 'state', 629: 'requests', 630: 'focus', 631: 'netbeans', 632: 'multidimensional', 633: 'oracle', 634: 'generated', 635: 'enable', 636: 'assembly', 637: 'ubuntu', 638: 'device', 639: 'jdbc', 640: 'clicked', 641: 'uploading', 642: 'populate', 643: 'gem', 644: 'yii', 645: 'soap', 646: 'swing', 647: 'specified', 648: 'required', 649: 'special', 650: 'engine', 651: 'initialize', 652: 'exceptions', 653: 'know', 654: '2010', 655: 'checked', 656: 'executing', 657: 'bad', 658: 'native', 659: 'network', 660: 'avoid', 661: 'javafx', 662: 'design', 663: 'tkinter', 664: '6', 665: 'try', 666: 'month', 667: 'webservice', 668: 'timeout', 669: 'export', 670: 'question', 671: 'want', 672: '404', 673: 'heroku', 674: 'trigger', 675: 'efficient', 676: 'move', 677: 'n', 678: 'stack', 679: 'iterate', 680: 'timer', 681: 'component', 682: 'os', 683: 'dont', 684: '10', 685: 'words', 686: 'zend', 687: 'body', 688: 'textarea', 689: 'implementing', 690: 'views', 691: 'compiler', 692: 'clicking', 693: 'linked', 694: 'symbol', 695: 'root', 696: 'flask', 697: 'clear', 698: 'render', 699: 'navigation', 700: 'define', 701: 'symfony2', 702: 'second', 703: 'datagrid', 704: 'pointers', 705: 'fill', 706: 'inheritance', 707: 'procedure', 708: 'route', 709: 'private', 710: 'ssl', 711: 'particular', 712: 'rspec', 713: 'left', 714: 'declaration', 715: 'scrolling', 716: 'information', 717: 'behind', 718: 'bytes', 719: 'status', 720: 'reflection', 721: 'services', 722: 'fix', 723: 'push', 724: 'spaces', 725: 'calendar', 726: 'fetch', 727: 'algorithm', 728: 'alert', 729: 'xpath', 730: 'integers', 731: 'apply', 732: 'cache', 733: 'youtube', 734: 'calls', 735: 'dependency', 736: 'development', 737: 'https', 738: 'hex', 739: 'options', 740: 'max', 741: 'maximum', 742: 'target', 743: 'usage', 744: 'progress', 745: 'environment', 746: 'previous', 747: 'internet', 748: 'models', 749: 'practice', 750: 'title', 751: 'comparing', 752: 'merge', 753: 'headers', 754: 'changed', 755: 'boost', 756: 'notification', 757: 'driver', 758: 'libraries', 759: 'panel', 760: 'shared', 761: 'processing', 762: 'matching', 763: 'tests', 764: 'apps', 765: 'statements', 766: 'symfony', 767: 'font', 768: 'opengl', 769: 'comma', 770: 'xaml', 771: 'installed', 772: 'public', 773: 'datepicker', 774: 'standard', 775: 'resources', 776: 'icon', 777: 'separate', 778: 'links', 779: 'directive', 780: 'report', 781: 'htaccess', 782: 'abstract', 783: 'hidden', 784: 'resolve', 785: 'would', 786: 'container', 787: 'better', 788: 'serialize', 789: 'logging', 790: 'asp', 791: 'debugging', 792: 'see', 793: 'autocomplete', 794: 'configure', 795: 'ggplot2', 796: 'react', 797: 'junit', 798: 'hashmap', 799: 'partial', 800: 'queries', 801: 'alternative', 802: 'returned', 803: 'selecting', 804: 'visible', 805: 'messages', 806: 'throws', 807: 'echo', 808: 'something', 809: 'devise', 810: 'checkboxes', 811: 'svg', 812: 'keyboard', 813: 'generating', 814: 'proxy', 815: 'declare', 816: 'escape', 817: 'jtable', 818: 'coordinates', 819: 'whether', 820: 'denied', 821: 'take', 822: 'formatting', 823: 'operation', 824: 'causes', 825: 'virtual', 826: 'quotes', 827: 'reload', 828: 'drag', 829: 'setup', 830: 'drawing', 831: 'extjs', 832: 'jsf', 833: 'contain', 834: 'day', 835: 'dataset', 836: 'shell', 837: 'product', 838: 'machine', 839: 'phonegap', 840: 'cells', 841: 'entities', 842: 'containing', 843: 'dropdownlist', 844: 'applications', 845: 'strange', 846: 'twice', 847: 'webpage', 848: 'queue', 849: 'delegate', 850: 'rendering', 851: 'intellij', 852: 'inline', 853: 'connecting', 854: 'per', 855: 'gcc', 856: 'execution', 857: 'opening', 858: 'relationship', 859: 'uiview', 860: 'level', 861: 'ms', 862: 'conditional', 863: 'blank', 864: 'initialization', 865: 'serialization', 866: 'razor', 867: 'safe', 868: 'internal', 869: 'modify', 870: 'widget', 871: 'etc', 872: 'relative', 873: 'gives', 874: 'capture', 875: 'definition', 876: 'jqgrid', 877: 'timestamp', 878: 'nodes', 879: 'building', 880: 'importing', 881: 'batch', 882: 'else', 883: 'compiling', 884: 'retrieving', 885: 'expressions', 886: 'allowed', 887: 'tcp', 888: 'added', 889: 'numeric', 890: 'still', 891: 'host', 892: 'sqlalchemy', 893: 'year', 894: 'doctrine', 895: 'seconds', 896: 'highcharts', 897: 'cookies', 898: 'selector', 899: 'boot', 900: 'foreign', 901: 'nsstring', 902: 'href', 903: 'embedded', 904: 'jframe', 905: 'fast', 906: 'jackson', 907: 'config', 908: 'annotation', 909: 'starting', 910: 'firing', 911: 'reset', 912: 'touch', 913: 'injection', 914: 'section', 915: 'protocol', 916: 'closing', 917: 'ascii', 918: 'jaxb', 919: 'points', 920: 'tabs', 921: 'webbrowser', 922: 'labels', 923: 'sharepoint', 924: 'postgresql', 925: 'transaction', 926: 'hover', 927: 'cursor', 928: 'trouble', 929: 'passed', 930: 'overriding', 931: 'assignment', 932: 'specify', 933: 'explorer', 934: 'sequence', 935: 'asynchronous', 936: 'gwt', 937: 'replacing', 938: 'able', 939: 'urls', 940: 'localhost', 941: 'recursive', 942: 'days', 943: 'giving', 944: 'exit', 945: 'templates', 946: 'toggle', 947: 'webview', 948: 'base64', 949: 'deploy', 950: 'fastest', 951: 'anchor', 952: 'deleting', 953: 'fixed', 954: 'restful', 955: 'nil', 956: 'axis', 957: 'v3', 958: 'go', 959: 'vb', 960: 'moving', 961: 'proper', 962: 'osx', 963: '500', 964: 'digits', 965: 'enter', 966: 'nhibernate', 967: 'faster', 968: 'activerecord', 969: 'settings', 970: 'permission', 971: 'casting', 972: 'ignore', 973: 'stl', 974: 'lock', 975: 'including', 976: 'loops', 977: 'pagination', 978: 'border', 979: 'mysqli', 980: 'incorrect', 981: 'real', 982: 'sent', 983: 's3', 984: 'username', 985: 'serial', 986: 'caching', 987: 'activity', 988: 'effect', 989: 'declared', 990: 'complex', 991: 'uitableviewcell', 992: 'complete', 993: 'across', 994: 'safari', 995: 'comparison', 996: 'invoke', 997: 'zip', 998: 'increment', 999: 'speed', 1000: 'multi', 1001: 'txt', 1002: 'programatically', 1003: 'audio', 1004: 'void', 1005: 'buffer', 1006: 'singleton', 1007: 'scripts', 1008: 'place', 1009: 'equal', 1010: 'combine', 1011: 'center', 1012: 'closed', 1013: 'keyword', 1014: '3d', 1015: 'modules', 1016: 'express', 1017: 'filtering', 1018: 'repository', 1019: 'break', 1020: 'integration', 1021: 'iis', 1022: 'routing', 1023: 'mock', 1024: 'causing', 1025: 'inner', 1026: 'letter', 1027: 'heap', 1028: 'bundle', 1029: 'letters', 1030: 'whole', 1031: 'mvvm', 1032: 'ie8', 1033: 'crash', 1034: 'uploaded', 1035: '2008', 1036: 'ant', 1037: 'winform', 1038: 'bit', 1039: 'extra', 1040: 'poi', 1041: 'receive', 1042: 'substring', 1043: 'identifier', 1044: 'self', 1045: 'deserialize', 1046: 'ftp', 1047: 'following', 1048: 'success', 1049: 'pip', 1050: 'src', 1051: 'entry', 1052: 'blob', 1053: 'amazon', 1054: 'series', 1055: 'leak', 1056: 'require', 1057: 'browsers', 1058: 'smtp', 1059: 'shows', 1060: 'isnt', 1061: 'free', 1062: 'macro', 1063: 'camera', 1064: 'communication', 1065: 'share', 1066: 'flash', 1067: '2012', 1068: 'extracting', 1069: 'primary', 1070: 'solution', 1071: 'around', 1072: 'dependencies', 1073: 'failure', 1074: 'tableview', 1075: 'rake', 1076: 'storage', 1077: 'generator', 1078: 'controllers', 1079: 'provider', 1080: 'failing', 1081: 'cocoa', 1082: 'iterator', 1083: 'listener', 1084: 'microsoft', 1085: 'area', 1086: 'exe', 1087: 'tell', 1088: 'generics', 1089: 'marker', 1090: 'beautifulsoup', 1091: 'secure', 1092: 'divs', 1093: 'depending', 1094: 'win32', 1095: 'solve', 1096: 'unity', 1097: 'downloading', 1098: 'tutorial', 1099: 'itextsharp', 1100: 'parallel', 1101: 'cross', 1102: 'bool', 1103: 'negative', 1104: 'directly', 1105: 'recursion', 1106: 'scrapy', 1107: 'datasource', 1108: 'decode', 1109: 'sockets', 1110: 'timezone', 1111: 'understanding', 1112: 'slider', 1113: 'idea', 1114: 'calculating', 1115: 'anonymous', 1116: 'requires', 1117: 'ipad', 1118: 'editor', 1119: 'instances', 1120: 'ggplot', 1121: 'detecting', 1122: 'non', 1123: 'behavior', 1124: 'parser', 1125: 'throw', 1126: 'com', 1127: 'give', 1128: 'silverlight', 1129: 'white', 1130: 'png', 1131: 'tool', 1132: 'throwing', 1133: 'compilation', 1134: 'waiting', 1135: 'log4j', 1136: 'jersey', 1137: 'webapi', 1138: 'iterating', 1139: 'accept', 1140: 'unix', 1141: 'similar', 1142: 'zoom', 1143: 'applet', 1144: 'perform', 1145: 'children', 1146: 'needed', 1147: 'clause', 1148: 'tuple', 1149: 'appear', 1150: '40', 1151: 'delay', 1152: 'less', 1153: 'animate', 1154: 'jboss', 1155: 'reverse', 1156: 'executable', 1157: 'certificate', 1158: 'joomla', 1159: 'entire', 1160: 'd3', 1161: 'typescript', 1162: 'installation', 1163: 'raw', 1164: 'receiving', 1165: 'gmail', 1166: 'illegal', 1167: 'rotate', 1168: 'treeview', 1169: 'colors', 1170: 'uibutton', 1171: 'optional', 1172: 'zero', 1173: 'big', 1174: 'references', 1175: 'uri', 1176: 'jpanel', 1177: 'udp', 1178: 'turn', 1179: 'extend', 1180: 'subclass', 1181: 'primefaces', 1182: 'filename', 1183: 'copying', 1184: 'takes', 1185: 'matches', 1186: 'embed', 1187: 'gradle', 1188: 'classpath', 1189: 'practices', 1190: 'except', 1191: 'searching', 1192: 'crashes', 1193: 'desktop', 1194: 'ckeditor', 1195: 'nginx', 1196: 'postback', 1197: 'supported', 1198: 'mvc4', 1199: 'unsigned', 1200: 'tooltip', 1201: 'drupal', 1202: 'manually', 1203: 'backbonejs', 1204: 'w', 1205: 'oauth', 1206: 'bound', 1207: 'datatables', 1208: 'jvm', 1209: 'uiscrollview', 1210: 'due', 1211: 'duplicates', 1212: 'occurred', 1213: 'commands', 1214: '30', 1215: 'connections', 1216: 'prepared', 1217: 'processes', 1218: 'counting', 1219: 'minutes', 1220: 'collections', 1221: 'bottom', 1222: 'mvc3', 1223: 'ngrepeat', 1224: 'yii2', 1225: 'creation', 1226: 'encryption', 1227: 'ide', 1228: 'paypal', 1229: 'job', 1230: 'several', 1231: 'equals', 1232: 'annotations', 1233: 'profile', 1234: 'fit', 1235: 'looping', 1236: 'prototype', 1237: 'phpunit', 1238: 'sessions', 1239: 'tasks', 1240: 'production', 1241: 'blocks', 1242: 'var', 1243: 'img', 1244: 'projects', 1245: 'present', 1246: 'prompt', 1247: 'resolved', 1248: 'usercontrol', 1249: 'linking', 1250: 'comments', 1251: 'bitmap', 1252: 'automatic', 1253: 'incompatible', 1254: 'initializing', 1255: 'account', 1256: '32', 1257: 'backbone', 1258: 'exec', 1259: 'info', 1260: 'original', 1261: 'infinite', 1262: 'upon', 1263: 'increase', 1264: 'textfield', 1265: 'amount', 1266: 'syntaxerror', 1267: 'together', 1268: 'rvm', 1269: 'disabled', 1270: 'literal', 1271: 'routes', 1272: 'conditions', 1273: 'submitting', 1274: 'websocket', 1275: 'operations', 1276: 'nullpointerexception', 1277: 'separated', 1278: 'uiwebview', 1279: 'debugger', 1280: 'fragment', 1281: 'related', 1282: 'crystal', 1283: 'ef', 1284: 'jsonnet', 1285: 'places', 1286: 'unhandled', 1287: 'members', 1288: 'common', 1289: 'derived', 1290: 'aspx', 1291: 'absolute', 1292: 'markers', 1293: 'uses', 1294: 'logged', 1295: 'step', 1296: 'onchange', 1297: 'behaviour', 1298: 'gets', 1299: 'encode', 1300: 'offset', 1301: 'small', 1302: 'uiimageview', 1303: 'im', 1304: 'transparent', 1305: 'garbage', 1306: 'paths', 1307: 'azure', 1308: 'horizontal', 1309: 'meteor', 1310: 'average', 1311: 'schema', 1312: 'exactly', 1313: 'kendo', 1314: 'storyboard', 1315: 'instantiate', 1316: 'inputs', 1317: 'displayed', 1318: 'hiding', 1319: 'fail', 1320: 'posting', 1321: 'ionic', 1322: 'association', 1323: 'multithreading', 1324: 'pop', 1325: 'nothing', 1326: 'fault', 1327: 'xampp', 1328: 'validating', 1329: '100', 1330: 'sheet', 1331: '31', 1332: 'deploying', 1333: 'sorted', 1334: 'assigning', 1335: 'fine', 1336: 'highlight', 1337: 'b', 1338: 'vertical', 1339: 'td', 1340: 'jni', 1341: 'factory', 1342: 'builder', 1343: 'sign', 1344: 'uiimage', 1345: 'attributeerror', 1346: 'much', 1347: 'd3js', 1348: 'chat', 1349: 'entries', 1350: 'resizing', 1351: 'encoded', 1352: 'ids', 1353: 'live', 1354: 'actual', 1355: 'li', 1356: 'helper', 1357: 'updated', 1358: 'hours', 1359: 'architecture', 1360: 'cron', 1361: 'distinct', 1362: 'distance', 1363: 'drive', 1364: 'normal', 1365: 'editing', 1366: 'refreshing', 1367: '11', 1368: 'manager', 1369: 'phpmyadmin', 1370: 'efficiently', 1371: 'total', 1372: 'importerror', 1373: 'viewmodel', 1374: 'deprecated', 1375: 'concatenate', 1376: '_post', 1377: 'three', 1378: 'struts', 1379: 'bug', 1380: 'xamarin', 1381: 'keeping', 1382: 'transfer', 1383: 'pairs', 1384: 'uitextfield', 1385: 'params', 1386: 'repeater', 1387: 'woocommerce', 1388: 'firebase', 1389: 'release', 1390: 'war', 1391: 'computer', 1392: 'mockito', 1393: 'splitting', 1394: 'breaks', 1395: 'lazy', 1396: 'lib', 1397: 'printf', 1398: 'looking', 1399: 'made', 1400: 'libgdx', 1401: 'pygame', 1402: 'struts2', 1403: 'hadoop', 1404: 'structs', 1405: 'str', 1406: 'initial', 1407: 'nsarray', 1408: 'orm', 1409: 'uilabel', 1410: 'codebehind', 1411: 'span', 1412: 'constraint', 1413: 'though', 1414: 'settimeout', 1415: 'dict', 1416: 'anything', 1417: 'world', 1418: 'encrypt', 1419: 'reports', 1420: 'itext', 1421: '81', 1422: 'jdk', 1423: 'eval', 1424: 'threejs', 1425: 'category', 1426: 'requested', 1427: 'thrown', 1428: 'management', 1429: 'exclude', 1430: 'httpclient', 1431: 'press', 1432: 'generation', 1433: 'analytics', 1434: 'threading', 1435: 'components', 1436: 'redirecting', 1437: 'never', 1438: 'actually', 1439: 'nsmutablearray', 1440: 'fire', 1441: 'scale', 1442: 'old', 1443: 'packages', 1444: 'forward', 1445: 'sets', 1446: 'register', 1447: 'detection', 1448: 'referenced', 1449: 'plotting', 1450: 'platform', 1451: 'picture', 1452: '2013', 1453: 'rectangle', 1454: 'started', 1455: 'devices', 1456: 'cause', 1457: 'socketio', 1458: 'sub', 1459: 'unrecognized', 1460: 'sound', 1461: 'approach', 1462: 'slide', 1463: 'symbols', 1464: 'stdstring', 1465: 'skip', 1466: 'converted', 1467: 'xmlhttprequest', 1468: 'pressed', 1469: 'extending', 1470: 'frames', 1471: 'g++', 1472: 'circle', 1473: 'home', 1474: 'newline', 1475: 'details', 1476: 'multiprocessing', 1477: 'segmentation', 1478: 'scraping', 1479: 'plain', 1480: 'feed', 1481: 'zone', 1482: 'folders', 1483: 'readonly', 1484: 'charts', 1485: 'ignoring', 1486: 'round', 1487: 'versions', 1488: 'really', 1489: 'dimensional', 1490: 'cpu', 1491: 'paperclip', 1492: 'done', 1493: 'histogram', 1494: 'cmake', 1495: 'cancel', 1496: 'final', 1497: 'pycharm', 1498: 'mfc', 1499: 'inject', 1500: 'floating', 1501: 'await', 1502: 'phpexcel', 1503: 'picker', 1504: 'shiny', 1505: 'refused', 1506: 'interfaces', 1507: 'destroy', 1508: 'weird', 1509: 'groups', 1510: 'ie9', 1511: 'easiest', 1512: 'got', 1513: 'ways', 1514: 'media', 1515: 'reduce', 1516: 'gson', 1517: 'migration', 1518: 'verify', 1519: 'least', 1520: 'violation', 1521: 'min', 1522: 'spark', 1523: 'colour', 1524: 'vectors', 1525: '64bit', 1526: 'restrict', 1527: 'tools', 1528: 'permissions', 1529: 'rename', 1530: 'initialized', 1531: 'included', 1532: 'functionality', 1533: 'please', 1534: 'populating', 1535: 'uiviewcontroller', 1536: 'taking', 1537: 'transition', 1538: 'malloc', 1539: 'eloquent', 1540: 'wrapper', 1541: 'expects', 1542: 'listt', 1543: 'knockout', 1544: 'layer', 1545: '9', 1546: 'wrap', 1547: 'swt', 1548: 'odd', 1549: 'occurrences', 1550: 'overlay', 1551: 'overloading', 1552: 'dictionaries', 1553: 'runs', 1554: 'clients', 1555: 'digit', 1556: 'according', 1557: 'rgb', 1558: 'disabling', 1559: 'hyperlink', 1560: 'patterns', 1561: 'dot', 1562: 'mp3', 1563: 'aws', 1564: 'learn', 1565: 'written', 1566: 'makefile', 1567: 'nsdictionary', 1568: '64', 1569: 'none', 1570: 'pyqt', 1571: 'beans', 1572: 'brackets', 1573: 'uninitialized', 1574: '35', 1575: 'may', 1576: 'randomly', 1577: 'explicit', 1578: 'jstl', 1579: 'easy', 1580: 'pause', 1581: 'differences', 1582: 'ienumerable', 1583: 'extensions', 1584: 'confirm', 1585: 'phpmailer', 1586: 'appconfig', 1587: 'math', 1588: 'wsdl', 1589: 'posts', 1590: 'photo', 1591: 'doc', 1592: 'ok', 1593: 'also', 1594: 'high', 1595: 'jenkins', 1596: 'received', 1597: 'reason', 1598: 'closure', 1599: 'signalr', 1600: 'rather', 1601: 'exact', 1602: 'inserted', 1603: 'everything', 1604: 'front', 1605: 'hour', 1606: 'recursively', 1607: 'saved', 1608: 'locale', 1609: 'git', 1610: 'scanner', 1611: 'appending', 1612: 'calculation', 1613: 'unsupported', 1614: 'week', 1615: 'signal', 1616: 'happens', 1617: 'registry', 1618: 'counter', 1619: 'documents', 1620: 'known', 1621: 'learning', 1622: 'precision', 1623: 'preg_match', 1624: 'uicollectionview', 1625: 'identity', 1626: 'c++11', 1627: 'valueerror', 1628: 'restart', 1629: 'referenceerror', 1630: 'glassfish', 1631: 'inherited', 1632: 'deployment', 1633: 'iteration', 1634: 'chartjs', 1635: 'additional', 1636: 'lookup', 1637: 'padding', 1638: 'chars', 1639: 'logic', 1640: 'feature', 1641: 'localstorage', 1642: 'prefix', 1643: 'comment', 1644: 'align', 1645: 'pythons', 1646: 'master', 1647: 'textboxes', 1648: 'webconfig', 1649: 'lost', 1650: 'nonobject', 1651: 'emails', 1652: 'submission', 1653: '27', 1654: 'makes', 1655: 'enums', 1656: 'optimize', 1657: 'terminal', 1658: 'tensorflow', 1659: 'underscore', 1660: 'fancybox', 1661: 'beginning', 1662: 'pil', 1663: 'constants', 1664: 'pool', 1665: 'square', 1666: 'sharing', 1667: 'cordova', 1668: 'transform', 1669: 'merging', 1670: 'jsoup', 1671: 'thumbnail', 1672: 'arduino', 1673: 'implicit', 1674: 'postgres', 1675: 'percentage', 1676: 'ldap', 1677: 'online', 1678: 'manytomany', 1679: 'md5', 1680: 'innerhtml', 1681: 'arc', 1682: 'dojo', 1683: 'uitextview', 1684: 'javalangnoclassdeffounderror', 1685: 'obtain', 1686: 'direct', 1687: 'updates', 1688: 'fetching', 1689: 'unresolved', 1690: 'graphics', 1691: 'purpose', 1692: 'concurrent', 1693: 'combo', 1694: 'pure', 1695: 'completely', 1696: 'constraints', 1697: 'clean', 1698: 'rewrite', 1699: 'bash', 1700: 'simulate', 1701: 'p', 1702: 'queryset', 1703: 'legend', 1704: 'deserializing', 1705: 'linker', 1706: 'eg', 1707: 'confusion', 1708: 'naming', 1709: '24', 1710: 'polygon', 1711: 'sqlite3', 1712: 'pixel', 1713: 'mismatch', 1714: 'modified', 1715: 'moq', 1716: 'kernel', 1717: 'launch', 1718: 'explain', 1719: 'dd', 1720: 'greater', 1721: 'upgrade', 1722: 'scanf', 1723: 'sample', 1724: 'rules', 1725: 'identify', 1726: 'rotation', 1727: 'init', 1728: 'reloading', 1729: 'exporting', 1730: 'mouseover', 1731: 'signature', 1732: 'figure', 1733: 'fade', 1734: 'longitude', 1735: 'latitude', 1736: 'grouping', 1737: 'well', 1738: 'mm', 1739: 'startup', 1740: 'bin', 1741: 'hello', 1742: 'track', 1743: 'black', 1744: 'locate', 1745: 'short', 1746: 'preg_replace', 1747: 'connected', 1748: 'cli', 1749: 'interop', 1750: 'protected', 1751: 'adapter', 1752: 'streaming', 1753: 'subset', 1754: 'parts', 1755: 'nokogiri', 1756: 'declaring', 1757: 'openssl', 1758: 'notifications', 1759: 'orientation', 1760: 'managed', 1761: 'individual', 1762: 'compiled', 1763: 'includes', 1764: 'operators', 1765: 'notation', 1766: 'richtextbox', 1767: 'versus', 1768: 'stdout', 1769: '16', 1770: 'pair', 1771: 'contact', 1772: 'either', 1773: 'combining', 1774: 'general', 1775: 'deserialization', 1776: 'assets', 1777: 'footer', 1778: 'coding', 1779: 'executed', 1780: 'relation', 1781: 'xsd', 1782: 'ready', 1783: 'nunit', 1784: 'customize', 1785: 'jasmine', 1786: 'wamp', 1787: 'plus', 1788: 'theme', 1789: 'multithreaded', 1790: 'modifying', 1791: 'opencart', 1792: 'player', 1793: 'hashes', 1794: 'confirmation', 1795: 'products', 1796: 'lxml', 1797: 'transactions', 1798: 'allocated', 1799: 'documentation', 1800: 'actions', 1801: 'finished', 1802: 'manage', 1803: 'setinterval', 1804: 'oop', 1805: 'multiline', 1806: 'couldnt', 1807: 'hangs', 1808: 'calculator', 1809: 'price', 1810: 'integrate', 1811: 'milliseconds', 1812: 'clicks', 1813: 'httpwebrequest', 1814: 'editable', 1815: 'stdin', 1816: 'cart', 1817: 'howto', 1818: 'bluetooth', 1819: 'backend', 1820: 'broken', 1821: 'namespaces', 1822: 'circular', 1823: 'simulator', 1824: 'threadsafe', 1825: 'formatted', 1826: 'observable', 1827: 'understand', 1828: 'inputstream', 1829: 'matlab', 1830: 'switching', 1831: 'plots', 1832: 'opened', 1833: 'occurrence', 1834: 'loads', 1835: 'serializing', 1836: 'boxes', 1837: 'wxpython', 1838: 'json_encode', 1839: 'mono', 1840: 'ee', 1841: 'rule', 1842: 'highlighting', 1843: 'yyyy', 1844: 'attachment', 1845: 'resultset', 1846: 'implicitly', 1847: 'preview', 1848: 'whitespace', 1849: 'recognized', 1850: 'criteria', 1851: 'databases', 1852: 'reactjs', 1853: 'screenshot', 1854: 'jpeg', 1855: 'finish', 1856: 'nsdata', 1857: 'associative', 1858: 'groovy', 1859: 'scrollbar', 1860: 'spreadsheet', 1861: 'allocation', 1862: 'cucumber', 1863: 'gdb', 1864: 'constructors', 1865: 'ejb', 1866: 'enabled', 1867: 'provide', 1868: 'look', 1869: 'longer', 1870: 'resolution', 1871: 'examples', 1872: 'completion', 1873: 'jaxrs', 1874: 'subprocess', 1875: 'querystring', 1876: 'setter', 1877: 'putting', 1878: 'phps', 1879: 'capistrano', 1880: 'initializer', 1881: 'fullcalendar', 1882: 'implemented', 1883: 'triggered', 1884: 'fired', 1885: 'scala', 1886: 'shape', 1887: 'bounds', 1888: 'databinding', 1889: 'invoking', 1890: 'datatype', 1891: 'choose', 1892: 'callbacks', 1893: 'seems', 1894: 'multipart', 1895: 'promise', 1896: 'simplexml', 1897: 'developer', 1898: 'elegant', 1899: 'detected', 1900: 'positive', 1901: 'linear', 1902: 'slash', 1903: 'querying', 1904: 'along', 1905: 'outlook', 1906: 'latest', 1907: 'jbutton', 1908: 'knockoutjs', 1909: 'currently', 1910: 'swipe', 1911: 'emberjs', 1912: 'arrow', 1913: 'jpg', 1914: 'multiply', 1915: 'mongoose', 1916: 'cors', 1917: 'mingw', 1918: 'arbitrary', 1919: 'cloud', 1920: 'defining', 1921: 'disk', 1922: 'videos', 1923: 'sure', 1924: 'needs', 1925: 'manipulation', 1926: 'asynchronously', 1927: 'party', 1928: 'pixels', 1929: 'super', 1930: 'rsa', 1931: 'onload', 1932: 'seem', 1933: 'ssh', 1934: 'usb', 1935: 'meaning', 1936: 'capybara', 1937: 'metadata', 1938: 'separator', 1939: 'hook', 1940: 'metro', 1941: 'servers', 1942: 'jaxws', 1943: 'c#net', 1944: 'decrypt', 1945: 'twig', 1946: 'nsdate', 1947: 'outer', 1948: 'replacement', 1949: 'trailing', 1950: 'textview', 1951: '45', 1952: 'yes', 1953: 'clickable', 1954: 'tinymce', 1955: 'utc', 1956: 'frameworks', 1957: 'relationships', 1958: 'jtextfield', 1959: 'composer', 1960: 'third', 1961: 'fork', 1962: 'paste', 1963: 'openmp', 1964: 'recognize', 1965: 'aggregate', 1966: 'hashtable', 1967: 'aes', 1968: 'country', 1969: 'monitor', 1970: 'adonet', 1971: 'simplest', 1972: 'br', 1973: 'bindings', 1974: 'pipe', 1975: 'registration', 1976: 'appears', 1977: 'raise', 1978: 'coffeescript', 1979: 'backgroundworker', 1980: 'liststring', 1981: 'gems', 1982: 'attach', 1983: 'specifying', 1984: 'mark', 1985: 'catching', 1986: 'logger', 1987: 'pack', 1988: 'union', 1989: '#', 1990: '17', 1991: '51', 1992: '50', 1993: 'vaadin', 1994: 'wrapping', 1995: 'validator', 1996: 'playing', 1997: 'lucene', 1998: 'viewcontroller', 1999: 'rid', 2000: 'structures', 2001: 'clipboard', 2002: 'card', 2003: 'tuples', 2004: 'referencing', 2005: 'carousel', 2006: 'sometimes', 2007: 'redis', 2008: 'applied', 2009: 'filling', 2010: 'dataframes', 2011: 'preserve', 2012: 'preprocessor', 2013: 'wicket', 2014: 'months', 2015: 'overflow', 2016: 'built', 2017: 'xaxis', 2018: 'celery', 2019: 'nameerror', 2020: 'toolbar', 2021: 'automapper', 2022: 'jlabel', 2023: 'collision', 2024: 'scipy', 2025: 'realtime', 2026: 'developing', 2027: 'requirejs', 2028: 'successful', 2029: 'expand', 2030: 'groupby', 2031: 'preventing', 2032: 'escaping', 2033: 'going', 2034: 'alphanumeric', 2035: 'ffmpeg', 2036: 'nan', 2037: 'rmi', 2038: 'tostring', 2039: '15', 2040: 'powershell', 2041: 'passenger', 2042: 'pc', 2043: '25', 2044: 'persist', 2045: 'crm', 2046: 'slower', 2047: 'optimization', 2048: 'stopped', 2049: 'mocking', 2050: 'segue', 2051: 'entered', 2052: 'dealing', 2053: 'stuck', 2054: 'reader', 2055: 'region', 2056: 'regexp', 2057: '13', 2058: 'mongoid', 2059: 'codes', 2060: 'callable', 2061: 'sinatra', 2062: 'head', 2063: 'serializable', 2064: 'imageview', 2065: 'synchronous', 2066: 'middle', 2067: 'sms', 2068: 'anyone', 2069: 'locking', 2070: 'objc', 2071: 'software', 2072: 'leaflet', 2073: 'leading', 2074: 'odbc', 2075: 'onetomany', 2076: 'zf2', 2077: 'logout', 2078: 'dependent', 2079: 'serverside', 2080: 'necessary', 2081: 'styles', 2082: 'comprehension', 2083: 'repeat', 2084: 'notice', 2085: 'angular2', 2086: 'overload', 2087: 'description', 2088: 'alternatives', 2089: 'indexes', 2090: 'adjust', 2091: 'destructor', 2092: '12', 2093: 'triangle', 2094: 'wildcard', 2095: 'maintain', 2096: 'devexpress', 2097: 'es6', 2098: 'ordering', 2099: 'redirection', 2100: 'ensure', 2101: 'has_many', 2102: 'primitive', 2103: 'smooth', 2104: 'exchange', 2105: 'io', 2106: 'immediately', 2107: 'minimum', 2108: 'websphere', 2109: 'expecting', 2110: 'mongo', 2111: 'interval', 2112: 'continue', 2113: 'builtin', 2114: 'subtract', 2115: 'interactive', 2116: 'camel', 2117: 'mssql', 2118: 'jinja2', 2119: 'applying', 2120: 'weblogic', 2121: 'casperjs', 2122: 'css3', 2123: 'terminate', 2124: 'listen', 2125: 'polymorphism', 2126: 'quote', 2127: 'losing', 2128: 'strip', 2129: 'ie7', 2130: 'overwrite', 2131: 'avoiding', 2132: 'indices', 2133: 'csrf', 2134: 'widgets', 2135: 'accessible', 2136: 'questions', 2137: 'ints', 2138: 'allocate', 2139: 'repeating', 2140: 'mask', 2141: 'lowercase', 2142: 'payment', 2143: 'scan', 2144: 'compatible', 2145: '2015', 2146: 'webclient', 2147: 'ul', 2148: 'construct', 2149: 'hosting', 2150: 'filters', 2151: 'delegates', 2152: 'pull', 2153: 'tornado', 2154: 'clone', 2155: 'bars', 2156: 'vertically', 2157: 'follow', 2158: 'suitable', 2159: 'ignored', 2160: 'categories', 2161: 'realm', 2162: 'websites', 2163: 'perl', 2164: 'someone', 2165: 'locally', 2166: 'cuda', 2167: 'styling', 2168: 'rendered', 2169: 'divide', 2170: 'delimited', 2171: 'universal', 2172: 'cxf', 2173: 'deep', 2174: 'decryption', 2175: 'accordion', 2176: 'completed', 2177: 'manifest', 2178: 'kill', 2179: 'nonstatic', 2180: 'alias', 2181: 'authorization', 2182: 'nonetype', 2183: 'aborted', 2184: 'errno', 2185: 'reporting', 2186: 'associated', 2187: 'emacs', 2188: 'handlers', 2189: 'clientside', 2190: 'emulator', 2191: 'consecutive', 2192: 'smaller', 2193: 'servlets', 2194: 'configuring', 2195: 'expressjs', 2196: 'auth', 2197: 'starts', 2198: 'apple', 2199: '14', 2200: 'ad', 2201: 'sencha', 2202: 'javalangnullpointerexception', 2203: 'updatepanel', 2204: 'performing', 2205: 'hql', 2206: 'uinavigationcontroller', 2207: 'credentials', 2208: 'enabling', 2209: 'crop', 2210: 'crashing', 2211: 'rss', 2212: 'crud', 2213: 'e', 2214: 'beginner', 2215: 'directories', 2216: 'pie', 2217: 'hexadecimal', 2218: 'timed', 2219: 'translate', 2220: 'testng', 2221: 'readable', 2222: 'tutorials', 2223: 'dimension', 2224: 'caused', 2225: 'ror', 2226: 'windowopen', 2227: 'jre', 2228: 'observablecollection', 2229: 'tracking', 2230: 'fly', 2231: 'cut', 2232: 'regression', 2233: 'exceeded', 2234: 'measure', 2235: '2005', 2236: 'decoding', 2237: 'haml', 2238: '403', 2239: 'registered', 2240: 'dplyr', 2241: 'explanation', 2242: 'converter', 2243: 'operand', 2244: 'sprite', 2245: 'breaking', 2246: 'slice', 2247: 'printer', 2248: 'ambiguous', 2249: 'log4net', 2250: 'plugins', 2251: 'larger', 2252: 'extends', 2253: 'warnings', 2254: 'huge', 2255: 'jms', 2256: 'coordinate', 2257: 'advantages', 2258: 'strategy', 2259: 'collapse', 2260: 'underlying', 2261: 'continuous', 2262: 'imported', 2263: 'xlsx', 2264: 'lua', 2265: 'placeholder', 2266: 'cmd', 2267: 'rotating', 2268: 'xdocument', 2269: 'dimensions', 2270: 'excluding', 2271: 'flag', 2272: 'choice', 2273: 'superclass', 2274: 'displays', 2275: 'tr', 2276: 'respond', 2277: 'stdvector', 2278: 'repeated', 2279: 'navigate', 2280: 'duration', 2281: 'standalone', 2282: 'addresses', 2283: 'virtualenv', 2284: 'later', 2285: 'currency', 2286: 'produce', 2287: 'usr', 2288: 'subview', 2289: 'keyvalue', 2290: 'says', 2291: 'carrierwave', 2292: 'clang', 2293: 'fullscreen', 2294: 'role', 2295: 'grab', 2296: 'attempting', 2297: 'javalangclassnotfoundexception', 2298: 'memcached', 2299: 'jfreechart', 2300: 'ipython', 2301: 'triggering', 2302: 'h', 2303: 'autolayout', 2304: 'reuse', 2305: 'quickly', 2306: 'mutex', 2307: 'ndk', 2308: 'cms', 2309: 'twisted', 2310: 'older', 2311: 'gallery', 2312: 'asset', 2313: 'guava', 2314: 'creator', 2315: 'unity3d', 2316: 'occurs', 2317: 'appearing', 2318: 'seed', 2319: 'compute', 2320: 'hierarchy', 2321: 'grouped', 2322: 'worker', 2323: 'others', 2324: 'shift', 2325: 'trace', 2326: 'authenticated', 2327: 'commas', 2328: 'assigned', 2329: 'corresponding', 2330: 'extended', 2331: '53', 2332: 'zeros', 2333: '3rd', 2334: 'clearing', 2335: 'signed', 2336: 'shown', 2337: 'mootools', 2338: 'foo', 2339: '#define', 2340: '52', 2341: 'uialertview', 2342: 'activeadmin', 2343: 'blocking', 2344: 'sentence', 2345: 'rounding', 2346: 'blocked', 2347: 'formula', 2348: 'bulk', 2349: 'deal', 2350: 'visibility', 2351: 'alignment', 2352: 'vim', 2353: 'closest', 2354: 'modelform', 2355: 'capturing', 2356: 'uipickerview', 2357: 'retain', 2358: 'viewer', 2359: 'hostname', 2360: 'horizontally', 2361: 'multiplication', 2362: '400', 2363: 'joda', 2364: 'representation', 2365: 'meta', 2366: 'icons', 2367: 'jndi', 2368: 'immutable', 2369: 'quick', 2370: 'beautiful', 2371: 'lodash', 2372: 'priority', 2373: 'spinner', 2374: 'v', 2375: 'origin', 2376: 'apis', 2377: 'texture', 2378: 'enough', 2379: 'orderby', 2380: '_get', 2381: 'asynctask', 2382: 'pythonic', 2383: 'largest', 2384: 'contained', 2385: 'consuming', 2386: 'cygwin', 2387: 'xslt', 2388: 'explicitly', 2389: 'progressbar', 2390: 'floats', 2391: 'phpini', 2392: 'encrypted', 2393: 'plist', 2394: 'nsuserdefaults', 2395: 'tick', 2396: 'frequency', 2397: 'bundler', 2398: 'link_to', 2399: 'come', 2400: 'getter', 2401: 'domains', 2402: 'landscape', 2403: 'various', 2404: 'simultaneously', 2405: 'idle', 2406: '54', 2407: 'elasticsearch', 2408: 'instagram', 2409: 'synchronization', 2410: 'edittext', 2411: 'designer', 2412: 'manipulate', 2413: 'flow', 2414: 'router', 2415: 'regarding', 2416: 'webpack', 2417: 'friends', 2418: 'insertion', 2419: 'parentheses', 2420: 'mixed', 2421: 'javalangstring', 2422: 'chain', 2423: 'keypress', 2424: 'mechanize', 2425: 'protractor', 2426: 'determining', 2427: 'persistent', 2428: 'provided', 2429: 'conditionally', 2430: 'polymer', 2431: 'attempt', 2432: 'subdomain', 2433: 'paragraph', 2434: 'ce', 2435: 'param', 2436: 'springboot', 2437: 'pymongo', 2438: 'swap', 2439: 'netty', 2440: '32bit', 2441: 'shortcut', 2442: 'installer', 2443: 'gulp', 2444: 'dev', 2445: 'away', 2446: 'htmlagilitypack', 2447: 'javas', 2448: 'win', 2449: 'let', 2450: 'history', 2451: 'leaks', 2452: 'linkedlist', 2453: 'handled', 2454: '2011', 2455: 'pressing', 2456: 'firebug', 2457: 'evaluate', 2458: 'truncated', 2459: 'compact', 2460: 'cgi', 2461: 'programs', 2462: 'sqlstate', 2463: 'xna', 2464: 'serve', 2465: 'temporary', 2466: 'detail', 2467: 'file_get_contents', 2468: 'unchecked', 2469: 'combinations', 2470: 'combination', 2471: 'endpoint', 2472: 'javadoc', 2473: 'period', 2474: 'xib', 2475: 'multiselect', 2476: '200', 2477: 'knowing', 2478: 'distribution', 2479: 'photos', 2480: 'polymorphic', 2481: 'watch', 2482: 'arithmetic', 2483: 'countdown', 2484: 'flip', 2485: 'downloaded', 2486: 'jars', 2487: 'twodimensional', 2488: '41', 2489: 'inherit', 2490: 'mime', 2491: 'streams', 2492: 'ordered', 2493: 'ios7', 2494: 'rstudio', 2495: 'refer', 2496: 'keeps', 2497: 'picturebox', 2498: 'codeblocks', 2499: 'cases', 2500: 'insensitive', 2501: 'positioning', 2502: 'appengine', 2503: 'decimals', 2504: 'pivot', 2505: 'webapp', 2506: '1000', 2507: 'sync', 2508: 'phantomjs', 2509: 'momentjs', 2510: 'intellisense', 2511: 'boostasio', 2512: 'linkedin', 2513: 'stops', 2514: 'vs2010', 2515: 'edge', 2516: 'dlls', 2517: 'thumbnails', 2518: 'menus', 2519: 'frontend', 2520: 'formats', 2521: 'imap', 2522: 'creates', 2523: 'disappear', 2524: '21', 2525: 'navbar', 2526: 'draggable', 2527: 'gzip', 2528: 'vm', 2529: 'light', 2530: 'levels', 2531: 'dump', 2532: 'workbook', 2533: 'sensitive', 2534: 'safety', 2535: 'implements', 2536: 'paging', 2537: 'checkout', 2538: 'independent', 2539: 'sources', 2540: 'jasper', 2541: 'mapped', 2542: 'jsonparse', 2543: 'jsonp', 2544: 'classnotfoundexception', 2545: 'communicate', 2546: 'tried', 2547: 'commit', 2548: 'pyqt4', 2549: 'ember', 2550: 'composite', 2551: 'elastic', 2552: 'synchronized', 2553: 'bold', 2554: 'integrating', 2555: 'odata', 2556: 'allowing', 2557: 'ends', 2558: 'obj', 2559: 'codec', 2560: 'ifelse', 2561: 'deadlock', 2562: 'power', 2563: 'cython', 2564: 'hashing', 2565: 'globally', 2566: 'anaconda', 2567: 'jump', 2568: 'directives', 2569: 'enumeration', 2570: 'preparedstatement', 2571: 'authenticate', 2572: 'i18n', 2573: 'jsonobject', 2574: 'manual', 2575: 'parents', 2576: 'differently', 2577: 'ratio', 2578: 'graphs', 2579: 'nearest', 2580: 'fluent', 2581: 'consume', 2582: 'gps', 2583: 'jsonarray', 2584: 'python3', 2585: 'cpp', 2586: 'accessed', 2587: 'english', 2588: 'thing', 2589: 'onto', 2590: 'assertion', 2591: 'locked', 2592: 'populated', 2593: 'fileupload', 2594: 'advanced', 2595: 'opens', 2596: 'recommended', 2597: 'macros', 2598: 'cluster', 2599: 'jade', 2600: 'successfully', 2601: 'grails', 2602: 'uninstall', 2603: 'redirects', 2604: 'embedding', 2605: 'posted', 2606: 'animations', 2607: 'increasing', 2608: 'afnetworking', 2609: 'overloaded', 2610: 'indexing', 2611: 'supports', 2612: 'outputting', 2613: 'winrt', 2614: 'intent', 2615: 'listeners', 2616: 'hard', 2617: 'limited', 2618: 'resharper', 2619: 'longest', 2620: 'channel', 2621: 'concatenation', 2622: 'handshake', 2623: 'webkit', 2624: 'features', 2625: 'publish', 2626: 'identical', 2627: '18', 2628: 'nomethoderror', 2629: 'pthread', 2630: 'functional', 2631: 'lower', 2632: 'kivy', 2633: 'uwp', 2634: 'compress', 2635: 'scrollview', 2636: '22', 2637: 'invocation', 2638: 'sprintf', 2639: 'shadow', 2640: 'concurrency', 2641: 'trim', 2642: 'incomplete', 2643: 'nth', 2644: 'raphael', 2645: 'localization', 2646: 'urllib2', 2647: 'mat', 2648: 'backup', 2649: 'cocos2d', 2650: 'sleep', 2651: 'appropriate', 2652: 'thymeleaf', 2653: 'v2', 2654: 'rails3', 2655: 'alamofire', 2656: 'factor', 2657: 'collect', 2658: 'iso', 2659: 'select2', 2660: 'schedule', 2661: 'hosted', 2662: 'unavailable', 2663: 'alphabetically', 2664: 'djangos', 2665: 'typed', 2666: 'uppercase', 2667: 'lion', 2668: 'represent', 2669: 'nullable', 2670: 'forbidden', 2671: 'yet', 2672: 'customizing', 2673: 'bits', 2674: 'delimiter', 2675: 'responsive', 2676: 'rounded', 2677: 'unused', 2678: 'fires', 2679: 'ascending', 2680: 'javasqlsqlexception', 2681: 'threaded', 2682: 'webinf', 2683: 'roles', 2684: 'memcache', 2685: 'arent', 2686: 'guid', 2687: 'configured', 2688: 'might', 2689: 'preserving', 2690: 'el', 2691: 'imagemagick', 2692: 'maintaining', 2693: 'containers', 2694: 'serving', 2695: 'soup', 2696: 'sublime', 2697: 'gd', 2698: 'attached', 2699: 'customer', 2700: 'markdown', 2701: 'alpha', 2702: 'imports', 2703: 'begin', 2704: 'gcm', 2705: 'slideshow', 2706: 'sections', 2707: 'turning', 2708: 'smallest', 2709: 'trycatch', 2710: 'tokens', 2711: 'eof', 2712: 'improve', 2713: 'belongs_to', 2714: 'fully', 2715: 'messagebox', 2716: 'bubble', 2717: 'versa', 2718: 'mailer', 2719: 'leave', 2720: 'matrices', 2721: 'lightweight', 2722: 'stdmap', 2723: 'entityframework', 2724: 'joins', 2725: 'sizes', 2726: 'locations', 2727: 'solr', 2728: 'temporarily', 2729: 'subclassing', 2730: 'ienumerablet', 2731: 'dragging', 2732: 'jquerys', 2733: 'mapreduce', 2734: 'joining', 2735: 'launching', 2736: 'vc++', 2737: 'margin', 2738: 'entering', 2739: 'x64', 2740: 'igniter', 2741: 'mkmapview', 2742: 'listing', 2743: 'linqtosql', 2744: 'agility', 2745: 'yyyymmdd', 2746: 'friendly', 2747: 'people', 2748: 'multithread', 2749: 'scene', 2750: 'concatenating', 2751: 'clock', 2752: 'suppress', 2753: 'consolelog', 2754: 'guice', 2755: 'unittest', 2756: 'notify', 2757: 'fragments', 2758: 'prime', 2759: 'mq', 2760: 'cs', 2761: '_server', 2762: 'unmanaged', 2763: 'iterators', 2764: 'xp', 2765: 'producing', 2766: 'wall', 2767: 'forcing', 2768: 'mysqldb', 2769: 'retrieved', 2770: 'foundation', 2771: 'textblock', 2772: 'javamail', 2773: 'supplied', 2774: 'docker', 2775: 'scrape', 2776: 'renaming', 2777: 'invoked', 2778: 'websockets', 2779: 'persistence', 2780: 'injecting', 2781: 'greasemonkey', 2782: 'rate', 2783: 'iframes', 2784: 'logs', 2785: 'bitwise', 2786: 'complexity', 2787: 'listening', 2788: 'vice', 2789: 'resume', 2790: 'recaptcha', 2791: 'nltk', 2792: 'underscorejs', 2793: 'decorator', 2794: 'bufferedreader', 2795: 'redux', 2796: 'allows', 2797: 'github', 2798: 'aspect', 2799: 'didnt', 2800: 'uncheck', 2801: 'fabricjs', 2802: 'near', 2803: 'oledb', 2804: 'optimizing', 2805: 'hierarchical', 2806: 'gateway', 2807: 'unauthorized', 2808: 'session_start', 2809: 'commandline', 2810: 'pyspark', 2811: 'unexpectedly', 2812: 'retrofit', 2813: 'centos', 2814: 'xxx', 2815: 'jetty', 2816: 'webrtc', 2817: 'despite', 2818: 'stay', 2819: 'std', 2820: 'depth', 2821: 'positions', 2822: 'deleted', 2823: 'autofac', 2824: 'shapes', 2825: 'formdata', 2826: 'deployed', 2827: 'httpurlconnection', 2828: 'kind', 2829: 'yaxis', 2830: 'uploads', 2831: 'keydown', 2832: 'coredata', 2833: 'pipeline', 2834: 'monitoring', 2835: 'documentgetelementbyid', 2836: 'grunt', 2837: 'accesscontrolalloworigin', 2838: 'classname', 2839: 'webgl', 2840: 'panels', 2841: 'dispatcher', 2842: 'vuejs', 2843: 'safely', 2844: 'conflict', 2845: 'npm', 2846: 'choices', 2847: 'indexof', 2848: 'minute', 2849: 'flatten', 2850: 'prepare', 2851: 'migrating', 2852: 'layers', 2853: 'gc', 2854: 'effects', 2855: 'city', 2856: 'highest', 2857: '33', 2858: 'swf', 2859: 'low', 2860: 'achieve', 2861: 'xss', 2862: 'sites', 2863: 'clickonce', 2864: 'val', 2865: 'javascripts', 2866: 'lots', 2867: 'undeclared', 2868: 'automated', 2869: 'liferay', 2870: 'stacked', 2871: 'confused', 2872: 'evaluating', 2873: 'crossplatform', 2874: 'leaving', 2875: '61', 2876: 'automation', 2877: 'webservices', 2878: 'javalangoutofmemoryerror', 2879: 'crawler', 2880: 'upgrading', 2881: 'zooming', 2882: 'pooling', 2883: 'gradient', 2884: 'persisting', 2885: 'convention', 2886: 'interpreter', 2887: 'limiting', 2888: 'limits', 2889: 'computing', 2890: 'overlapping', 2891: 'rdlc', 2892: 'accepting', 2893: 'office', 2894: 'interview', 2895: 'beanstalk', 2896: 'quartz', 2897: 'qml', 2898: '2007', 2899: 'coming', 2900: 'spacing', 2901: 'yaml', 2902: 'hold', 2903: 'compatibility', 2904: 'instantiated', 2905: 'barplot', 2906: 'computers', 2907: 'angle', 2908: 'javautildate', 2909: 'tap', 2910: 'eager', 2911: 'jobs', 2912: 'volume', 2913: 'means', 2914: 'subviews', 2915: 'terminating', 2916: 'ec2', 2917: 'caught', 2918: 'descending', 2919: 'serialized', 2920: 'scalar', 2921: 'mixing', 2922: 'threadpool', 2923: 'asmx', 2924: 'httppost', 2925: 'ngclick', 2926: 'gesture', 2927: 'mod_rewrite', 2928: 'blur', 2929: 'generates', 2930: 'getelementbyid', 2931: 'subfolder', 2932: 'wp7', 2933: 'passwords', 2934: 'scheduler', 2935: '2x', 2936: 'advice', 2937: 'ternary', 2938: 'wmi', 2939: 'ending', 2940: 'reached', 2941: 'ports', 2942: 'clr', 2943: 'whose', 2944: 'finally', 2945: 'till', 2946: 'star', 2947: 'closures', 2948: 'cached', 2949: 'closes', 2950: 'spec', 2951: 'rich', 2952: 'languages', 2953: 'msbuild', 2954: 'scatter', 2955: 'instantiation', 2956: 'payload', 2957: 'serializer', 2958: 'bypass', 2959: 'diff', 2960: 'onmouseover', 2961: 'colon', 2962: 'winapi', 2963: 'queues', 2964: 'doubles', 2965: 'ever', 2966: 'radiobutton', 2967: 'encountered', 2968: 'broadcast', 2969: 'gif', 2970: 'logical', 2971: 'loader', 2972: 'httpget', 2973: 'typing', 2974: 'encrypting', 2975: 'webserver', 2976: 'drawn', 2977: 'scheduled', 2978: 'ranges', 2979: 'actionlistener', 2980: '2nd', 2981: 'pomxml', 2982: 'direction', 2983: 'book', 2984: 'indentation', 2985: 'animating', 2986: 'getjson', 2987: 'backing', 2988: 'pm', 2989: 'stringformat', 2990: 'material', 2991: 'surface', 2992: 'z', 2993: 'registering', 2994: 'corrupted', 2995: 'ref', 2996: 'business', 2997: 'packets', 2998: 'stopping', 2999: 'stylesheet', 3000: 'reorder', 3001: 'procedures', 3002: '60', 3003: 'escaped', 3004: 'terminated', 3005: 'delphi', 3006: 'nilnilclass', 3007: 'pointing', 3008: '401', 3009: 'directx', 3010: 'jscrollpane', 3011: 'nullreferenceexception', 3012: 'modifier', 3013: 'recognition', 3014: 'indexphp', 3015: 'rollback', 3016: 'since', 3017: 'years', 3018: 'builds', 3019: 'higher', 3020: 'fb', 3021: 'recent', 3022: 'develop', 3023: 'goes', 3024: 'dash', 3025: 'alive', 3026: 'equation', 3027: 'jumping', 3028: 'thats', 3029: 'databind', 3030: 'division', 3031: 'minus', 3032: 'workaround', 3033: 'stand', 3034: 'processed', 3035: 'paint', 3036: 'dismiss', 3037: 'addition', 3038: 'pthreads', 3039: 'archive', 3040: 'four', 3041: 'foreignkey', 3042: 'hang', 3043: 'databound', 3044: 'freeze', 3045: 'indent', 3046: 'parsed', 3047: 'entitymanager', 3048: 'scripting', 3049: 'datacontext', 3050: 'sliding', 3051: 'benefits', 3052: 'braces', 3053: 'membership', 3054: 'jython', 3055: 'freezes', 3056: 'animated', 3057: 'nstimer', 3058: 'resizable', 3059: '34', 3060: 'keywords', 3061: 'fonts', 3062: 'easily', 3063: 'ie11', 3064: 'managepy', 3065: '23', 3066: '193', 3067: 'classic', 3068: 'subscript', 3069: 'elapsed', 3070: 'choosing', 3071: 'hit', 3072: 'karma', 3073: 'xls', 3074: 'svn', 3075: 'phpfpm', 3076: 'newlines', 3077: 'beta', 3078: 'bring', 3079: 'smarty', 3080: 'filled', 3081: 'hbase', 3082: 'followed', 3083: 'opacity', 3084: 'gae', 3085: 'ibm', 3086: 'peer', 3087: 'dots', 3088: 'indicator', 3089: 'restore', 3090: 'expire', 3091: 'javalangillegalstateexception', 3092: 'incoming', 3093: 'dns', 3094: 'dbcontext', 3095: 'mod_wsgi', 3096: 'states', 3097: 'conventions', 3098: 'ipn', 3099: 't_string', 3100: 'statistics', 3101: 'intersection', 3102: '26', 3103: 'gtk', 3104: 'submitted', 3105: 'formatter', 3106: 'scheme', 3107: 'score', 3108: 'tls', 3109: 'runnable', 3110: 'powerpoint', 3111: 'coverage', 3112: 'consumer', 3113: 'toolkit', 3114: 'attr', 3115: 'cons', 3116: 'calculations', 3117: 'considered', 3118: 'selectors', 3119: 'webmethod', 3120: 'human', 3121: 'sass', 3122: 'preferred', 3123: 'guide', 3124: 'mocha', 3125: 'steps', 3126: 'applicable', 3127: 'incrementing', 3128: 'parameterized', 3129: 'stringbuilder', 3130: 'ff', 3131: 'ssis', 3132: 'cocoapods', 3133: 'recommend', 3134: 'cloning', 3135: '1d', 3136: 'responses', 3137: 'newly', 3138: 'clustering', 3139: 'writer', 3140: 'javalangillegalargumentexception', 3141: 'ngmodel', 3142: 'stripe', 3143: 'duplicated', 3144: 'sessionfactory', 3145: 'infowindow', 3146: 'dialogs', 3147: 'quiz', 3148: 'quit', 3149: 'responding', 3150: 'jqueryajax', 3151: '1st', 3152: 'useful', 3153: 'marks', 3154: 'efficiency', 3155: 'truncate', 3156: 'hitting', 3157: 'removed', 3158: 'shopping', 3159: 'jqueryui', 3160: 'asio', 3161: 'synchronize', 3162: 'triggers', 3163: 'today', 3164: 'destination', 3165: 'valgrind', 3166: 'shutdown', 3167: 'telerik', 3168: 'utility', 3169: 'browse', 3170: 'translation', 3171: 'explode', 3172: '#include', 3173: 'ilist', 3174: 'sequences', 3175: 'future', 3176: 'specifier', 3177: 'vba', 3178: 'wildcards', 3179: 'equality', 3180: 'handlebars', 3181: 'springmvc', 3182: 'owin', 3183: 'na', 3184: 'alphabetical', 3185: 'protobuf', 3186: 'protect', 3187: 'happen', 3188: '000', 3189: 'specifically', 3190: 'literals', 3191: 'iis7', 3192: 'dropbox', 3193: 'pushing', 3194: 'disappears', 3195: 'training', 3196: 'certificates', 3197: 'loaderror', 3198: '302', 3199: 'axes', 3200: 'xamarinforms', 3201: 'migrate', 3202: 'answer', 3203: 'openlayers', 3204: 'org', 3205: 'g', 3206: 'suite', 3207: 'apostrophe', 3208: 'associations', 3209: 'artifact', 3210: 'arabic', 3211: 'exited', 3212: '80', 3213: 'ask', 3214: 'kafka', 3215: 'assert', 3216: 'appended', 3217: 'stretch', 3218: 'json_decode', 3219: 'ext', 3220: 'incorrectly', 3221: 'javalangclasscastexception', 3222: 'javaioioexception', 3223: 'filenames', 3224: 'ive', 3225: 'scikitlearn', 3226: 'interpreted', 3227: 'designing', 3228: 'disadvantages', 3229: 'restkit', 3230: '3x', 3231: 'nio', 3232: 'uirouter', 3233: 'desired', 3234: 'descriptor', 3235: 'umbraco', 3236: 'uitableviewcells', 3237: 'cipher', 3238: 'remotely', 3239: 'reliable', 3240: 'degrees', 3241: 'classloader', 3242: 'mysql_fetch_array', 3243: 'mvc5', 3244: 'music', 3245: 'dispose', 3246: 'scenario', 3247: 'mpmovieplayercontroller', 3248: 'mpi', 3249: 'worksheet', 3250: 'doctrine2', 3251: 'scopes', 3252: '43', 3253: 'scrollable', 3254: 'typefile', 3255: 'dollar', 3256: 'modification', 3257: 'modern', 3258: 'geolocation', 3259: 'classs', 3260: 'initializers', 3261: 'downloads', 3262: 'anchors', 3263: 'h2', 3264: 'gone', 3265: 'conflicting', 3266: 'parsecom', 3267: 'connector', 3268: 'portable', 3269: 'continuously', 3270: 'recognizing', 3271: 'controlling', 3272: 'corners', 3273: 'weeks', 3274: 'pipes', 3275: 'pictures', 3276: 'physical', 3277: 'wifi', 3278: 'produces', 3279: 'packet', 3280: 'concat', 3281: 'overwriting', 3282: 'foreground', 3283: 'unless', 3284: 'customized', 3285: 'abort', 3286: 'datastore', 3287: 'datatemplate', 3288: 'datetimepicker', 3289: 'acceptable', 3290: 'db2', 3291: 'occured', 3292: 'underscores', 3293: 'reasons', 3294: 'segment', 3295: 'charset', 3296: 'sparse', 3297: 'automate', 3298: 'maximize', 3299: 'benefit', 3300: 'manipulating', 3301: 'matched', 3302: 'masterpage', 3303: 'traversal', 3304: 'ago', 3305: '55', 3306: 'magic', 3307: 'evaluation', 3308: 'sheets', 3309: 'avplayer', 3310: 'marked', 3311: 'verification', 3312: 'es', 3313: 'axis2', 3314: 'manytoone', 3315: 'writes', 3316: 'linkbutton', 3317: 'social', 3318: 'servicestack', 3319: 'sonar', 3320: 'kit', 3321: 'bracket', 3322: 'doxygen', 3323: 'memorystream', 3324: 'fscanf', 3325: 'bucket', 3326: 'listobject', 3327: 'ones', 3328: 'pulling', 3329: 'instantiating', 3330: 'radius', 3331: 'zindex', 3332: 'compilers', 3333: 'pros', 3334: 'compression', 3335: 'overrides', 3336: 'unload', 3337: 'little', 3338: 'epoch', 3339: 'py', 3340: '2003', 3341: 'alternate', 3342: 'thousand', 3343: 'j2me', 3344: 'pydev', 3345: 'unicodeencodeerror', 3346: 'us', 3347: 'traffic', 3348: 'comes', 3349: 'openerp', 3350: 'pyside', 3351: 'dealloc', 3352: 'systems', 3353: 'corner', 3354: 'strict', 3355: 'pojo', 3356: 'lat', 3357: 'grey', 3358: 'php5', 3359: 'placed', 3360: 'knitr', 3361: 'xelement', 3362: 'k', 3363: 'pin', 3364: 'phpstorm', 3365: 'tail', 3366: 'invisible', 3367: 'keyup', 3368: 'upper', 3369: 'percent', 3370: 'promises', 3371: '_session', 3372: 'isset', 3373: 'wildfly', 3374: 'proguard', 3375: 'webforms', 3376: 'offline', 3377: 'interpolation', 3378: 'printed', 3379: 'unwanted', 3380: 'varchar', 3381: 'conflicts', 3382: 'autowired', 3383: 'inserts', 3384: 'past', 3385: 'xsl', 3386: 'expired', 3387: 'analysis', 3388: 'rand', 3389: 'mysql_query', 3390: 'interaction', 3391: 'gdi+', 3392: 'suddenly', 3393: '405', 3394: 'suffix', 3395: 'suggestions', 3396: 'summary', 3397: 'executes', 3398: 'visualization', 3399: 'reusing', 3400: 'xmlserializer', 3401: 'chaining', 3402: 'newbie', 3403: 'localized', 3404: 'multilevel', 3405: '42', 3406: 'f', 3407: 'flush', 3408: 'mp4', 3409: 'bot', 3410: 'intercept', 3411: 'calayer', 3412: 'interrupt', 3413: 'typedef', 3414: 'seperate', 3415: 'tmp', 3416: 'sender', 3417: 'wrapped', 3418: 'segfault', 3419: 'semicolon', 3420: '_', 3421: 'respect', 3422: 'effective', 3423: 'indexed', 3424: 'remember', 3425: 'annotated', 3426: 'definitions', 3427: 'slashes', 3428: 'decrypting', 3429: 'highchart', 3430: 'arraylists', 3431: 'nsurlconnection', 3432: 'red', 3433: 'declarations', 3434: 'slicing', 3435: 'advantage', 3436: 'looks', 3437: 'helpers', 3438: 'obtaining', 3439: 'located', 3440: 'resolving', 3441: 'accuracy', 3442: 'uisearchbar', 3443: 'indexhtml', 3444: 'simple_form', 3445: 'managing', 3446: 'noclassdeffounderror', 3447: 'electron', 3448: 'inheriting', 3449: 'hive', 3450: 'extern', 3451: 'integrity', 3452: 'ansi', 3453: 'techniques', 3454: 'integral', 3455: 'apk', 3456: 'anyway', 3457: 'focused', 3458: 'internally', 3459: 'fopen', 3460: 'textfile', 3461: 'term', 3462: 'malformed', 3463: 'ioexception', 3464: 'operands', 3465: 'windowlocation', 3466: 'rabbitmq', 3467: 'rectangles', 3468: 'redirected', 3469: 'redraw', 3470: 'refactoring', 3471: 'nsinvalidargumentexception', 3472: 'degree', 3473: 'released', 3474: 'remaining', 3475: '19', 3476: 'density', 3477: 'chunk', 3478: 'representing', 3479: 'chinese', 3480: 'vs2012', 3481: 'resized', 3482: 'vs2008', 3483: 'restarting', 3484: 'quality', 3485: 'cycle', 3486: 'tabbar', 3487: 'oriented', 3488: 'contexts', 3489: 'pom', 3490: 'permutations', 3491: 'popover', 3492: 'contenttype', 3493: 'posix', 3494: 'construction', 3495: 'crossbrowser', 3496: 'crossdomain', 3497: 'connectionstring', 3498: 'prestashop', 3499: 'previously', 3500: 'processstart', 3501: 'profiling', 3502: 'overlap', 3503: 'computed', 3504: 'overhead', 3505: 'curly', 3506: 'curve', 3507: 'nesting', 3508: 'rewriting', 3509: 'rolling', 3510: 'visitors', 3511: 'splash', 3512: 'erase', 3513: 'spritekit', 3514: 'backslash', 3515: 'establish', 3516: 'exercise', 3517: 'existence', 3518: 'expose', 3519: 'subdomains', 3520: 'subprocesspopen', 3521: 'fadein', 3522: 'jmeter', 3523: 'assemblies', 3524: 'xmlreader', 3525: 'javac', 3526: 'japanese', 3527: 'j2ee', 3528: 'iqueryable', 3529: 'flat', 3530: 'specification', 3531: 'solutions', 3532: 'x86_64', 3533: 'migrations', 3534: 'salesforce', 3535: 'msvc', 3536: 'caller', 3537: 'movie', 3538: 'movement', 3539: 'scrolled', 3540: 'mix', 3541: 'minimize', 3542: 'seo', 3543: 'beyond', 3544: 'messaging', 3545: 'boundary', 3546: 'mdb', 3547: 'mass', 3548: 'sidebar', 3549: 'mamp', 3550: 'simply', 3551: 'sized', 3552: 'seen', 3553: 'pick', 3554: 'activation', 3555: 'traverse', 3556: 'actionscript', 3557: '__init__', 3558: 'implementations', 3559: 'timestamps', 3560: 'activemq', 3561: 'tips', 3562: 'transient', 3563: 'googles', 3564: 'ignores', 3565: 'timeline', 3566: 'uploader', 3567: 'transformation', 3568: 'imagefield', 3569: 'unordered', 3570: 'todays', 3571: 'hdfs', 3572: 'threw', 3573: 'geocoding', 3574: 'hy000', 3575: 'ticks', 3576: 'unicodedecodeerror', 3577: 'algorithms', 3578: 'uinavigationbar', 3579: 'gmt', 3580: 'tile', 3581: 'yield', 3582: '_files', 3583: 'hhmmss', 3584: 'aligned', 3585: 'activex', 3586: 'presence', 3587: 'ssrs', 3588: 'viewport', 3589: 'secret', 3590: 'nonblocking', 3591: 'supporting', 3592: 'wp8', 3593: 'anyobject', 3594: 'placement', 3595: 'optimized', 3596: 'workflow', 3597: 'openshift', 3598: 'opencl', 3599: 'storyboards', 3600: 'javalangnosuchmethoderror', 3601: 'sqlcommand', 3602: 'imshow', 3603: 'selects', 3604: 'int32', 3605: 'resetting', 3606: 'sdl', 3607: 'xhtml', 3608: 'scaling', 3609: 'ninject', 3610: 'osgi', 3611: 'punctuation', 3612: 'scientific', 3613: 'webcam', 3614: 'stdset', 3615: 'djangorestframework', 3616: 'correlation', 3617: 'intended', 3618: 'demo', 3619: 'requiring', 3620: 'vsto', 3621: 'lambdas', 3622: 'cake', 3623: 'vagrant', 3624: 'docx', 3625: 'dao', 3626: 'supposed', 3627: 'nib', 3628: 'autowire', 3629: 'availability', 3630: 'factorygirl', 3631: 'collector', 3632: 'varying', 3633: 'accurate', 3634: 'nspredicate', 3635: 'constantly', 3636: 'transparency', 3637: 'ios5', 3638: 'flexible', 3639: 'transport', 3640: 'periodically', 3641: 'credit', 3642: 'loses', 3643: 'edition', 3644: 'mathematical', 3645: 'alphabet', 3646: 'observe', 3647: 'markup', 3648: 'bidirectional', 3649: 'flags', 3650: 'recording', 3651: 'itemssource', 3652: 'simultaneous', 3653: 'systemstring', 3654: 'mapkit', 3655: 'debian', 3656: 'numerical', 3657: 'gb', 3658: 'signals', 3659: 'ocr', 3660: 'wav', 3661: 'mechanism', 3662: 'girl', 3663: 'hyphen', 3664: 'sends', 3665: 'onetoone', 3666: 'taskbar', 3667: 'separately', 3668: 'expensive', 3669: 'env', 3670: 'writable', 3671: 'policy', 3672: 'vbscript', 3673: 'preference', 3674: 'transactional', 3675: 'borders', 3676: 'polyline', 3677: 'jasperreports', 3678: 'predicate', 3679: 'predefined', 3680: 'x86', 3681: 'raising', 3682: 'argumenterror', 3683: 'highlighted', 3684: 'args', 3685: 'randomize', 3686: 'dynamodb', 3687: 'samples', 3688: 'combined', 3689: 'processor', 3690: 'things', 3691: 'jodatime', 3692: 'paper', 3693: 'subfolders', 3694: 'inconsistent', 3695: 'carriage', 3696: 'retry', 3697: 'overridden', 3698: 'think', 3699: 'subplots', 3700: 'substrings', 3701: 'textures', 3702: 'jscript', 3703: 'associate', 3704: 'aka', 3705: 'facet', 3706: 'stub', 3707: 'uiimagepickercontroller', 3708: 'welcome', 3709: 'digital', 3710: 'dirty', 3711: 'neural', 3712: 'forloop', 3713: 'hanging', 3714: 'handles', 3715: 'volley', 3716: 'culture', 3717: 'outofmemoryerror', 3718: 'forever', 3719: 'navigating', 3720: 'serialport', 3721: 'neither', 3722: 'album', 3723: 'viewbag', 3724: 'preferences', 3725: 'raised', 3726: 'polling', 3727: '128', 3728: 'classcastexception', 3729: 'arm', 3730: 'breakpoints', 3731: 'taken', 3732: 'breakpoint', 3733: 'xmpp', 3734: 'dictionarystring', 3735: 'regardless', 3736: 'notepad++', 3737: 'contextmenu', 3738: 'sortable', 3739: 'solved', 3740: 'hovering', 3741: 'releasing', 3742: 'driven', 3743: 'ci', 3744: 'guessing', 3745: 'datarow', 3746: 'holding', 3747: 'qstring', 3748: 'categorical', 3749: 'datalist', 3750: 'chunks', 3751: 'sequentially', 3752: 'sqlexception', 3753: 'depends', 3754: 'viewing', 3755: 'az', 3756: 'awt', 3757: 'although', 3758: 'cin', 3759: 'uitableviewcontroller', 3760: 'downgrade', 3761: 'diagonal', 3762: 'xmlelement', 3763: 'delimiters', 3764: 'addin', 3765: 'deletion', 3766: 'disconnect', 3767: 'middleware', 3768: 'hack', 3769: 'speech', 3770: 'subtracting', 3771: 'tweet', 3772: 'targets', 3773: 'asterisk', 3774: 'sequential', 3775: 'ioc', 3776: 'vertex', 3777: 'webpages', 3778: 'systemnullreferenceexception', 3779: 'gstreamer', 3780: 'mappings', 3781: 'contenteditable', 3782: 'dbmigrate', 3783: 'cocos2dx', 3784: 'effectively', 3785: 'emulate', 3786: 'official', 3787: 'freed', 3788: 'portion', 3789: 'marshal', 3790: 'ef6', 3791: 'windowprint', 3792: 'wxwidgets', 3793: 'simulation', 3794: 'adobe', 3795: 'perfect', 3796: 'readline', 3797: 'ddmmyyyy', 3798: 'possibly', 3799: 'pdfs', 3800: 'contacts', 3801: 'mainwindow', 3802: 'pdoexception', 3803: 'subquery', 3804: 'pi', 3805: 'natural', 3806: 'significant', 3807: 'richfaces', 3808: 'finishes', 3809: 'admob', 3810: 'board', 3811: 'marshalling', 3812: 'uicollectionviewcell', 3813: 'reducing', 3814: 'ram', 3815: 'subclasses', 3816: 'translating', 3817: 'pid', 3818: 'reversing', 3819: 'threadsleep', 3820: 'xy', 3821: 'gemfile', 3822: 'subdirectory', 3823: 'alone', 3824: 'alertdialog', 3825: 'rank', 3826: 'mb', 3827: 'raphaeljs', 3828: 'wants', 3829: 'nuget', 3830: 'eclipselink', 3831: 'setters', 3832: 'transpose', 3833: 'unbind', 3834: 'pre', 3835: 'pad', 3836: 'redirect_to', 3837: 'trap', 3838: 'accepts', 3839: 'loss', 3840: 'webform', 3841: 'hides', 3842: 'enclosing', 3843: 'ideas', 3844: 'age', 3845: 'drawer', 3846: 'mod', 3847: '2dimensional', 3848: 'checkboxlist', 3849: 'atomic', 3850: 'configurable', 3851: 'hardware', 3852: 'hashcode', 3853: 'nonascii', 3854: 'jwt', 3855: 'unset', 3856: 'legacy', 3857: 'layouts', 3858: 'chosen', 3859: 'amounts', 3860: 'thousands', 3861: 'cards', 3862: 'sailsjs', 3863: 'svm', 3864: 'frequent', 3865: 'leaves', 3866: 'unsafe', 3867: 'ld', 3868: 'presses', 3869: 'dispatch', 3870: 'se', 3871: 'compared', 3872: 'hresult', 3873: 'cassandra', 3874: 'javanetsocketexception', 3875: 'calculated', 3876: 'homepage', 3877: 'attack', 3878: 'homebrew', 3879: 'attaching', 3880: 'xhr', 3881: 'arrows', 3882: 'asking', 3883: 'exc_bad_access', 3884: 'placeholders', 3885: 'workspace', 3886: 'scrollbars', 3887: 'ampersand', 3888: 'partially', 3889: 'unserialize', 3890: 'timespan', 3891: '90', 3892: 'tooltips', 3893: 'requirements', 3894: 'feeds', 3895: 'news', 3896: 'grayscale', 3897: 'jsonstringify', 3898: 'reflect', 3899: 'itemtemplate', 3900: 'adds', 3901: 'lvalue', 3902: 'soft', 3903: 'findall', 3904: 'wizard', 3905: 'filesystem', 3906: 'windowonload', 3907: '#2', 3908: 'inflating', 3909: 'locks', 3910: 'nsdateformatter', 3911: 'prev', 3912: 'lang', 3913: 'reactnative', 3914: 'concept', 3915: 'greek', 3916: 'fake', 3917: 'alter', 3918: 'glsl', 3919: 'argv', 3920: 'blog', 3921: 'mysqli_query', 3922: 'subdirectories', 3923: 'httpresponse', 3924: 'sizeof', 3925: 'accepted', 3926: 'submenu', 3927: 'filtered', 3928: 'occur', 3929: 'sunday', 3930: '1204', 3931: 'lose', 3932: 'outputstream', 3933: 'hot', 3934: 'annotate', 3935: 't_variable', 3936: 'getters', 3937: 'ipaddress', 3938: 'subject', 3939: 'indexerror', 3940: 'amp', 3941: 'observer', 3942: 'recyclerview', 3943: 'stock', 3944: 'activities', 3945: 'flasksqlalchemy', 3946: 'ppt', 3947: 'rubygems', 3948: 'suspend', 3949: 'snake', 3950: 'identifying', 3951: 'swagger', 3952: 'interact', 3953: 'mutable', 3954: 'platforms', 3955: 'decrement', 3956: 'nsobject', 3957: 'logon', 3958: 'emit', 3959: 'margins', 3960: 'smoothly', 3961: 'act', 3962: 'docs', 3963: 'iterable', 3964: 'directions', 3965: 'activate', 3966: 'pthread_create', 3967: 'nice', 3968: 'payments', 3969: 'thirdparty', 3970: 'happening', 3971: 'flex', 3972: 'outputs', 3973: 'bat', 3974: 'friend', 3975: 'doubly', 3976: 'actively', 3977: 'factors', 3978: 'multiplying', 3979: 'qtcreator', 3980: 'administrator', 3981: 'templated', 3982: 'reply', 3983: 'discrete', 3984: 'clojure', 3985: 'removal', 3986: 'tpl', 3987: 'circles', 3988: 'validations', 3989: 'addeventlistener', 3990: 'stanford', 3991: 'consumption', 3992: 'colored', 3993: 'weak', 3994: 'shouldnt', 3995: 'meteorjs', 3996: 'remain', 3997: 'sqlconnection', 3998: 'cout', 3999: 'shortest', 4000: 'pending', 4001: 'anymore', 4002: 'receiver', 4003: 'crossorigin', 4004: 'timeseries', 4005: 'chromedriver', 4006: 'subscribe', 4007: 'operating', 4008: 'elementwise', 4009: '09', 4010: 'license', 4011: 'stackoverflow', 4012: 'opensource', 4013: 'leopard', 4014: 'disposed', 4015: 'linearlayout', 4016: 'aop', 4017: '256', 4018: 'outline', 4019: 'expect', 4020: 'func', 4021: 'expanding', 4022: 'userdefined', 4023: 'masked', 4024: 'nonzero', 4025: 'latex', 4026: 'invalidate', 4027: 'collectionview', 4028: 'producer', 4029: 'turned', 4030: 'relational', 4031: 'childs', 4032: 'buffers', 4033: 'pretty', 4034: 'rejected', 4035: 'scrolltop', 4036: 'pyplot', 4037: 'vnext', 4038: 'windsor', 4039: 'onclicklistener', 4040: 'copied', 4041: 'cpanel', 4042: 'fallback', 4043: 'drawrect', 4044: 'daemon', 4045: 'httpservletrequest', 4046: 'wp', 4047: 'sense', 4048: 'stringsplit', 4049: 'mysql2', 4050: 'captured', 4051: 'mysql_connect', 4052: 'immediate', 4053: 'titles', 4054: 'usable', 4055: 'affect', 4056: 'asm', 4057: 'spider', 4058: '192', 4059: 'disappearing', 4060: 'separating', 4061: 'environments', 4062: 'underline', 4063: 'impossible', 4064: 'attempts', 4065: 'machines', 4066: 'rcp', 4067: 'prototypes', 4068: 'prints', 4069: 'street', 4070: 'helloworld', 4071: 'straight', 4072: 'parameterless', 4073: 'outofmemoryexception', 4074: 'profiler', 4075: 'constructed', 4076: 'strcpy', 4077: 'timezones', 4078: 'timing', 4079: 'submits', 4080: 'oauth2', 4081: 'reach', 4082: 'improving', 4083: 'lan', 4084: 'skipping', 4085: 'oserror', 4086: 'avaudioplayer', 4087: 'wide', 4088: 'fan', 4089: 'barcode', 4090: 'illegalstateexception', 4091: 'prop', 4092: 'timeouts', 4093: 'toggling', 4094: 'probability', 4095: 'unfortunately', 4096: 'organize', 4097: 'specialization', 4098: 'llvm', 4099: 'pyramid', 4100: 'enumerate', 4101: 'badge', 4102: 'backwards', 4103: 'backspace', 4104: 'lengths', 4105: 'optimal', 4106: 'stable', 4107: 'blackberry', 4108: 'openxml', 4109: 'limitations', 4110: 'sys', 4111: 'stamp', 4112: 'onsubmit', 4113: 'stroke', 4114: 'figures', 4115: 'legal', 4116: 'strongly', 4117: 'backgroundimage', 4118: 'exposing', 4119: 'cropping', 4120: 'preferably', 4121: 'affected', 4122: 'slug', 4123: 'comparisons', 4124: 'parenthesis', 4125: 'cshtml', 4126: '75', 4127: 'raspberry', 4128: 'smart', 4129: 'kml', 4130: 'j', 4131: 'kinect', 4132: 'ascx', 4133: 'has_one', 4134: 'important', 4135: 'lot', 4136: 'concrete', 4137: 'unmarshalling', 4138: 'yesterday', 4139: 'coldfusion', 4140: '__attribute__', 4141: 'java_home', 4142: 'crontab', 4143: 'communicating', 4144: 'pyc', 4145: 'cstring', 4146: 'stdclass', 4147: 'subtraction', 4148: 'snap', 4149: 'becomes', 4150: 'pro', 4151: '70', 4152: 'assignments', 4153: 'allocating', 4154: 'comparator', 4155: 'www', 4156: 'digest', 4157: 'sibling', 4158: 'tfs', 4159: 'dropping', 4160: 'serversocket', 4161: 'turns', 4162: 'delayed', 4163: 'relations', 4164: 'person', 4165: 'apns', 4166: '36', 4167: 'disconnected', 4168: 'hyperlinks', 4169: 'segments', 4170: 'resulting', 4171: 'intervals', 4172: 'bytearray', 4173: 'inspect', 4174: 'apache2', 4175: 'chance', 4176: 'castle', 4177: 'hub', 4178: 'usercontrols', 4179: 'accounts', 4180: 'retrieval', 4181: 'theano', 4182: 'routeprovider', 4183: 'nsurl', 4184: 'mavericks', 4185: 'versioning', 4186: 'maximized', 4187: 'appium', 4188: 'maybe', 4189: 'flickering', 4190: 'refactor', 4191: 'didselectrowatindexpath', 4192: '502', 4193: 'ear', 4194: 'meant', 4195: '05', 4196: 'theres', 4197: 'dynamics', 4198: 'rotated', 4199: 'involving', 4200: 'permitted', 4201: 'permutation', 4202: '__getitem__', 4203: 'visit', 4204: 'unbound', 4205: 'deviation', 4206: 'hooks', 4207: 'terms', 4208: 'corrupt', 4209: 'rubys', 4210: '1404', 4211: 'acting', 4212: 'detached', 4213: 'require_once', 4214: 'displaynone', 4215: 'typetext', 4216: 'acquire', 4217: 'scanning', 4218: 'placing', 4219: 'say', 4220: 'among', 4221: 'djangoadmin', 4222: 'ngshow', 4223: 'distinguish', 4224: 'sandbox', 4225: 'capitalize', 4226: 'cascade', 4227: 'worth', 4228: '16bit', 4229: 'interest', 4230: 'grammar', 4231: 'viewpager', 4232: 'wheel', 4233: 'nonempty', 4234: 'temp', 4235: 'gray', 4236: 'internationalization', 4237: 'temperature', 4238: 'secured', 4239: 'international', 4240: 'repo', 4241: 'couchdb', 4242: 'repositories', 4243: 'caseinsensitive', 4244: 'newer', 4245: 'cost', 4246: 'cascading', 4247: 'represented', 4248: 'corruption', 4249: 'ws', 4250: 'discover', 4251: 'edited', 4252: 'manner', 4253: 'clob', 4254: 'five', 4255: 'grabbing', 4256: 'mapper', 4257: 'cellforrowatindexpath', 4258: 'shorter', 4259: 'contentlength', 4260: 'getelementsbyclassname', 4261: 'dir', 4262: 'showdialog', 4263: 'accessor', 4264: 'rect', 4265: 'ipv6', 4266: 'shell_exec', 4267: 'forwarding', 4268: 'receives', 4269: 'weka', 4270: '71', 4271: 'outgoing', 4272: 'ddl', 4273: 'bindingsource', 4274: 'des', 4275: 'props', 4276: 'intermediate', 4277: 'eliminate', 4278: 'ctrl', 4279: 'secondary', 4280: 'inherits', 4281: 'follows', 4282: 'len', 4283: 'idiom', 4284: 'presentation', 4285: 'simplexmlelement', 4286: 'ordinal', 4287: 'stores', 4288: 'simplify', 4289: 'half', 4290: 'scrolls', 4291: 'mvc2', 4292: 'de', 4293: 'percentages', 4294: 'webxml', 4295: 'monday', 4296: 'autoscroll', 4297: 'webapplication', 4298: 'ini', 4299: 'commaseparated', 4300: 'leads', 4301: 'reads', 4302: 'moment', 4303: 'autowiring', 4304: 'perfectly', 4305: 'converts', 4306: 'automating', 4307: 'repaint', 4308: 'rmarkdown', 4309: 'suggestion', 4310: 'anywhere', 4311: 'lifecycle', 4312: 'javalangunsatisfiedlinkerror', 4313: 'gridlayout', 4314: 'panning', 4315: 'reconnect', 4316: 'lifetime', 4317: 'openid', 4318: 'reactrouter', 4319: 'backcolor', 4320: 'instruction', 4321: 'triangles', 4322: 'unlock', 4323: 'squares', 4324: 'libs', 4325: 'fosuserbundle', 4326: 'stringreplace', 4327: 'repeats', 4328: 'arrayliststring', 4329: 'sides', 4330: 'phase', 4331: 'partialview', 4332: 'trees', 4333: 'q', 4334: 'objectid', 4335: 'technique', 4336: 'opposed', 4337: 'sscanf', 4338: 'uitabbarcontroller', 4339: 'mandatory', 4340: 'dos', 4341: 'seeing', 4342: 'dead', 4343: 'phtml', 4344: 'ngif', 4345: 'requirement', 4346: 'killed', 4347: 'subscription', 4348: 'aspectj', 4349: 'hhmm', 4350: 'destruction', 4351: 'dock', 4352: 'fetched', 4353: 'pager', 4354: 'httprequest', 4355: 'nas', 4356: 'purposes', 4357: 'checkedlistbox', 4358: 'godaddy', 4359: 'destroyed', 4360: 'compareto', 4361: 'textfields', 4362: 'expiration', 4363: 'latin', 4364: 'compiletime', 4365: 'u', 4366: 'mstest', 4367: 'msg', 4368: 'strength', 4369: 'isolate', 4370: 'dist', 4371: 'outofmemory', 4372: 'disposing', 4373: 'executereader', 4374: 'providing', 4375: 'parallelforeach', 4376: 'rxjava', 4377: 'published', 4378: 'keystore', 4379: 'subqueries', 4380: 'stdlist', 4381: 'conform', 4382: 'newtonsoftjson', 4383: 'moved', 4384: 'mousedown', 4385: 'centering', 4386: 'motion', 4387: 'monthly', 4388: 'monotouch', 4389: 'xx', 4390: 'interceptor', 4391: 'cvmat', 4392: 'crawling', 4393: 'inactive', 4394: 'instanceof', 4395: 'grep', 4396: 'nav', 4397: 'documentready', 4398: 'playlist', 4399: 'attacks', 4400: 'sums', 4401: 'realloc', 4402: 'mousemove', 4403: 'move_uploaded_file', 4404: 'as3', 4405: 'scoping', 4406: 'mouseout', 4407: 'prevents', 4408: 'reserved', 4409: 'rearrange', 4410: 'scratch', 4411: 'requesting', 4412: 'swapping', 4413: 'comparable', 4414: 'lag', 4415: 'systemtimerstimer', 4416: '111', 4417: 'interpret', 4418: 'exiting', 4419: 'selectedindex', 4420: 'predict', 4421: 'dtype', 4422: 'userid', 4423: 'dummy', 4424: 'clauses', 4425: 'bridge', 4426: 'getelementsbytagname', 4427: 'robot', 4428: 'uibarbuttonitem', 4429: 'engines', 4430: 'neo4j', 4431: 'cleanup', 4432: 'hand', 4433: 'reusable', 4434: 'jpanels', 4435: 'setattribute', 4436: 'retrive', 4437: 'whitespaces', 4438: 'pieces', 4439: 'solving', 4440: 'histograms', 4441: 'dropdowns', 4442: 'prefer', 4443: 'crawl', 4444: 'guaranteed', 4445: 'hint', 4446: 'marionette', 4447: 'transactionscope', 4448: 'gap', 4449: 'ensuring', 4450: 'asterisks', 4451: 'portrait', 4452: 'browserify', 4453: 'falls', 4454: 'recover', 4455: 'become', 4456: 'ioerror', 4457: 'notebook', 4458: 'uml', 4459: 'traversing', 4460: 'analog', 4461: 'declares', 4462: 'behave', 4463: 'ios8', 4464: 'behaving', 4465: 'undo', 4466: 'jinja', 4467: 'belong', 4468: 'warn', 4469: 'settext', 4470: 'rating', 4471: 'redirecttoaction', 4472: 'whilst', 4473: 'benchmark', 4474: 'phrase', 4475: 'early', 4476: 'nsmutabledictionary', 4477: 'recv', 4478: 'concepts', 4479: 'transitions', 4480: 'subarray', 4481: 'iterations', 4482: 'mediawiki', 4483: 'sklearn', 4484: 'reversed', 4485: 'ended', 4486: 'tablet', 4487: 'nsnumber', 4488: 'pausing', 4489: 'robust', 4490: 'permgen', 4491: 'arg', 4492: 'adjusting', 4493: 'jruby', 4494: 'java8', 4495: 'basics', 4496: 'concurrenthashmap', 4497: 'troubles', 4498: 'reliably', 4499: 'vb6', 4500: 'datarows', 4501: 'form1', 4502: 'javaiofilenotfoundexception', 4503: 'situation', 4504: 'unpack', 4505: 'unterminated', 4506: 'xxxx', 4507: 'bundles', 4508: 'busy', 4509: 'affecting', 4510: 'rn', 4511: 'webstorm', 4512: 'strong', 4513: 'erb', 4514: 'minimal', 4515: 'networking', 4516: 'springs', 4517: 'datasources', 4518: 'visitor', 4519: 'consider', 4520: 'jdbctemplate', 4521: 'vars', 4522: 'contour', 4523: 'backward', 4524: 'deny', 4525: 'contract', 4526: 'datasets', 4527: 'quickest', 4528: 'biggest', 4529: 'onblur', 4530: 'patch', 4531: 'affects', 4532: 'drools', 4533: 'talk', 4534: 'form_for', 4535: 'selecteditem', 4536: '46', 4537: 'lnk2019', 4538: 'mistake', 4539: 'reactive', 4540: 'reject', 4541: 'vista', 4542: 'linebreaks', 4543: 'size_t', 4544: 'filenotfoundexception', 4545: 'jsfiddle', 4546: 'aligning', 4547: 'fixing', 4548: 'generators', 4549: 'i++', 4550: 'programmatic', 4551: 'exits', 4552: 'otherwise', 4553: 'di', 4554: 'capital', 4555: 'respective', 4556: 'catalog', 4557: 'programmer', 4558: 'die', 4559: 'difficulty', 4560: 'vowels', 4561: 'unnecessary', 4562: 'inactivity', 4563: 'unqualifiedid', 4564: 'captcha', 4565: 'uibuttons', 4566: 'compressing', 4567: 'roll', 4568: 'dim', 4569: 'room', 4570: 'stylesheets', 4571: 'overwritten', 4572: 'stringify', 4573: 'protection', 4574: 'jobject', 4575: 'mysql_num_rows', 4576: 'expiry', 4577: 'struggling', 4578: 'routine', 4579: 'student', 4580: 'assume', 4581: 'jquerymobile', 4582: 'restricting', 4583: 'actionlink', 4584: 'attempted', 4585: 'centered', 4586: 'differ', 4587: 'extremely', 4588: 'joined', 4589: 'developers', 4590: 'runner', 4591: 'compressed', 4592: 'mvn', 4593: 'cdi', 4594: 'freezing', 4595: 'runserver', 4596: 'actionresult', 4597: 'volatile', 4598: 'subcategories', 4599: 'rightclick', 4600: 'exponent', 4601: 'visited', 4602: 'ie10', 4603: 'current_user', 4604: 'nsinteger', 4605: 'refuses', 4606: 'viable', 4607: 'branch', 4608: '106', 4609: 'boxplot', 4610: 'log4jxml', 4611: 'socketexception', 4612: 'nsmanagedobject', 4613: 'setcookie', 4614: 'datetimes', 4615: 'boundaries', 4616: 'soapclient', 4617: 'endless', 4618: 'unescape', 4619: 'logo', 4620: 'transforming', 4621: 'defaults', 4622: 'normalize', 4623: 'often', 4624: 'quotation', 4625: 'oncreate', 4626: 'buffered', 4627: 'note', 4628: 'bubbling', 4629: 'basis', 4630: 'browsing', 4631: 'datetimefield', 4632: 'transferred', 4633: 'met', 4634: 'deferred', 4635: 'localtime', 4636: 'locating', 4637: 'enhanced', 4638: 'servletcontext', 4639: '#object', 4640: '503', 4641: 'decorators', 4642: 'windowsh', 4643: 'gcd', 4644: 'recommendations', 4645: 'simplexml_load_string', 4646: 'idiomatic', 4647: 'triple', 4648: 'recognised', 4649: 'verifying', 4650: 'birth', 4651: 'ellipse', 4652: 'recipients', 4653: 'signing', 4654: '110', 4655: 'recipient', 4656: 'tries', 4657: 'blade', 4658: 'shipping', 4659: 'read_csv', 4660: 'mapstring', 4661: 'books', 4662: 'matter', 4663: 'adjacent', 4664: 'mathround', 4665: 'advance', 4666: 'decoded', 4667: 'rbind', 4668: '#pragma', 4669: '323', 4670: 'massive', 4671: 'truncating', 4672: 'bigdecimal', 4673: 'bigger', 4674: 'troubleshooting', 4675: 'lwjgl', 4676: 'drawimage', 4677: 'tweets', 4678: 'distributed', 4679: 'complains', 4680: 'compiles', 4681: 'toolbox', 4682: 'killing', 4683: '__dopostback', 4684: 'purchase', 4685: 'pushed', 4686: 'mozilla', 4687: 'moves', 4688: 'puzzle', 4689: 'checks', 4690: 'cv', 4691: 'mouseenter', 4692: 'requestbody', 4693: 'autoload', 4694: 'stays', 4695: 'publishing', 4696: 'executenonquery', 4697: 'sphere', 4698: 'scenarios', 4699: 'str_replace', 4700: 'aurelia', 4701: 'complicated', 4702: 'uint8_t', 4703: 'workers', 4704: 'cancellation', 4705: 'saying', 4706: 'wise', 4707: 'executorservice', 4708: 'authenticating', 4709: 'keycode', 4710: 'complement', 4711: 'scatterplot', 4712: 'keyerror', 4713: 'sticky', 4714: 'monodevelop', 4715: 'air', 4716: 'cyrillic', 4717: 'daily', 4718: 'twoway', 4719: 'selectedindexchanged', 4720: 'selectedvalue', 4721: 'qt5', 4722: 'spy', 4723: 'colours', 4724: 'depend', 4725: 'springsecurity', 4726: 'addclass', 4727: 'viewed', 4728: 'quantity', 4729: 'banner', 4730: 'million', 4731: 'viewdidload', 4732: 'midnight', 4733: 'sqlparameter', 4734: 'sqlserver', 4735: 'reopen', 4736: 'stale', 4737: 'money', 4738: '301', 4739: 'hashmaps', 4740: 'var_dump', 4741: 'standards', 4742: 'modalpopupextender', 4743: 'securely', 4744: 'reordering', 4745: 'dashes', 4746: 'stage', 4747: 'hasmany', 4748: 'viewmodels', 4749: 'mocked', 4750: 'opera', 4751: 'euler', 4752: 'listint', 4753: 'parseint', 4754: 'print_r', 4755: 'groupbox', 4756: 'flipping', 4757: 'popular', 4758: 'pane', 4759: 'alt', 4760: 'javalangnumberformatexception', 4761: 'proc', 4762: 'poor', 4763: 'instant', 4764: 'javalangruntimeexception', 4765: 'far', 4766: 'timers', 4767: 'appdelegate', 4768: 'prepend', 4769: 'connectivity', 4770: 'fashion', 4771: 'javalanginteger', 4772: 'periodic', 4773: 'premature', 4774: 'popups', 4775: 'finger', 4776: 'fileoutputstream', 4777: 'created_at', 4778: 'pem', 4779: 'injected', 4780: 'firebird', 4781: 'urlopen', 4782: 'th', 4783: 'porting', 4784: 'fall', 4785: 'pan', 4786: 'inference', 4787: 'succeeded', 4788: 'xmlns', 4789: 'tabbed', 4790: 'goal', 4791: 'polynomial', 4792: 'update_attributes', 4793: 'uuid', 4794: 'tdd', 4795: 'configurations', 4796: 'technology', 4797: 'fontawesome', 4798: 'weekly', 4799: 'phones', 4800: 'primaryexpression', 4801: 'feel', 4802: 'suggest', 4803: 'ashx', 4804: 'weekends', 4805: 'interacting', 4806: 'corresponds', 4807: 'initialise', 4808: 'feedback', 4809: 'superview', 4810: 'counts', 4811: 'couple', 4812: 'artifacts', 4813: 'paragraphs', 4814: '#1', 4815: 'javanetconnectexception', 4816: 'tapped', 4817: 'utf', 4818: 'crossthread', 4819: 'jbuttons', 4820: 'taskrun', 4821: 'pods', 4822: 'pod', 4823: 'confusing', 4824: 'instructions', 4825: 'sun', 4826: 'tbody', 4827: 'interprocess', 4828: 'articles', 4829: 'findviewbyid', 4830: 'grant', 4831: 'indirect', 4832: 'paginate', 4833: 'zurb', 4834: 'picking', 4835: 'precise', 4836: 'fadeout', 4837: 'constructing', 4838: '0s', 4839: 'urllib', 4840: 'tiles', 4841: 'pound', 4842: 'jasperreport', 4843: 'gsub', 4844: 'practical', 4845: 'pow', 4846: 'practise', 4847: 'webrequest', 4848: 'webpart', 4849: 'inmemory', 4850: 'subsets', 4851: 'systemint32', 4852: 'relevant', 4853: 'late', 4854: 'switchcase', 4855: 'static_cast', 4856: 'targeting', 4857: 'launcher', 4858: 'statically', 4859: 'ews', 4860: 'latin1', 4861: 'before_save', 4862: 'removeclass', 4863: 'selectlist', 4864: 'endpoints', 4865: 'pylab', 4866: 'zipping', 4867: 'viewcontrollers', 4868: 'fstream', 4869: 'symmetric', 4870: 'stacktrace', 4871: 'flushing', 4872: 'commons', 4873: 'impact', 4874: 'stackoverflowerror', 4875: 'slices', 4876: 'google+', 4877: '303', 4878: '187', 4879: 'rc', 4880: 'unspecified', 4881: 'evenly', 4882: 'semantic', 4883: 'dashboard', 4884: 'hyphens', 4885: 'buildxml', 4886: 'noob', 4887: 'continuewith', 4888: 'eventhandler', 4889: 'hashtag', 4890: 'remainder', 4891: 'deletes', 4892: 'varbinary', 4893: 'separation', 4894: 'presented', 4895: 'intranet', 4896: 'cover', 4897: 'normally', 4898: 'fieldset', 4899: 'evaluated', 4900: 'autoincrement', 4901: 'mimetype', 4902: 'obtained', 4903: 'delivery', 4904: 'minification', 4905: 'javasqldate', 4906: 'games', 4907: 'minimized', 4908: 'zipped', 4909: 'eventlistener', 4910: 'simplexml_load_file', 4911: 'commysqljdbcdriver', 4912: 'orgjsonjsonexception', 4913: 'slows', 4914: 'viewstate', 4915: 'chef', 4916: 'documentcreateelement', 4917: '_request', 4918: 'deserialized', 4919: 'deselect', 4920: 'unlimited', 4921: 'javax', 4922: 'homework', 4923: 'describe', 4924: 'authorized', 4925: 'wget', 4926: 'tensor', 4927: 'stdthread', 4928: 'playback', 4929: 'ifstream', 4930: 'accents', 4931: 'typeof', 4932: 'plan', 4933: 'kendoui', 4934: 'behaves', 4935: 'keras', 4936: 'destructors', 4937: 'german', 4938: 'scikit', 4939: 'beginners', 4940: 'x11', 4941: 'completes', 4942: 'indexer', 4943: 'requestparam', 4944: 'individually', 4945: 'ptr', 4946: 'ca', 4947: 'fontsize', 4948: 'templating', 4949: 'stdfunction', 4950: 'wave', 4951: 'indirectly', 4952: 'uitabbar', 4953: 'nonexistent', 4954: 'chromes', 4955: 'nongeneric', 4956: 'c#s', 4957: 'repetition', 4958: 'team', 4959: 'snow', 4960: 'endian', 4961: 'accented', 4962: 'avfoundation', 4963: 'raw_input', 4964: 'c++0x', 4965: 'followers', 4966: 'prices', 4967: 'push_back', 4968: 'formset', 4969: 'alloc', 4970: 'modifiers', 4971: 'logistic', 4972: 'itunes', 4973: 'modes', 4974: 'reponse', 4975: 'nondefault', 4976: 'modelsave', 4977: 'typecasting', 4978: '0xc0000005', 4979: 'derive', 4980: 'pushviewcontroller', 4981: 'l', 4982: 'pg', 4983: 'driving', 4984: 'addon', 4985: 'alphabets', 4986: 'splice', 4987: 'applicationcontext', 4988: 'potentially', 4989: 'equations', 4990: 'localize', 4991: 'listitem', 4992: 'nullpointer', 4993: '310', 4994: 'rails4', 4995: 'preflight', 4996: 'wheres', 4997: 'illegalargumentexception', 4998: 'shifting', 4999: 'recommendation'}\n"
     ]
    }
   ],
   "source": [
    "print(indexOfWords)"
   ]
  },
  {
   "cell_type": "code",
   "execution_count": 0,
   "metadata": {
    "colab": {},
    "colab_type": "code",
    "id": "6ER1oq48TF-9"
   },
   "outputs": [],
   "source": [
    "import numpy as np\n",
    "\n",
    "DICT_SIZE = 5000\n",
    "WORDS_TO_INDEX = wordsToIndex\n",
    "INDEX_TO_WORDS = indexOfWords\n",
    "ALL_WORDS = WORDS_TO_INDEX.keys()\n",
    "\n",
    "def my_bag_of_words(text, words_to_index, dict_size):\n",
    "  words = text.split(\" \")\n",
    "  result_vector = np.zeros(dict_size)\n",
    "  for w in words:\n",
    "    for i,word in enumerate(words_to_index.keys()):\n",
    "      if(word==w):\n",
    "        result_vector[i] = 1\n",
    "        \n",
    "  return result_vector"
   ]
  },
  {
   "cell_type": "code",
   "execution_count": 0,
   "metadata": {
    "colab": {},
    "colab_type": "code",
    "id": "qnLYWnsaTF_A"
   },
   "outputs": [],
   "source": [
    "def test_my_bag_of_words():\n",
    "    words_to_index = {'hi': 0, 'you': 1, 'me': 2, 'are': 3}\n",
    "    examples = ['hi how are you']\n",
    "    answers = [[1, 1, 0, 1]]\n",
    "    for ex, ans in zip(examples, answers):\n",
    "        if (my_bag_of_words(ex, words_to_index, 4) != ans).any():\n",
    "            return \"Wrong answer for the case: '%s'\" % ex\n",
    "    return 'Basic tests are passed.'"
   ]
  },
  {
   "cell_type": "markdown",
   "metadata": {
    "colab_type": "text",
    "id": "mOlSiUqEW3jD"
   },
   "source": [
    "Execute the test_text_prepare function <br>\n",
    "*<u>Note:</u> You should pass the above test to ensure BOW is working correctly!*"
   ]
  },
  {
   "cell_type": "code",
   "execution_count": 38,
   "metadata": {
    "colab": {
     "base_uri": "https://localhost:8080/",
     "height": 36
    },
    "colab_type": "code",
    "id": "cqWhoF24TF_D",
    "outputId": "b67c4d30-80cb-4976-f00b-e5210b33f457"
   },
   "outputs": [
    {
     "data": {
      "text/plain": [
       "'Basic tests are passed.'"
      ]
     },
     "execution_count": 38,
     "metadata": {
      "tags": []
     },
     "output_type": "execute_result"
    }
   ],
   "source": [
    "test_my_bag_of_words()"
   ]
  },
  {
   "cell_type": "markdown",
   "metadata": {
    "colab_type": "text",
    "id": "BXW3ALCITF_H"
   },
   "source": [
    "Now apply the implemented function to all samples (this might take up to a minute):"
   ]
  },
  {
   "cell_type": "code",
   "execution_count": 0,
   "metadata": {
    "colab": {},
    "colab_type": "code",
    "id": "m39xHB2yTF_H"
   },
   "outputs": [],
   "source": [
    "from scipy import sparse as sp_sparse"
   ]
  },
  {
   "cell_type": "code",
   "execution_count": 0,
   "metadata": {
    "colab": {},
    "colab_type": "code",
    "id": "dvSs7jYy5RKh"
   },
   "outputs": [],
   "source": [
    "X_train = trainCleanDf['title']\n",
    "X_test = testCleanDf['title']\n",
    "X_val = validationCleanDf['title']"
   ]
  },
  {
   "cell_type": "code",
   "execution_count": 41,
   "metadata": {
    "colab": {
     "base_uri": "https://localhost:8080/",
     "height": 73
    },
    "colab_type": "code",
    "id": "6DZwPWB1TF_K",
    "outputId": "b7f679f6-5164-4c8c-902f-5a76c29dcd4f"
   },
   "outputs": [
    {
     "name": "stdout",
     "output_type": "stream",
     "text": [
      "X_train shape  (100000, 5000)\n",
      "X_val shape  (30000, 5000)\n",
      "X_test shape  (20000, 5000)\n"
     ]
    }
   ],
   "source": [
    "X_train_mybag = sp_sparse.vstack([sp_sparse.csr_matrix(my_bag_of_words(text, WORDS_TO_INDEX, DICT_SIZE)) for text in X_train])\n",
    "X_val_mybag = sp_sparse.vstack([sp_sparse.csr_matrix(my_bag_of_words(text, WORDS_TO_INDEX, DICT_SIZE)) for text in X_val])\n",
    "X_test_mybag = sp_sparse.vstack([sp_sparse.csr_matrix(my_bag_of_words(text, WORDS_TO_INDEX, DICT_SIZE)) for text in X_test])\n",
    "print('X_train shape ', X_train_mybag.shape)\n",
    "print('X_val shape ', X_val_mybag.shape)\n",
    "print('X_test shape ', X_test_mybag.shape)"
   ]
  },
  {
   "cell_type": "markdown",
   "metadata": {
    "colab_type": "text",
    "id": "WPXTUeNSTF_N"
   },
   "source": [
    "As you might notice, we transform the data to sparse representation, to store the useful information efficiently. There are many types: of such representations, however sklearn algorithms can work only with  csr matrix, so we will use this one.<br>\n",
    "<u>Documentations on sparse matrix:</u> <br>\n",
    "(https://docs.scipy.org/doc/scipy/reference/generated/scipy.sparse.csr_matrix.html#scipy.sparse.csr_matrix) \n",
    "(https://docs.scipy.org/doc/scipy/reference/sparse.html)\n",
    "\n"
   ]
  },
  {
   "cell_type": "markdown",
   "metadata": {
    "colab_type": "text",
    "id": "i8AMzsVxTF_Q"
   },
   "source": [
    "\n",
    "For the 11th row in *X_train_mybag* find how many non-zero elements it has. In this task the answer (variable *non_zero_elements_count*) should be a number, e.g. 20."
   ]
  },
  {
   "cell_type": "code",
   "execution_count": 42,
   "metadata": {
    "colab": {
     "base_uri": "https://localhost:8080/",
     "height": 36
    },
    "colab_type": "code",
    "id": "LNucwXoK-dx_",
    "outputId": "58be0f63-a513-4742-e0bd-758668228c0c"
   },
   "outputs": [
    {
     "data": {
      "text/plain": [
       "'ipad selecting text inside text input tap'"
      ]
     },
     "execution_count": 42,
     "metadata": {
      "tags": []
     },
     "output_type": "execute_result"
    }
   ],
   "source": [
    "X_train[11]"
   ]
  },
  {
   "cell_type": "code",
   "execution_count": 43,
   "metadata": {
    "colab": {
     "base_uri": "https://localhost:8080/",
     "height": 36
    },
    "colab_type": "code",
    "id": "bOetzSLzTF_S",
    "outputId": "53fecd05-ac63-49d5-db95-90740e9257de"
   },
   "outputs": [
    {
     "name": "stdout",
     "output_type": "stream",
     "text": [
      "6\n"
     ]
    }
   ],
   "source": [
    "print(X_train_mybag[11].count_nonzero())"
   ]
  },
  {
   "cell_type": "markdown",
   "metadata": {
    "colab_type": "text",
    "id": "GYAFKGfKTF_V"
   },
   "source": [
    "## Task 4 - TF-IDF (5 points)\n",
    "\n",
    "The second approach extends the bag-of-words framework by taking into account total frequencies of words in the corpora. It helps to penalize too frequent words and provide better features space. \n",
    "\n",
    "Implement function *tfidf_features* using class  from *scikit-learn*. Use *train* corpus to train a vectorizer. Don't forget to take a look into the arguments that you can pass to it. We suggest that you filter out too rare words (occur less than in 5 titles) and too frequent words (occur more than in 90% of the titles). Also, use bigrams along with unigrams in your vocabulary. "
   ]
  },
  {
   "cell_type": "markdown",
   "metadata": {
    "colab_type": "text",
    "id": "1s3uEKmjYpuh"
   },
   "source": [
    "## Write a function which takes x_train, x_val and x_test as input and return the tf-idf features of the same and the vocabulary"
   ]
  },
  {
   "cell_type": "code",
   "execution_count": 0,
   "metadata": {
    "colab": {},
    "colab_type": "code",
    "id": "lkz1RYsBTF_Z"
   },
   "outputs": [],
   "source": [
    "from sklearn.feature_extraction.text import TfidfVectorizer"
   ]
  },
  {
   "cell_type": "code",
   "execution_count": 0,
   "metadata": {
    "colab": {},
    "colab_type": "code",
    "id": "baE-ATX-_njQ"
   },
   "outputs": [],
   "source": [
    "# initialize vectorizer\n",
    "vect = TfidfVectorizer(min_df=5,max_df=0.9,ngram_range=(1,2),token_pattern= '(\\S+)', max_features=5000)"
   ]
  },
  {
   "cell_type": "code",
   "execution_count": 0,
   "metadata": {
    "colab": {},
    "colab_type": "code",
    "id": "o6V7FPirTF_i"
   },
   "outputs": [],
   "source": [
    "def tfidf_features(X_train, X_val, X_test):\n",
    "  X_train_tfidf = vect.fit_transform(X_train)\n",
    "  X_val_tfidf = vect.fit_transform(X_val)\n",
    "  X_test_tfidf = vect.fit_transform(X_test)\n",
    "  return X_train_tfidf, X_val_tfidf, X_test_tfidf, vect.vocabulary_"
   ]
  },
  {
   "cell_type": "code",
   "execution_count": 0,
   "metadata": {
    "colab": {},
    "colab_type": "code",
    "id": "ySnV2zCBTF_p"
   },
   "outputs": [],
   "source": [
    "X_train_tfidf, X_val_tfidf, X_test_tfidf, tfidf_vocab = tfidf_features(X_train, X_val, X_test)\n",
    "tfidf_reversed_vocab = {i:word for word,i in tfidf_vocab.items()}"
   ]
  },
  {
   "cell_type": "markdown",
   "metadata": {
    "colab_type": "text",
    "id": "o_aopTTNL5G1"
   },
   "source": [
    "Print the index of string 'c#' in the vocabulary"
   ]
  },
  {
   "cell_type": "code",
   "execution_count": 48,
   "metadata": {
    "colab": {
     "base_uri": "https://localhost:8080/",
     "height": 36
    },
    "colab_type": "code",
    "id": "kZ-3wqTTMCRi",
    "outputId": "0dba0b5c-f24d-4149-8b97-e554997b52f8"
   },
   "outputs": [
    {
     "name": "stdout",
     "output_type": "stream",
     "text": [
      "436\n"
     ]
    }
   ],
   "source": [
    "print(list(tfidf_reversed_vocab.keys())[list(tfidf_reversed_vocab.values()).index('c#')]) "
   ]
  },
  {
   "cell_type": "markdown",
   "metadata": {
    "colab_type": "text",
    "id": "ZYYO2kdiTF_6"
   },
   "source": [
    "## Task 5: Classification (15 points)\n",
    "MultiLabel classifier\n",
    "\n",
    "As we have noticed before, in this task each example can have multiple tags. To deal with such kind of prediction, we need to transform labels in a binary form and the prediction will be a mask of 0s and 1s. For this purpose it is convenient to use MultiLabelBinarizer from sklearn. <br>\n",
    "<u>Documentation:</u> <br>\n",
    "http://scikit-learn.org/stable/modules/generated/sklearn.preprocessing.MultiLabelBinarizer.html"
   ]
  },
  {
   "cell_type": "code",
   "execution_count": 0,
   "metadata": {
    "colab": {},
    "colab_type": "code",
    "id": "4ZksFT-HEJU7"
   },
   "outputs": [],
   "source": [
    "y_train = trainCleanDf['tags']\n",
    "y_val = validationCleanDf['tags']"
   ]
  },
  {
   "cell_type": "code",
   "execution_count": 50,
   "metadata": {
    "colab": {
     "base_uri": "https://localhost:8080/",
     "height": 128
    },
    "colab_type": "code",
    "id": "6dheoJOqEQIe",
    "outputId": "931375d9-e75a-44d1-ccf5-73cb730b0af2"
   },
   "outputs": [
    {
     "data": {
      "text/plain": [
       "0                       ['r']\n",
       "1            ['php', 'mysql']\n",
       "2                      ['c#']\n",
       "3    ['javascript', 'jquery']\n",
       "4                    ['java']\n",
       "Name: tags, dtype: object"
      ]
     },
     "execution_count": 50,
     "metadata": {
      "tags": []
     },
     "output_type": "execute_result"
    }
   ],
   "source": [
    "y_train.head()"
   ]
  },
  {
   "cell_type": "code",
   "execution_count": 0,
   "metadata": {
    "colab": {},
    "colab_type": "code",
    "id": "ojeCe_e_TF_7"
   },
   "outputs": [],
   "source": [
    "from sklearn.preprocessing import MultiLabelBinarizer"
   ]
  },
  {
   "cell_type": "code",
   "execution_count": 52,
   "metadata": {
    "colab": {
     "base_uri": "https://localhost:8080/",
     "height": 56
    },
    "colab_type": "code",
    "id": "P8oSR9HksL06",
    "outputId": "16034ca3-b455-4623-8c31-27f208e10ceb"
   },
   "outputs": [
    {
     "name": "stdout",
     "output_type": "stream",
     "text": [
      "['.net', 'ajax', 'algorithm', 'android', 'angularjs', 'apache', 'arrays', 'asp.net', 'asp.net-mvc', 'c', 'c#', 'c++', 'class', 'cocoa-touch', 'codeigniter', 'css', 'csv', 'database', 'date', 'datetime', 'django', 'dom', 'eclipse', 'entity-framework', 'excel', 'facebook', 'file', 'forms', 'function', 'generics', 'google-maps', 'hibernate', 'html', 'html5', 'image', 'ios', 'iphone', 'java', 'javascript', 'jquery', 'json', 'jsp', 'laravel', 'linq', 'linux', 'list', 'loops', 'maven', 'mongodb', 'multithreading', 'mysql', 'node.js', 'numpy', 'objective-c', 'oop', 'opencv', 'osx', 'pandas', 'parsing', 'performance', 'php', 'pointers', 'python', 'python-2.7', 'python-3.x', 'qt', 'r', 'regex', 'rest', 'ruby', 'ruby-on-rails', 'ruby-on-rails-3', 'selenium', 'servlets', 'session', 'sockets', 'sorting', 'spring', 'spring-mvc', 'sql', 'sql-server', 'string', 'swift', 'swing', 'twitter-bootstrap', 'uitableview', 'unit-testing', 'validation', 'vb.net', 'visual-studio', 'visual-studio-2010', 'wcf', 'web-services', 'windows', 'winforms', 'wordpress', 'wpf', 'xaml', 'xcode', 'xml']\n"
     ]
    }
   ],
   "source": [
    "sortedTags = sorted(tagDict.keys())\n",
    "print(sortedTags)"
   ]
  },
  {
   "cell_type": "code",
   "execution_count": 53,
   "metadata": {
    "colab": {
     "base_uri": "https://localhost:8080/",
     "height": 74
    },
    "colab_type": "code",
    "id": "p8JYQr8YTF_-",
    "outputId": "763da2dd-2ebd-4e2b-abb4-97712ed1e52f"
   },
   "outputs": [
    {
     "name": "stderr",
     "output_type": "stream",
     "text": [
      "/usr/local/lib/python3.6/dist-packages/sklearn/preprocessing/label.py:935: UserWarning: unknown class(es) [' ', '#', \"'\", '+', ',', '-', '.', '0', '1', '2', '3', '5', '7', '[', ']', 'a', 'b', 'd', 'e', 'f', 'g', 'h', 'i', 'j', 'k', 'l', 'm', 'n', 'o', 'p', 'q', 's', 't', 'u', 'v', 'w', 'x', 'y'] will be ignored\n",
      "  .format(sorted(unknown, key=str)))\n"
     ]
    }
   ],
   "source": [
    "mlb = MultiLabelBinarizer(classes=sortedTags)\n",
    "y_train = mlb.fit_transform(y_train)\n",
    "y_val = mlb.fit_transform(y_val)"
   ]
  },
  {
   "cell_type": "code",
   "execution_count": 54,
   "metadata": {
    "colab": {
     "base_uri": "https://localhost:8080/",
     "height": 36
    },
    "colab_type": "code",
    "id": "504eKR7-qbPY",
    "outputId": "6de3e935-867b-44f1-bbee-fef2b5c8d373"
   },
   "outputs": [
    {
     "data": {
      "text/plain": [
       "(array([66]),)"
      ]
     },
     "execution_count": 54,
     "metadata": {
      "tags": []
     },
     "output_type": "execute_result"
    }
   ],
   "source": [
    "y_train[0].nonzero()"
   ]
  },
  {
   "cell_type": "code",
   "execution_count": 55,
   "metadata": {
    "colab": {
     "base_uri": "https://localhost:8080/",
     "height": 36
    },
    "colab_type": "code",
    "id": "zXWnh6Oxqk5u",
    "outputId": "3b321a60-6984-46cf-9985-b67749ca8ef3"
   },
   "outputs": [
    {
     "data": {
      "text/plain": [
       "'r'"
      ]
     },
     "execution_count": 55,
     "metadata": {
      "tags": []
     },
     "output_type": "execute_result"
    }
   ],
   "source": [
    "list(sortedTags)[66]"
   ]
  },
  {
   "cell_type": "markdown",
   "metadata": {
    "colab_type": "text",
    "id": "qN1NUA3DTGAB"
   },
   "source": [
    "In this task we suggest to use One-vs-Rest approach, which is implemented in [OneVsRestClassifier](http://scikit-learn.org/stable/modules/generated/sklearn.multiclass.OneVsRestClassifier.html) class. In this approach *k* classifiers (= number of tags) are trained. As a basic classifier, use [LogisticRegression](http://scikit-learn.org/stable/modules/generated/sklearn.linear_model.LogisticRegression.html). It is one of the simplest methods, but often it performs good enough in text classification tasks. It might take some time, because a number of classifiers to train is large.\n",
    "\n",
    "**OneVsRest multi-label strategy**\n",
    "\n",
    "The Multi-label algorithm accepts a binary mask over multiple labels. The result for each prediction will be an array of 0s and 1s marking which class labels apply to each row input sample.\n",
    "\n",
    "**Logistic Regression & SVM**\n",
    "\n",
    "OneVsRest strategy can be used for multi-label learning, where a classifier is used to predict multiple labels for instance. LR & SVM supports multi-class, but we are in a multi-label scenario, therefore, we wrap classifiers in the OneVsRestClassifier.\n",
    "\n",
    "*If you want to learn more about OneVsRest, check out these links:*\n",
    "- *https://towardsdatascience.com/multi-label-text-classification-with-scikit-learn-30714b7819c5*\n",
    "- *https://towardsdatascience.com/journey-to-the-center-of-multi-label-classification-384c40229bff*\n",
    "- *https://medium.com/coinmonks/multi-label-classification-blog-tags-prediction-using-nlp-b0b5ee6686fc*"
   ]
  },
  {
   "cell_type": "code",
   "execution_count": 0,
   "metadata": {
    "colab": {},
    "colab_type": "code",
    "id": "2Pj6MDkbTGAC"
   },
   "outputs": [],
   "source": [
    "from sklearn.multiclass import OneVsRestClassifier\n",
    "from sklearn.linear_model import LogisticRegression\n",
    "\n",
    "from sklearn.svm import SVC, LinearSVC"
   ]
  },
  {
   "cell_type": "code",
   "execution_count": 0,
   "metadata": {
    "colab": {},
    "colab_type": "code",
    "id": "eUHZR2TWTGAF"
   },
   "outputs": [],
   "source": [
    "def train_classifier(X_train, y_train):\n",
    "    # Create and fit LogisticRegression and LinearSVC wraped into OneVsRestClassifier.\n",
    "\n",
    "    clf = OneVsRestClassifier(LogisticRegression()).fit(X_train,y_train)\n",
    "    return clf  ### clf is the model"
   ]
  },
  {
   "cell_type": "markdown",
   "metadata": {
    "colab_type": "text",
    "id": "k660NfRFTGAL"
   },
   "source": [
    "Train the classifiers for different data transformations: *bag-of-words* and *tf-idf*.\n",
    "classifier_mybag = model for "
   ]
  },
  {
   "cell_type": "code",
   "execution_count": 58,
   "metadata": {
    "colab": {
     "base_uri": "https://localhost:8080/",
     "height": 7389
    },
    "colab_type": "code",
    "id": "jXyhN-yDTGAP",
    "outputId": "ec299f3f-557b-444a-aa1c-907a2aa8a535"
   },
   "outputs": [
    {
     "name": "stderr",
     "output_type": "stream",
     "text": [
      "/usr/local/lib/python3.6/dist-packages/sklearn/multiclass.py:76: UserWarning: Label not 0 is present in all training examples.\n",
      "  str(classes[c]))\n",
      "/usr/local/lib/python3.6/dist-packages/sklearn/multiclass.py:76: UserWarning: Label not 1 is present in all training examples.\n",
      "  str(classes[c]))\n",
      "/usr/local/lib/python3.6/dist-packages/sklearn/multiclass.py:76: UserWarning: Label not 2 is present in all training examples.\n",
      "  str(classes[c]))\n",
      "/usr/local/lib/python3.6/dist-packages/sklearn/multiclass.py:76: UserWarning: Label not 3 is present in all training examples.\n",
      "  str(classes[c]))\n",
      "/usr/local/lib/python3.6/dist-packages/sklearn/multiclass.py:76: UserWarning: Label not 4 is present in all training examples.\n",
      "  str(classes[c]))\n",
      "/usr/local/lib/python3.6/dist-packages/sklearn/multiclass.py:76: UserWarning: Label not 5 is present in all training examples.\n",
      "  str(classes[c]))\n",
      "/usr/local/lib/python3.6/dist-packages/sklearn/multiclass.py:76: UserWarning: Label not 6 is present in all training examples.\n",
      "  str(classes[c]))\n",
      "/usr/local/lib/python3.6/dist-packages/sklearn/multiclass.py:76: UserWarning: Label not 7 is present in all training examples.\n",
      "  str(classes[c]))\n",
      "/usr/local/lib/python3.6/dist-packages/sklearn/multiclass.py:76: UserWarning: Label not 8 is present in all training examples.\n",
      "  str(classes[c]))\n",
      "/usr/local/lib/python3.6/dist-packages/sklearn/linear_model/logistic.py:433: FutureWarning: Default solver will be changed to 'lbfgs' in 0.22. Specify a solver to silence this warning.\n",
      "  FutureWarning)\n",
      "/usr/local/lib/python3.6/dist-packages/sklearn/multiclass.py:76: UserWarning: Label not 10 is present in all training examples.\n",
      "  str(classes[c]))\n",
      "/usr/local/lib/python3.6/dist-packages/sklearn/multiclass.py:76: UserWarning: Label not 11 is present in all training examples.\n",
      "  str(classes[c]))\n",
      "/usr/local/lib/python3.6/dist-packages/sklearn/multiclass.py:76: UserWarning: Label not 12 is present in all training examples.\n",
      "  str(classes[c]))\n",
      "/usr/local/lib/python3.6/dist-packages/sklearn/multiclass.py:76: UserWarning: Label not 13 is present in all training examples.\n",
      "  str(classes[c]))\n",
      "/usr/local/lib/python3.6/dist-packages/sklearn/multiclass.py:76: UserWarning: Label not 14 is present in all training examples.\n",
      "  str(classes[c]))\n",
      "/usr/local/lib/python3.6/dist-packages/sklearn/multiclass.py:76: UserWarning: Label not 15 is present in all training examples.\n",
      "  str(classes[c]))\n",
      "/usr/local/lib/python3.6/dist-packages/sklearn/multiclass.py:76: UserWarning: Label not 16 is present in all training examples.\n",
      "  str(classes[c]))\n",
      "/usr/local/lib/python3.6/dist-packages/sklearn/multiclass.py:76: UserWarning: Label not 17 is present in all training examples.\n",
      "  str(classes[c]))\n",
      "/usr/local/lib/python3.6/dist-packages/sklearn/multiclass.py:76: UserWarning: Label not 18 is present in all training examples.\n",
      "  str(classes[c]))\n",
      "/usr/local/lib/python3.6/dist-packages/sklearn/multiclass.py:76: UserWarning: Label not 19 is present in all training examples.\n",
      "  str(classes[c]))\n",
      "/usr/local/lib/python3.6/dist-packages/sklearn/multiclass.py:76: UserWarning: Label not 20 is present in all training examples.\n",
      "  str(classes[c]))\n",
      "/usr/local/lib/python3.6/dist-packages/sklearn/multiclass.py:76: UserWarning: Label not 21 is present in all training examples.\n",
      "  str(classes[c]))\n",
      "/usr/local/lib/python3.6/dist-packages/sklearn/multiclass.py:76: UserWarning: Label not 22 is present in all training examples.\n",
      "  str(classes[c]))\n",
      "/usr/local/lib/python3.6/dist-packages/sklearn/multiclass.py:76: UserWarning: Label not 23 is present in all training examples.\n",
      "  str(classes[c]))\n",
      "/usr/local/lib/python3.6/dist-packages/sklearn/multiclass.py:76: UserWarning: Label not 24 is present in all training examples.\n",
      "  str(classes[c]))\n",
      "/usr/local/lib/python3.6/dist-packages/sklearn/multiclass.py:76: UserWarning: Label not 25 is present in all training examples.\n",
      "  str(classes[c]))\n",
      "/usr/local/lib/python3.6/dist-packages/sklearn/multiclass.py:76: UserWarning: Label not 26 is present in all training examples.\n",
      "  str(classes[c]))\n",
      "/usr/local/lib/python3.6/dist-packages/sklearn/multiclass.py:76: UserWarning: Label not 27 is present in all training examples.\n",
      "  str(classes[c]))\n",
      "/usr/local/lib/python3.6/dist-packages/sklearn/multiclass.py:76: UserWarning: Label not 28 is present in all training examples.\n",
      "  str(classes[c]))\n",
      "/usr/local/lib/python3.6/dist-packages/sklearn/multiclass.py:76: UserWarning: Label not 29 is present in all training examples.\n",
      "  str(classes[c]))\n",
      "/usr/local/lib/python3.6/dist-packages/sklearn/multiclass.py:76: UserWarning: Label not 30 is present in all training examples.\n",
      "  str(classes[c]))\n",
      "/usr/local/lib/python3.6/dist-packages/sklearn/multiclass.py:76: UserWarning: Label not 31 is present in all training examples.\n",
      "  str(classes[c]))\n",
      "/usr/local/lib/python3.6/dist-packages/sklearn/multiclass.py:76: UserWarning: Label not 32 is present in all training examples.\n",
      "  str(classes[c]))\n",
      "/usr/local/lib/python3.6/dist-packages/sklearn/multiclass.py:76: UserWarning: Label not 33 is present in all training examples.\n",
      "  str(classes[c]))\n",
      "/usr/local/lib/python3.6/dist-packages/sklearn/multiclass.py:76: UserWarning: Label not 34 is present in all training examples.\n",
      "  str(classes[c]))\n",
      "/usr/local/lib/python3.6/dist-packages/sklearn/multiclass.py:76: UserWarning: Label not 35 is present in all training examples.\n",
      "  str(classes[c]))\n",
      "/usr/local/lib/python3.6/dist-packages/sklearn/multiclass.py:76: UserWarning: Label not 36 is present in all training examples.\n",
      "  str(classes[c]))\n",
      "/usr/local/lib/python3.6/dist-packages/sklearn/multiclass.py:76: UserWarning: Label not 37 is present in all training examples.\n",
      "  str(classes[c]))\n",
      "/usr/local/lib/python3.6/dist-packages/sklearn/multiclass.py:76: UserWarning: Label not 38 is present in all training examples.\n",
      "  str(classes[c]))\n",
      "/usr/local/lib/python3.6/dist-packages/sklearn/multiclass.py:76: UserWarning: Label not 39 is present in all training examples.\n",
      "  str(classes[c]))\n",
      "/usr/local/lib/python3.6/dist-packages/sklearn/multiclass.py:76: UserWarning: Label not 40 is present in all training examples.\n",
      "  str(classes[c]))\n",
      "/usr/local/lib/python3.6/dist-packages/sklearn/multiclass.py:76: UserWarning: Label not 41 is present in all training examples.\n",
      "  str(classes[c]))\n",
      "/usr/local/lib/python3.6/dist-packages/sklearn/multiclass.py:76: UserWarning: Label not 42 is present in all training examples.\n",
      "  str(classes[c]))\n",
      "/usr/local/lib/python3.6/dist-packages/sklearn/multiclass.py:76: UserWarning: Label not 43 is present in all training examples.\n",
      "  str(classes[c]))\n",
      "/usr/local/lib/python3.6/dist-packages/sklearn/multiclass.py:76: UserWarning: Label not 44 is present in all training examples.\n",
      "  str(classes[c]))\n",
      "/usr/local/lib/python3.6/dist-packages/sklearn/multiclass.py:76: UserWarning: Label not 45 is present in all training examples.\n",
      "  str(classes[c]))\n",
      "/usr/local/lib/python3.6/dist-packages/sklearn/multiclass.py:76: UserWarning: Label not 46 is present in all training examples.\n",
      "  str(classes[c]))\n",
      "/usr/local/lib/python3.6/dist-packages/sklearn/multiclass.py:76: UserWarning: Label not 47 is present in all training examples.\n",
      "  str(classes[c]))\n",
      "/usr/local/lib/python3.6/dist-packages/sklearn/multiclass.py:76: UserWarning: Label not 48 is present in all training examples.\n",
      "  str(classes[c]))\n",
      "/usr/local/lib/python3.6/dist-packages/sklearn/multiclass.py:76: UserWarning: Label not 49 is present in all training examples.\n",
      "  str(classes[c]))\n",
      "/usr/local/lib/python3.6/dist-packages/sklearn/multiclass.py:76: UserWarning: Label not 50 is present in all training examples.\n",
      "  str(classes[c]))\n",
      "/usr/local/lib/python3.6/dist-packages/sklearn/multiclass.py:76: UserWarning: Label not 51 is present in all training examples.\n",
      "  str(classes[c]))\n",
      "/usr/local/lib/python3.6/dist-packages/sklearn/multiclass.py:76: UserWarning: Label not 52 is present in all training examples.\n",
      "  str(classes[c]))\n",
      "/usr/local/lib/python3.6/dist-packages/sklearn/multiclass.py:76: UserWarning: Label not 53 is present in all training examples.\n",
      "  str(classes[c]))\n",
      "/usr/local/lib/python3.6/dist-packages/sklearn/multiclass.py:76: UserWarning: Label not 54 is present in all training examples.\n",
      "  str(classes[c]))\n",
      "/usr/local/lib/python3.6/dist-packages/sklearn/multiclass.py:76: UserWarning: Label not 55 is present in all training examples.\n",
      "  str(classes[c]))\n",
      "/usr/local/lib/python3.6/dist-packages/sklearn/multiclass.py:76: UserWarning: Label not 56 is present in all training examples.\n",
      "  str(classes[c]))\n",
      "/usr/local/lib/python3.6/dist-packages/sklearn/multiclass.py:76: UserWarning: Label not 57 is present in all training examples.\n",
      "  str(classes[c]))\n",
      "/usr/local/lib/python3.6/dist-packages/sklearn/multiclass.py:76: UserWarning: Label not 58 is present in all training examples.\n",
      "  str(classes[c]))\n",
      "/usr/local/lib/python3.6/dist-packages/sklearn/multiclass.py:76: UserWarning: Label not 59 is present in all training examples.\n",
      "  str(classes[c]))\n",
      "/usr/local/lib/python3.6/dist-packages/sklearn/multiclass.py:76: UserWarning: Label not 60 is present in all training examples.\n",
      "  str(classes[c]))\n",
      "/usr/local/lib/python3.6/dist-packages/sklearn/multiclass.py:76: UserWarning: Label not 61 is present in all training examples.\n",
      "  str(classes[c]))\n",
      "/usr/local/lib/python3.6/dist-packages/sklearn/multiclass.py:76: UserWarning: Label not 62 is present in all training examples.\n",
      "  str(classes[c]))\n",
      "/usr/local/lib/python3.6/dist-packages/sklearn/multiclass.py:76: UserWarning: Label not 63 is present in all training examples.\n",
      "  str(classes[c]))\n",
      "/usr/local/lib/python3.6/dist-packages/sklearn/multiclass.py:76: UserWarning: Label not 64 is present in all training examples.\n",
      "  str(classes[c]))\n",
      "/usr/local/lib/python3.6/dist-packages/sklearn/multiclass.py:76: UserWarning: Label not 65 is present in all training examples.\n",
      "  str(classes[c]))\n",
      "/usr/local/lib/python3.6/dist-packages/sklearn/multiclass.py:76: UserWarning: Label not 67 is present in all training examples.\n",
      "  str(classes[c]))\n",
      "/usr/local/lib/python3.6/dist-packages/sklearn/multiclass.py:76: UserWarning: Label not 68 is present in all training examples.\n",
      "  str(classes[c]))\n",
      "/usr/local/lib/python3.6/dist-packages/sklearn/multiclass.py:76: UserWarning: Label not 69 is present in all training examples.\n",
      "  str(classes[c]))\n",
      "/usr/local/lib/python3.6/dist-packages/sklearn/multiclass.py:76: UserWarning: Label not 70 is present in all training examples.\n",
      "  str(classes[c]))\n",
      "/usr/local/lib/python3.6/dist-packages/sklearn/multiclass.py:76: UserWarning: Label not 71 is present in all training examples.\n",
      "  str(classes[c]))\n",
      "/usr/local/lib/python3.6/dist-packages/sklearn/multiclass.py:76: UserWarning: Label not 72 is present in all training examples.\n",
      "  str(classes[c]))\n",
      "/usr/local/lib/python3.6/dist-packages/sklearn/multiclass.py:76: UserWarning: Label not 73 is present in all training examples.\n",
      "  str(classes[c]))\n",
      "/usr/local/lib/python3.6/dist-packages/sklearn/multiclass.py:76: UserWarning: Label not 74 is present in all training examples.\n",
      "  str(classes[c]))\n",
      "/usr/local/lib/python3.6/dist-packages/sklearn/multiclass.py:76: UserWarning: Label not 75 is present in all training examples.\n",
      "  str(classes[c]))\n",
      "/usr/local/lib/python3.6/dist-packages/sklearn/multiclass.py:76: UserWarning: Label not 76 is present in all training examples.\n",
      "  str(classes[c]))\n",
      "/usr/local/lib/python3.6/dist-packages/sklearn/multiclass.py:76: UserWarning: Label not 77 is present in all training examples.\n",
      "  str(classes[c]))\n",
      "/usr/local/lib/python3.6/dist-packages/sklearn/multiclass.py:76: UserWarning: Label not 78 is present in all training examples.\n",
      "  str(classes[c]))\n",
      "/usr/local/lib/python3.6/dist-packages/sklearn/multiclass.py:76: UserWarning: Label not 79 is present in all training examples.\n",
      "  str(classes[c]))\n",
      "/usr/local/lib/python3.6/dist-packages/sklearn/multiclass.py:76: UserWarning: Label not 80 is present in all training examples.\n",
      "  str(classes[c]))\n",
      "/usr/local/lib/python3.6/dist-packages/sklearn/multiclass.py:76: UserWarning: Label not 81 is present in all training examples.\n",
      "  str(classes[c]))\n",
      "/usr/local/lib/python3.6/dist-packages/sklearn/multiclass.py:76: UserWarning: Label not 82 is present in all training examples.\n",
      "  str(classes[c]))\n",
      "/usr/local/lib/python3.6/dist-packages/sklearn/multiclass.py:76: UserWarning: Label not 83 is present in all training examples.\n",
      "  str(classes[c]))\n",
      "/usr/local/lib/python3.6/dist-packages/sklearn/multiclass.py:76: UserWarning: Label not 84 is present in all training examples.\n",
      "  str(classes[c]))\n",
      "/usr/local/lib/python3.6/dist-packages/sklearn/multiclass.py:76: UserWarning: Label not 85 is present in all training examples.\n",
      "  str(classes[c]))\n",
      "/usr/local/lib/python3.6/dist-packages/sklearn/multiclass.py:76: UserWarning: Label not 86 is present in all training examples.\n",
      "  str(classes[c]))\n",
      "/usr/local/lib/python3.6/dist-packages/sklearn/multiclass.py:76: UserWarning: Label not 87 is present in all training examples.\n",
      "  str(classes[c]))\n",
      "/usr/local/lib/python3.6/dist-packages/sklearn/multiclass.py:76: UserWarning: Label not 88 is present in all training examples.\n",
      "  str(classes[c]))\n",
      "/usr/local/lib/python3.6/dist-packages/sklearn/multiclass.py:76: UserWarning: Label not 89 is present in all training examples.\n",
      "  str(classes[c]))\n",
      "/usr/local/lib/python3.6/dist-packages/sklearn/multiclass.py:76: UserWarning: Label not 90 is present in all training examples.\n",
      "  str(classes[c]))\n",
      "/usr/local/lib/python3.6/dist-packages/sklearn/multiclass.py:76: UserWarning: Label not 91 is present in all training examples.\n",
      "  str(classes[c]))\n",
      "/usr/local/lib/python3.6/dist-packages/sklearn/multiclass.py:76: UserWarning: Label not 92 is present in all training examples.\n",
      "  str(classes[c]))\n",
      "/usr/local/lib/python3.6/dist-packages/sklearn/multiclass.py:76: UserWarning: Label not 93 is present in all training examples.\n",
      "  str(classes[c]))\n",
      "/usr/local/lib/python3.6/dist-packages/sklearn/multiclass.py:76: UserWarning: Label not 94 is present in all training examples.\n",
      "  str(classes[c]))\n",
      "/usr/local/lib/python3.6/dist-packages/sklearn/multiclass.py:76: UserWarning: Label not 95 is present in all training examples.\n",
      "  str(classes[c]))\n",
      "/usr/local/lib/python3.6/dist-packages/sklearn/multiclass.py:76: UserWarning: Label not 96 is present in all training examples.\n",
      "  str(classes[c]))\n",
      "/usr/local/lib/python3.6/dist-packages/sklearn/multiclass.py:76: UserWarning: Label not 97 is present in all training examples.\n",
      "  str(classes[c]))\n",
      "/usr/local/lib/python3.6/dist-packages/sklearn/multiclass.py:76: UserWarning: Label not 98 is present in all training examples.\n",
      "  str(classes[c]))\n",
      "/usr/local/lib/python3.6/dist-packages/sklearn/multiclass.py:76: UserWarning: Label not 99 is present in all training examples.\n",
      "  str(classes[c]))\n",
      "/usr/local/lib/python3.6/dist-packages/sklearn/multiclass.py:76: UserWarning: Label not 0 is present in all training examples.\n",
      "  str(classes[c]))\n",
      "/usr/local/lib/python3.6/dist-packages/sklearn/multiclass.py:76: UserWarning: Label not 1 is present in all training examples.\n",
      "  str(classes[c]))\n",
      "/usr/local/lib/python3.6/dist-packages/sklearn/multiclass.py:76: UserWarning: Label not 2 is present in all training examples.\n",
      "  str(classes[c]))\n",
      "/usr/local/lib/python3.6/dist-packages/sklearn/multiclass.py:76: UserWarning: Label not 3 is present in all training examples.\n",
      "  str(classes[c]))\n",
      "/usr/local/lib/python3.6/dist-packages/sklearn/multiclass.py:76: UserWarning: Label not 4 is present in all training examples.\n",
      "  str(classes[c]))\n",
      "/usr/local/lib/python3.6/dist-packages/sklearn/multiclass.py:76: UserWarning: Label not 5 is present in all training examples.\n",
      "  str(classes[c]))\n",
      "/usr/local/lib/python3.6/dist-packages/sklearn/multiclass.py:76: UserWarning: Label not 6 is present in all training examples.\n",
      "  str(classes[c]))\n",
      "/usr/local/lib/python3.6/dist-packages/sklearn/multiclass.py:76: UserWarning: Label not 7 is present in all training examples.\n",
      "  str(classes[c]))\n",
      "/usr/local/lib/python3.6/dist-packages/sklearn/multiclass.py:76: UserWarning: Label not 8 is present in all training examples.\n",
      "  str(classes[c]))\n",
      "/usr/local/lib/python3.6/dist-packages/sklearn/linear_model/logistic.py:433: FutureWarning: Default solver will be changed to 'lbfgs' in 0.22. Specify a solver to silence this warning.\n",
      "  FutureWarning)\n",
      "/usr/local/lib/python3.6/dist-packages/sklearn/multiclass.py:76: UserWarning: Label not 10 is present in all training examples.\n",
      "  str(classes[c]))\n",
      "/usr/local/lib/python3.6/dist-packages/sklearn/multiclass.py:76: UserWarning: Label not 11 is present in all training examples.\n",
      "  str(classes[c]))\n",
      "/usr/local/lib/python3.6/dist-packages/sklearn/multiclass.py:76: UserWarning: Label not 12 is present in all training examples.\n",
      "  str(classes[c]))\n",
      "/usr/local/lib/python3.6/dist-packages/sklearn/multiclass.py:76: UserWarning: Label not 13 is present in all training examples.\n",
      "  str(classes[c]))\n",
      "/usr/local/lib/python3.6/dist-packages/sklearn/multiclass.py:76: UserWarning: Label not 14 is present in all training examples.\n",
      "  str(classes[c]))\n",
      "/usr/local/lib/python3.6/dist-packages/sklearn/multiclass.py:76: UserWarning: Label not 15 is present in all training examples.\n",
      "  str(classes[c]))\n",
      "/usr/local/lib/python3.6/dist-packages/sklearn/multiclass.py:76: UserWarning: Label not 16 is present in all training examples.\n",
      "  str(classes[c]))\n",
      "/usr/local/lib/python3.6/dist-packages/sklearn/multiclass.py:76: UserWarning: Label not 17 is present in all training examples.\n",
      "  str(classes[c]))\n",
      "/usr/local/lib/python3.6/dist-packages/sklearn/multiclass.py:76: UserWarning: Label not 18 is present in all training examples.\n",
      "  str(classes[c]))\n",
      "/usr/local/lib/python3.6/dist-packages/sklearn/multiclass.py:76: UserWarning: Label not 19 is present in all training examples.\n",
      "  str(classes[c]))\n",
      "/usr/local/lib/python3.6/dist-packages/sklearn/multiclass.py:76: UserWarning: Label not 20 is present in all training examples.\n",
      "  str(classes[c]))\n",
      "/usr/local/lib/python3.6/dist-packages/sklearn/multiclass.py:76: UserWarning: Label not 21 is present in all training examples.\n",
      "  str(classes[c]))\n",
      "/usr/local/lib/python3.6/dist-packages/sklearn/multiclass.py:76: UserWarning: Label not 22 is present in all training examples.\n",
      "  str(classes[c]))\n",
      "/usr/local/lib/python3.6/dist-packages/sklearn/multiclass.py:76: UserWarning: Label not 23 is present in all training examples.\n",
      "  str(classes[c]))\n",
      "/usr/local/lib/python3.6/dist-packages/sklearn/multiclass.py:76: UserWarning: Label not 24 is present in all training examples.\n",
      "  str(classes[c]))\n",
      "/usr/local/lib/python3.6/dist-packages/sklearn/multiclass.py:76: UserWarning: Label not 25 is present in all training examples.\n",
      "  str(classes[c]))\n",
      "/usr/local/lib/python3.6/dist-packages/sklearn/multiclass.py:76: UserWarning: Label not 26 is present in all training examples.\n",
      "  str(classes[c]))\n",
      "/usr/local/lib/python3.6/dist-packages/sklearn/multiclass.py:76: UserWarning: Label not 27 is present in all training examples.\n",
      "  str(classes[c]))\n",
      "/usr/local/lib/python3.6/dist-packages/sklearn/multiclass.py:76: UserWarning: Label not 28 is present in all training examples.\n",
      "  str(classes[c]))\n",
      "/usr/local/lib/python3.6/dist-packages/sklearn/multiclass.py:76: UserWarning: Label not 29 is present in all training examples.\n",
      "  str(classes[c]))\n",
      "/usr/local/lib/python3.6/dist-packages/sklearn/multiclass.py:76: UserWarning: Label not 30 is present in all training examples.\n",
      "  str(classes[c]))\n",
      "/usr/local/lib/python3.6/dist-packages/sklearn/multiclass.py:76: UserWarning: Label not 31 is present in all training examples.\n",
      "  str(classes[c]))\n",
      "/usr/local/lib/python3.6/dist-packages/sklearn/multiclass.py:76: UserWarning: Label not 32 is present in all training examples.\n",
      "  str(classes[c]))\n",
      "/usr/local/lib/python3.6/dist-packages/sklearn/multiclass.py:76: UserWarning: Label not 33 is present in all training examples.\n",
      "  str(classes[c]))\n",
      "/usr/local/lib/python3.6/dist-packages/sklearn/multiclass.py:76: UserWarning: Label not 34 is present in all training examples.\n",
      "  str(classes[c]))\n",
      "/usr/local/lib/python3.6/dist-packages/sklearn/multiclass.py:76: UserWarning: Label not 35 is present in all training examples.\n",
      "  str(classes[c]))\n",
      "/usr/local/lib/python3.6/dist-packages/sklearn/multiclass.py:76: UserWarning: Label not 36 is present in all training examples.\n",
      "  str(classes[c]))\n",
      "/usr/local/lib/python3.6/dist-packages/sklearn/multiclass.py:76: UserWarning: Label not 37 is present in all training examples.\n",
      "  str(classes[c]))\n",
      "/usr/local/lib/python3.6/dist-packages/sklearn/multiclass.py:76: UserWarning: Label not 38 is present in all training examples.\n",
      "  str(classes[c]))\n",
      "/usr/local/lib/python3.6/dist-packages/sklearn/multiclass.py:76: UserWarning: Label not 39 is present in all training examples.\n",
      "  str(classes[c]))\n",
      "/usr/local/lib/python3.6/dist-packages/sklearn/multiclass.py:76: UserWarning: Label not 40 is present in all training examples.\n",
      "  str(classes[c]))\n",
      "/usr/local/lib/python3.6/dist-packages/sklearn/multiclass.py:76: UserWarning: Label not 41 is present in all training examples.\n",
      "  str(classes[c]))\n",
      "/usr/local/lib/python3.6/dist-packages/sklearn/multiclass.py:76: UserWarning: Label not 42 is present in all training examples.\n",
      "  str(classes[c]))\n",
      "/usr/local/lib/python3.6/dist-packages/sklearn/multiclass.py:76: UserWarning: Label not 43 is present in all training examples.\n",
      "  str(classes[c]))\n",
      "/usr/local/lib/python3.6/dist-packages/sklearn/multiclass.py:76: UserWarning: Label not 44 is present in all training examples.\n",
      "  str(classes[c]))\n",
      "/usr/local/lib/python3.6/dist-packages/sklearn/multiclass.py:76: UserWarning: Label not 45 is present in all training examples.\n",
      "  str(classes[c]))\n",
      "/usr/local/lib/python3.6/dist-packages/sklearn/multiclass.py:76: UserWarning: Label not 46 is present in all training examples.\n",
      "  str(classes[c]))\n",
      "/usr/local/lib/python3.6/dist-packages/sklearn/multiclass.py:76: UserWarning: Label not 47 is present in all training examples.\n",
      "  str(classes[c]))\n",
      "/usr/local/lib/python3.6/dist-packages/sklearn/multiclass.py:76: UserWarning: Label not 48 is present in all training examples.\n",
      "  str(classes[c]))\n",
      "/usr/local/lib/python3.6/dist-packages/sklearn/multiclass.py:76: UserWarning: Label not 49 is present in all training examples.\n",
      "  str(classes[c]))\n",
      "/usr/local/lib/python3.6/dist-packages/sklearn/multiclass.py:76: UserWarning: Label not 50 is present in all training examples.\n",
      "  str(classes[c]))\n",
      "/usr/local/lib/python3.6/dist-packages/sklearn/multiclass.py:76: UserWarning: Label not 51 is present in all training examples.\n",
      "  str(classes[c]))\n",
      "/usr/local/lib/python3.6/dist-packages/sklearn/multiclass.py:76: UserWarning: Label not 52 is present in all training examples.\n",
      "  str(classes[c]))\n",
      "/usr/local/lib/python3.6/dist-packages/sklearn/multiclass.py:76: UserWarning: Label not 53 is present in all training examples.\n",
      "  str(classes[c]))\n",
      "/usr/local/lib/python3.6/dist-packages/sklearn/multiclass.py:76: UserWarning: Label not 54 is present in all training examples.\n",
      "  str(classes[c]))\n",
      "/usr/local/lib/python3.6/dist-packages/sklearn/multiclass.py:76: UserWarning: Label not 55 is present in all training examples.\n",
      "  str(classes[c]))\n",
      "/usr/local/lib/python3.6/dist-packages/sklearn/multiclass.py:76: UserWarning: Label not 56 is present in all training examples.\n",
      "  str(classes[c]))\n",
      "/usr/local/lib/python3.6/dist-packages/sklearn/multiclass.py:76: UserWarning: Label not 57 is present in all training examples.\n",
      "  str(classes[c]))\n",
      "/usr/local/lib/python3.6/dist-packages/sklearn/multiclass.py:76: UserWarning: Label not 58 is present in all training examples.\n",
      "  str(classes[c]))\n",
      "/usr/local/lib/python3.6/dist-packages/sklearn/multiclass.py:76: UserWarning: Label not 59 is present in all training examples.\n",
      "  str(classes[c]))\n",
      "/usr/local/lib/python3.6/dist-packages/sklearn/multiclass.py:76: UserWarning: Label not 60 is present in all training examples.\n",
      "  str(classes[c]))\n",
      "/usr/local/lib/python3.6/dist-packages/sklearn/multiclass.py:76: UserWarning: Label not 61 is present in all training examples.\n",
      "  str(classes[c]))\n",
      "/usr/local/lib/python3.6/dist-packages/sklearn/multiclass.py:76: UserWarning: Label not 62 is present in all training examples.\n",
      "  str(classes[c]))\n",
      "/usr/local/lib/python3.6/dist-packages/sklearn/multiclass.py:76: UserWarning: Label not 63 is present in all training examples.\n",
      "  str(classes[c]))\n",
      "/usr/local/lib/python3.6/dist-packages/sklearn/multiclass.py:76: UserWarning: Label not 64 is present in all training examples.\n",
      "  str(classes[c]))\n",
      "/usr/local/lib/python3.6/dist-packages/sklearn/multiclass.py:76: UserWarning: Label not 65 is present in all training examples.\n",
      "  str(classes[c]))\n",
      "/usr/local/lib/python3.6/dist-packages/sklearn/multiclass.py:76: UserWarning: Label not 67 is present in all training examples.\n",
      "  str(classes[c]))\n",
      "/usr/local/lib/python3.6/dist-packages/sklearn/multiclass.py:76: UserWarning: Label not 68 is present in all training examples.\n",
      "  str(classes[c]))\n",
      "/usr/local/lib/python3.6/dist-packages/sklearn/multiclass.py:76: UserWarning: Label not 69 is present in all training examples.\n",
      "  str(classes[c]))\n",
      "/usr/local/lib/python3.6/dist-packages/sklearn/multiclass.py:76: UserWarning: Label not 70 is present in all training examples.\n",
      "  str(classes[c]))\n",
      "/usr/local/lib/python3.6/dist-packages/sklearn/multiclass.py:76: UserWarning: Label not 71 is present in all training examples.\n",
      "  str(classes[c]))\n",
      "/usr/local/lib/python3.6/dist-packages/sklearn/multiclass.py:76: UserWarning: Label not 72 is present in all training examples.\n",
      "  str(classes[c]))\n",
      "/usr/local/lib/python3.6/dist-packages/sklearn/multiclass.py:76: UserWarning: Label not 73 is present in all training examples.\n",
      "  str(classes[c]))\n",
      "/usr/local/lib/python3.6/dist-packages/sklearn/multiclass.py:76: UserWarning: Label not 74 is present in all training examples.\n",
      "  str(classes[c]))\n",
      "/usr/local/lib/python3.6/dist-packages/sklearn/multiclass.py:76: UserWarning: Label not 75 is present in all training examples.\n",
      "  str(classes[c]))\n",
      "/usr/local/lib/python3.6/dist-packages/sklearn/multiclass.py:76: UserWarning: Label not 76 is present in all training examples.\n",
      "  str(classes[c]))\n",
      "/usr/local/lib/python3.6/dist-packages/sklearn/multiclass.py:76: UserWarning: Label not 77 is present in all training examples.\n",
      "  str(classes[c]))\n",
      "/usr/local/lib/python3.6/dist-packages/sklearn/multiclass.py:76: UserWarning: Label not 78 is present in all training examples.\n",
      "  str(classes[c]))\n",
      "/usr/local/lib/python3.6/dist-packages/sklearn/multiclass.py:76: UserWarning: Label not 79 is present in all training examples.\n",
      "  str(classes[c]))\n",
      "/usr/local/lib/python3.6/dist-packages/sklearn/multiclass.py:76: UserWarning: Label not 80 is present in all training examples.\n",
      "  str(classes[c]))\n",
      "/usr/local/lib/python3.6/dist-packages/sklearn/multiclass.py:76: UserWarning: Label not 81 is present in all training examples.\n",
      "  str(classes[c]))\n",
      "/usr/local/lib/python3.6/dist-packages/sklearn/multiclass.py:76: UserWarning: Label not 82 is present in all training examples.\n",
      "  str(classes[c]))\n",
      "/usr/local/lib/python3.6/dist-packages/sklearn/multiclass.py:76: UserWarning: Label not 83 is present in all training examples.\n",
      "  str(classes[c]))\n",
      "/usr/local/lib/python3.6/dist-packages/sklearn/multiclass.py:76: UserWarning: Label not 84 is present in all training examples.\n",
      "  str(classes[c]))\n",
      "/usr/local/lib/python3.6/dist-packages/sklearn/multiclass.py:76: UserWarning: Label not 85 is present in all training examples.\n",
      "  str(classes[c]))\n",
      "/usr/local/lib/python3.6/dist-packages/sklearn/multiclass.py:76: UserWarning: Label not 86 is present in all training examples.\n",
      "  str(classes[c]))\n",
      "/usr/local/lib/python3.6/dist-packages/sklearn/multiclass.py:76: UserWarning: Label not 87 is present in all training examples.\n",
      "  str(classes[c]))\n",
      "/usr/local/lib/python3.6/dist-packages/sklearn/multiclass.py:76: UserWarning: Label not 88 is present in all training examples.\n",
      "  str(classes[c]))\n",
      "/usr/local/lib/python3.6/dist-packages/sklearn/multiclass.py:76: UserWarning: Label not 89 is present in all training examples.\n",
      "  str(classes[c]))\n",
      "/usr/local/lib/python3.6/dist-packages/sklearn/multiclass.py:76: UserWarning: Label not 90 is present in all training examples.\n",
      "  str(classes[c]))\n",
      "/usr/local/lib/python3.6/dist-packages/sklearn/multiclass.py:76: UserWarning: Label not 91 is present in all training examples.\n",
      "  str(classes[c]))\n",
      "/usr/local/lib/python3.6/dist-packages/sklearn/multiclass.py:76: UserWarning: Label not 92 is present in all training examples.\n",
      "  str(classes[c]))\n",
      "/usr/local/lib/python3.6/dist-packages/sklearn/multiclass.py:76: UserWarning: Label not 93 is present in all training examples.\n",
      "  str(classes[c]))\n",
      "/usr/local/lib/python3.6/dist-packages/sklearn/multiclass.py:76: UserWarning: Label not 94 is present in all training examples.\n",
      "  str(classes[c]))\n",
      "/usr/local/lib/python3.6/dist-packages/sklearn/multiclass.py:76: UserWarning: Label not 95 is present in all training examples.\n",
      "  str(classes[c]))\n",
      "/usr/local/lib/python3.6/dist-packages/sklearn/multiclass.py:76: UserWarning: Label not 96 is present in all training examples.\n",
      "  str(classes[c]))\n",
      "/usr/local/lib/python3.6/dist-packages/sklearn/multiclass.py:76: UserWarning: Label not 97 is present in all training examples.\n",
      "  str(classes[c]))\n",
      "/usr/local/lib/python3.6/dist-packages/sklearn/multiclass.py:76: UserWarning: Label not 98 is present in all training examples.\n",
      "  str(classes[c]))\n",
      "/usr/local/lib/python3.6/dist-packages/sklearn/multiclass.py:76: UserWarning: Label not 99 is present in all training examples.\n",
      "  str(classes[c]))\n"
     ]
    }
   ],
   "source": [
    "classifier_mybag = train_classifier(X_train_mybag, y_train)\n",
    "classifier_tfidf = train_classifier(X_train_tfidf, y_train)"
   ]
  },
  {
   "cell_type": "markdown",
   "metadata": {
    "colab_type": "text",
    "id": "ijQZCd9cTGAU"
   },
   "source": [
    "Now you can create predictions for the data. You will need two types of predictions: labels and scores."
   ]
  },
  {
   "cell_type": "code",
   "execution_count": 0,
   "metadata": {
    "colab": {},
    "colab_type": "code",
    "id": "0QT7uWddTGAV"
   },
   "outputs": [],
   "source": [
    "y_val_predicted_labels_mybag = classifier_mybag.predict(X_val_mybag)\n",
    "y_val_predicted_scores_mybag = classifier_mybag.decision_function(X_val_mybag)\n",
    "\n",
    "y_val_predicted_labels_tfidf = classifier_tfidf.predict(X_val_tfidf)\n",
    "y_val_predicted_scores_tfidf = classifier_tfidf.decision_function(X_val_tfidf)"
   ]
  },
  {
   "cell_type": "code",
   "execution_count": 60,
   "metadata": {
    "colab": {
     "base_uri": "https://localhost:8080/",
     "height": 36
    },
    "colab_type": "code",
    "id": "_j4a-psX0x1j",
    "outputId": "435da87c-cb9b-4567-b658-a179c5506747"
   },
   "outputs": [
    {
     "data": {
      "text/plain": [
       "(array([9]),)"
      ]
     },
     "execution_count": 60,
     "metadata": {
      "tags": []
     },
     "output_type": "execute_result"
    }
   ],
   "source": [
    "y_val_predicted_labels_mybag[10].nonzero()"
   ]
  },
  {
   "cell_type": "code",
   "execution_count": 61,
   "metadata": {
    "colab": {
     "base_uri": "https://localhost:8080/",
     "height": 36
    },
    "colab_type": "code",
    "id": "vgm-A08g02Wm",
    "outputId": "260dd97e-a940-4e37-fb23-a7f83799bc99"
   },
   "outputs": [
    {
     "data": {
      "text/plain": [
       "(array([ 9, 66]),)"
      ]
     },
     "execution_count": 61,
     "metadata": {
      "tags": []
     },
     "output_type": "execute_result"
    }
   ],
   "source": [
    "y_val_predicted_labels_tfidf[10].nonzero()"
   ]
  },
  {
   "cell_type": "markdown",
   "metadata": {
    "colab_type": "text",
    "id": "p9n0TEtHTGAj"
   },
   "source": [
    "Now, we would need to compare the results of different predictions, e.g. to see whether TF-IDF transformation helps or to try different regularization techniques in logistic regression. For all these experiments, we need to setup evaluation procedure. "
   ]
  },
  {
   "cell_type": "markdown",
   "metadata": {
    "colab_type": "text",
    "id": "RVqAxDxqTGAk"
   },
   "source": [
    "## Evaluation (10 points)\n",
    "\n",
    "To evaluate the results we will use several classification metrics:\n",
    " - [Accuracy](http://scikit-learn.org/stable/modules/generated/sklearn.metrics.accuracy_score.html)\n",
    " - [F1-score](http://scikit-learn.org/stable/modules/generated/sklearn.metrics.f1_score.html)\n",
    " - [Area under ROC-curve](http://scikit-learn.org/stable/modules/generated/sklearn.metrics.roc_auc_score.html)\n",
    " - [Area under precision-recall curve](http://scikit-learn.org/stable/modules/generated/sklearn.metrics.average_precision_score.html#sklearn.metrics.average_precision_score) \n",
    " \n",
    "Make sure you are familiar with all of them. If you want a refresher, you can click the link to their documentation"
   ]
  },
  {
   "cell_type": "markdown",
   "metadata": {
    "colab_type": "text",
    "id": "_YmNhVsU9K9-"
   },
   "source": [
    "## Import the necessary libraries for the above metrics"
   ]
  },
  {
   "cell_type": "code",
   "execution_count": 0,
   "metadata": {
    "colab": {},
    "colab_type": "code",
    "id": "tBvrkOUYTGAl"
   },
   "outputs": [],
   "source": [
    "from sklearn.metrics import accuracy_score\n",
    "from sklearn.metrics import f1_score\n",
    "from sklearn.metrics import roc_auc_score \n",
    "from sklearn.metrics import average_precision_score\n",
    "from sklearn.metrics import recall_score"
   ]
  },
  {
   "cell_type": "markdown",
   "metadata": {
    "colab_type": "text",
    "id": "vNkYBl_wTGAp"
   },
   "source": [
    "Define the function *print_evaluation_scores* which takes y_val and predicted as input calculates and prints the following output:\n",
    " - *accuracy*\n",
    " - *F1-score - Average = 'weighted'* \n",
    " - *Precision - Average = 'macro'*"
   ]
  },
  {
   "cell_type": "code",
   "execution_count": 0,
   "metadata": {
    "colab": {},
    "colab_type": "code",
    "id": "-4nevWnhTGAq"
   },
   "outputs": [],
   "source": [
    "def print_evaluation_scores(y_val, predicted):\n",
    "  accuracy=accuracy_score(y_val, predicted)\n",
    "  f1_score_weighted=f1_score(y_val, predicted, average='weighted')\n",
    "  precision_macro=average_precision_score(y_val, predicted, average='macro')\n",
    "  print(accuracy,f1_score_weighted,precision_macro,)"
   ]
  },
  {
   "cell_type": "code",
   "execution_count": 64,
   "metadata": {
    "colab": {
     "base_uri": "https://localhost:8080/",
     "height": 334
    },
    "colab_type": "code",
    "id": "G92GIO4dTGAt",
    "outputId": "064073c1-3b82-492a-a154-74eba1897091"
   },
   "outputs": [
    {
     "name": "stdout",
     "output_type": "stream",
     "text": [
      "Bag-of-words\n"
     ]
    },
    {
     "name": "stderr",
     "output_type": "stream",
     "text": [
      "/usr/local/lib/python3.6/dist-packages/sklearn/metrics/classification.py:1143: UndefinedMetricWarning: F-score is ill-defined and being set to 0.0 in labels with no predicted samples.\n",
      "  'precision', 'predicted', average, warn_for)\n",
      "/usr/local/lib/python3.6/dist-packages/sklearn/metrics/classification.py:1145: UndefinedMetricWarning: F-score is ill-defined and being set to 0.0 in labels with no true samples.\n",
      "  'recall', 'true', average, warn_for)\n",
      "/usr/local/lib/python3.6/dist-packages/sklearn/metrics/ranking.py:526: RuntimeWarning: invalid value encountered in true_divide\n",
      "  recall = tps / tps[-1]\n"
     ]
    },
    {
     "name": "stdout",
     "output_type": "stream",
     "text": [
      "0.7228333333333333 0.8203953937968023 nan\n",
      "Tfidf\n"
     ]
    },
    {
     "name": "stderr",
     "output_type": "stream",
     "text": [
      "/usr/local/lib/python3.6/dist-packages/sklearn/metrics/classification.py:1143: UndefinedMetricWarning: F-score is ill-defined and being set to 0.0 in labels with no predicted samples.\n",
      "  'precision', 'predicted', average, warn_for)\n",
      "/usr/local/lib/python3.6/dist-packages/sklearn/metrics/classification.py:1145: UndefinedMetricWarning: F-score is ill-defined and being set to 0.0 in labels with no true samples.\n",
      "  'recall', 'true', average, warn_for)\n",
      "/usr/local/lib/python3.6/dist-packages/sklearn/metrics/ranking.py:526: RuntimeWarning: invalid value encountered in true_divide\n",
      "  recall = tps / tps[-1]\n"
     ]
    },
    {
     "name": "stdout",
     "output_type": "stream",
     "text": [
      "0.29956666666666665 0.37696124290886457 nan\n"
     ]
    }
   ],
   "source": [
    "print('Bag-of-words')\n",
    "print_evaluation_scores(y_val, y_val_predicted_labels_mybag)\n",
    "print('Tfidf')\n",
    "print_evaluation_scores(y_val, y_val_predicted_labels_tfidf)"
   ]
  },
  {
   "cell_type": "markdown",
   "metadata": {
    "colab_type": "text",
    "id": "kT7oso8ZTGAv"
   },
   "source": [
    "You might also want to plot some form of the [ROC curve](http://scikit-learn.org/stable/modules/model_evaluation.html#receiver-operating-characteristic-roc) for the case of multi-label classification. The input parameters for the roc curve are:\n",
    " - true labels\n",
    " - decision functions scores\n",
    " - number of classes"
   ]
  },
  {
   "cell_type": "markdown",
   "metadata": {
    "colab_type": "text",
    "id": "x4hbW3SeBVxz"
   },
   "source": [
    "Import the roc_auc function from the metrics.py file provided"
   ]
  },
  {
   "cell_type": "code",
   "execution_count": 0,
   "metadata": {
    "colab": {},
    "colab_type": "code",
    "id": "RTtAKZJ5MiLa"
   },
   "outputs": [],
   "source": [
    "#from google.colab import files\n",
    "#src = list(files.upload().values())[0]\n",
    "#open('metrics.py','wb').write(src)\n",
    "import metrics"
   ]
  },
  {
   "cell_type": "code",
   "execution_count": 0,
   "metadata": {
    "colab": {},
    "colab_type": "code",
    "id": "G_9M0AI4TGAv"
   },
   "outputs": [],
   "source": [
    "from metrics import roc_auc\n",
    "get_ipython().run_line_magic('matplotlib', 'inline')"
   ]
  },
  {
   "cell_type": "code",
   "execution_count": 67,
   "metadata": {
    "colab": {
     "base_uri": "https://localhost:8080/",
     "height": 352
    },
    "colab_type": "code",
    "id": "sZaymN4uTGA0",
    "outputId": "2bafa6b3-5bdd-403c-e5d1-adecdcb80153"
   },
   "outputs": [
    {
     "name": "stderr",
     "output_type": "stream",
     "text": [
      "/usr/local/lib/python3.6/dist-packages/sklearn/metrics/ranking.py:656: UndefinedMetricWarning: No positive samples in y_true, true positive value should be meaningless\n",
      "  UndefinedMetricWarning)\n"
     ]
    },
    {
     "data": {
      "image/png": "[encoded data removed]",
      "text/plain": [
       "<Figure size 432x288 with 1 Axes>"
      ]
     },
     "metadata": {
      "tags": []
     },
     "output_type": "display_data"
    }
   ],
   "source": [
    "n_classes = len(tagDict)\n",
    "roc_auc(y_val, y_val_predicted_scores_mybag, n_classes)"
   ]
  },
  {
   "cell_type": "code",
   "execution_count": 68,
   "metadata": {
    "colab": {
     "base_uri": "https://localhost:8080/",
     "height": 352
    },
    "colab_type": "code",
    "id": "XwNpUEVLTGA2",
    "outputId": "4d74e0ca-5fea-4198-c7d6-a030a9418529"
   },
   "outputs": [
    {
     "name": "stderr",
     "output_type": "stream",
     "text": [
      "/usr/local/lib/python3.6/dist-packages/sklearn/metrics/ranking.py:656: UndefinedMetricWarning: No positive samples in y_true, true positive value should be meaningless\n",
      "  UndefinedMetricWarning)\n"
     ]
    },
    {
     "data": {
      "image/png": "[encoded data removed]",
      "text/plain": [
       "<Figure size 432x288 with 1 Axes>"
      ]
     },
     "metadata": {
      "tags": []
     },
     "output_type": "display_data"
    }
   ],
   "source": [
    "n_classes = len(tagDict)\n",
    "roc_auc(y_val, y_val_predicted_scores_tfidf, n_classes)"
   ]
  },
  {
   "cell_type": "markdown",
   "metadata": {
    "colab_type": "text",
    "id": "9S3Ddz7LTGA3"
   },
   "source": [
    "## Task 4 (MultilabelClassification) - Optional \n",
    "** Once we have the evaluation set up, we suggest that you experiment a bit with training your classifiers. We will use *F1-score weighted* as an evaluation metric. Our recommendation:\n",
    "- compare the quality of the bag-of-words and TF-IDF approaches and chose one of them.\n",
    "- for the chosen one, try *L1* and *L2*-regularization techniques in Logistic Regression with different coefficients (e.g. C equal to 0.1, 1, 10, 100).\n",
    "\n"
   ]
  },
  {
   "cell_type": "code",
   "execution_count": 0,
   "metadata": {
    "colab": {},
    "colab_type": "code",
    "id": "DKH2zXdnOjYc"
   },
   "outputs": [],
   "source": [
    "def train_classifier(X_train, y_train):\n",
    "  model=OneVsRestClassifier(LogisticRegression(penalty=\"l1\",C=1)).fit(X_train,y_train)\n",
    "  return model"
   ]
  },
  {
   "cell_type": "code",
   "execution_count": 70,
   "metadata": {
    "colab": {
     "base_uri": "https://localhost:8080/",
     "height": 3713
    },
    "colab_type": "code",
    "id": "s2TYsrT7OqRe",
    "outputId": "efccfb42-4785-4ace-aeba-1588591aac25"
   },
   "outputs": [
    {
     "name": "stderr",
     "output_type": "stream",
     "text": [
      "/usr/local/lib/python3.6/dist-packages/sklearn/multiclass.py:76: UserWarning: Label not 0 is present in all training examples.\n",
      "  str(classes[c]))\n",
      "/usr/local/lib/python3.6/dist-packages/sklearn/multiclass.py:76: UserWarning: Label not 1 is present in all training examples.\n",
      "  str(classes[c]))\n",
      "/usr/local/lib/python3.6/dist-packages/sklearn/multiclass.py:76: UserWarning: Label not 2 is present in all training examples.\n",
      "  str(classes[c]))\n",
      "/usr/local/lib/python3.6/dist-packages/sklearn/multiclass.py:76: UserWarning: Label not 3 is present in all training examples.\n",
      "  str(classes[c]))\n",
      "/usr/local/lib/python3.6/dist-packages/sklearn/multiclass.py:76: UserWarning: Label not 4 is present in all training examples.\n",
      "  str(classes[c]))\n",
      "/usr/local/lib/python3.6/dist-packages/sklearn/multiclass.py:76: UserWarning: Label not 5 is present in all training examples.\n",
      "  str(classes[c]))\n",
      "/usr/local/lib/python3.6/dist-packages/sklearn/multiclass.py:76: UserWarning: Label not 6 is present in all training examples.\n",
      "  str(classes[c]))\n",
      "/usr/local/lib/python3.6/dist-packages/sklearn/multiclass.py:76: UserWarning: Label not 7 is present in all training examples.\n",
      "  str(classes[c]))\n",
      "/usr/local/lib/python3.6/dist-packages/sklearn/multiclass.py:76: UserWarning: Label not 8 is present in all training examples.\n",
      "  str(classes[c]))\n",
      "/usr/local/lib/python3.6/dist-packages/sklearn/linear_model/logistic.py:433: FutureWarning: Default solver will be changed to 'lbfgs' in 0.22. Specify a solver to silence this warning.\n",
      "  FutureWarning)\n",
      "/usr/local/lib/python3.6/dist-packages/sklearn/multiclass.py:76: UserWarning: Label not 10 is present in all training examples.\n",
      "  str(classes[c]))\n",
      "/usr/local/lib/python3.6/dist-packages/sklearn/multiclass.py:76: UserWarning: Label not 11 is present in all training examples.\n",
      "  str(classes[c]))\n",
      "/usr/local/lib/python3.6/dist-packages/sklearn/multiclass.py:76: UserWarning: Label not 12 is present in all training examples.\n",
      "  str(classes[c]))\n",
      "/usr/local/lib/python3.6/dist-packages/sklearn/multiclass.py:76: UserWarning: Label not 13 is present in all training examples.\n",
      "  str(classes[c]))\n",
      "/usr/local/lib/python3.6/dist-packages/sklearn/multiclass.py:76: UserWarning: Label not 14 is present in all training examples.\n",
      "  str(classes[c]))\n",
      "/usr/local/lib/python3.6/dist-packages/sklearn/multiclass.py:76: UserWarning: Label not 15 is present in all training examples.\n",
      "  str(classes[c]))\n",
      "/usr/local/lib/python3.6/dist-packages/sklearn/multiclass.py:76: UserWarning: Label not 16 is present in all training examples.\n",
      "  str(classes[c]))\n",
      "/usr/local/lib/python3.6/dist-packages/sklearn/multiclass.py:76: UserWarning: Label not 17 is present in all training examples.\n",
      "  str(classes[c]))\n",
      "/usr/local/lib/python3.6/dist-packages/sklearn/multiclass.py:76: UserWarning: Label not 18 is present in all training examples.\n",
      "  str(classes[c]))\n",
      "/usr/local/lib/python3.6/dist-packages/sklearn/multiclass.py:76: UserWarning: Label not 19 is present in all training examples.\n",
      "  str(classes[c]))\n",
      "/usr/local/lib/python3.6/dist-packages/sklearn/multiclass.py:76: UserWarning: Label not 20 is present in all training examples.\n",
      "  str(classes[c]))\n",
      "/usr/local/lib/python3.6/dist-packages/sklearn/multiclass.py:76: UserWarning: Label not 21 is present in all training examples.\n",
      "  str(classes[c]))\n",
      "/usr/local/lib/python3.6/dist-packages/sklearn/multiclass.py:76: UserWarning: Label not 22 is present in all training examples.\n",
      "  str(classes[c]))\n",
      "/usr/local/lib/python3.6/dist-packages/sklearn/multiclass.py:76: UserWarning: Label not 23 is present in all training examples.\n",
      "  str(classes[c]))\n",
      "/usr/local/lib/python3.6/dist-packages/sklearn/multiclass.py:76: UserWarning: Label not 24 is present in all training examples.\n",
      "  str(classes[c]))\n",
      "/usr/local/lib/python3.6/dist-packages/sklearn/multiclass.py:76: UserWarning: Label not 25 is present in all training examples.\n",
      "  str(classes[c]))\n",
      "/usr/local/lib/python3.6/dist-packages/sklearn/multiclass.py:76: UserWarning: Label not 26 is present in all training examples.\n",
      "  str(classes[c]))\n",
      "/usr/local/lib/python3.6/dist-packages/sklearn/multiclass.py:76: UserWarning: Label not 27 is present in all training examples.\n",
      "  str(classes[c]))\n",
      "/usr/local/lib/python3.6/dist-packages/sklearn/multiclass.py:76: UserWarning: Label not 28 is present in all training examples.\n",
      "  str(classes[c]))\n",
      "/usr/local/lib/python3.6/dist-packages/sklearn/multiclass.py:76: UserWarning: Label not 29 is present in all training examples.\n",
      "  str(classes[c]))\n",
      "/usr/local/lib/python3.6/dist-packages/sklearn/multiclass.py:76: UserWarning: Label not 30 is present in all training examples.\n",
      "  str(classes[c]))\n",
      "/usr/local/lib/python3.6/dist-packages/sklearn/multiclass.py:76: UserWarning: Label not 31 is present in all training examples.\n",
      "  str(classes[c]))\n",
      "/usr/local/lib/python3.6/dist-packages/sklearn/multiclass.py:76: UserWarning: Label not 32 is present in all training examples.\n",
      "  str(classes[c]))\n",
      "/usr/local/lib/python3.6/dist-packages/sklearn/multiclass.py:76: UserWarning: Label not 33 is present in all training examples.\n",
      "  str(classes[c]))\n",
      "/usr/local/lib/python3.6/dist-packages/sklearn/multiclass.py:76: UserWarning: Label not 34 is present in all training examples.\n",
      "  str(classes[c]))\n",
      "/usr/local/lib/python3.6/dist-packages/sklearn/multiclass.py:76: UserWarning: Label not 35 is present in all training examples.\n",
      "  str(classes[c]))\n",
      "/usr/local/lib/python3.6/dist-packages/sklearn/multiclass.py:76: UserWarning: Label not 36 is present in all training examples.\n",
      "  str(classes[c]))\n",
      "/usr/local/lib/python3.6/dist-packages/sklearn/multiclass.py:76: UserWarning: Label not 37 is present in all training examples.\n",
      "  str(classes[c]))\n",
      "/usr/local/lib/python3.6/dist-packages/sklearn/multiclass.py:76: UserWarning: Label not 38 is present in all training examples.\n",
      "  str(classes[c]))\n",
      "/usr/local/lib/python3.6/dist-packages/sklearn/multiclass.py:76: UserWarning: Label not 39 is present in all training examples.\n",
      "  str(classes[c]))\n",
      "/usr/local/lib/python3.6/dist-packages/sklearn/multiclass.py:76: UserWarning: Label not 40 is present in all training examples.\n",
      "  str(classes[c]))\n",
      "/usr/local/lib/python3.6/dist-packages/sklearn/multiclass.py:76: UserWarning: Label not 41 is present in all training examples.\n",
      "  str(classes[c]))\n",
      "/usr/local/lib/python3.6/dist-packages/sklearn/multiclass.py:76: UserWarning: Label not 42 is present in all training examples.\n",
      "  str(classes[c]))\n",
      "/usr/local/lib/python3.6/dist-packages/sklearn/multiclass.py:76: UserWarning: Label not 43 is present in all training examples.\n",
      "  str(classes[c]))\n",
      "/usr/local/lib/python3.6/dist-packages/sklearn/multiclass.py:76: UserWarning: Label not 44 is present in all training examples.\n",
      "  str(classes[c]))\n",
      "/usr/local/lib/python3.6/dist-packages/sklearn/multiclass.py:76: UserWarning: Label not 45 is present in all training examples.\n",
      "  str(classes[c]))\n",
      "/usr/local/lib/python3.6/dist-packages/sklearn/multiclass.py:76: UserWarning: Label not 46 is present in all training examples.\n",
      "  str(classes[c]))\n",
      "/usr/local/lib/python3.6/dist-packages/sklearn/multiclass.py:76: UserWarning: Label not 47 is present in all training examples.\n",
      "  str(classes[c]))\n",
      "/usr/local/lib/python3.6/dist-packages/sklearn/multiclass.py:76: UserWarning: Label not 48 is present in all training examples.\n",
      "  str(classes[c]))\n",
      "/usr/local/lib/python3.6/dist-packages/sklearn/multiclass.py:76: UserWarning: Label not 49 is present in all training examples.\n",
      "  str(classes[c]))\n",
      "/usr/local/lib/python3.6/dist-packages/sklearn/multiclass.py:76: UserWarning: Label not 50 is present in all training examples.\n",
      "  str(classes[c]))\n",
      "/usr/local/lib/python3.6/dist-packages/sklearn/multiclass.py:76: UserWarning: Label not 51 is present in all training examples.\n",
      "  str(classes[c]))\n",
      "/usr/local/lib/python3.6/dist-packages/sklearn/multiclass.py:76: UserWarning: Label not 52 is present in all training examples.\n",
      "  str(classes[c]))\n",
      "/usr/local/lib/python3.6/dist-packages/sklearn/multiclass.py:76: UserWarning: Label not 53 is present in all training examples.\n",
      "  str(classes[c]))\n",
      "/usr/local/lib/python3.6/dist-packages/sklearn/multiclass.py:76: UserWarning: Label not 54 is present in all training examples.\n",
      "  str(classes[c]))\n",
      "/usr/local/lib/python3.6/dist-packages/sklearn/multiclass.py:76: UserWarning: Label not 55 is present in all training examples.\n",
      "  str(classes[c]))\n",
      "/usr/local/lib/python3.6/dist-packages/sklearn/multiclass.py:76: UserWarning: Label not 56 is present in all training examples.\n",
      "  str(classes[c]))\n",
      "/usr/local/lib/python3.6/dist-packages/sklearn/multiclass.py:76: UserWarning: Label not 57 is present in all training examples.\n",
      "  str(classes[c]))\n",
      "/usr/local/lib/python3.6/dist-packages/sklearn/multiclass.py:76: UserWarning: Label not 58 is present in all training examples.\n",
      "  str(classes[c]))\n",
      "/usr/local/lib/python3.6/dist-packages/sklearn/multiclass.py:76: UserWarning: Label not 59 is present in all training examples.\n",
      "  str(classes[c]))\n",
      "/usr/local/lib/python3.6/dist-packages/sklearn/multiclass.py:76: UserWarning: Label not 60 is present in all training examples.\n",
      "  str(classes[c]))\n",
      "/usr/local/lib/python3.6/dist-packages/sklearn/multiclass.py:76: UserWarning: Label not 61 is present in all training examples.\n",
      "  str(classes[c]))\n",
      "/usr/local/lib/python3.6/dist-packages/sklearn/multiclass.py:76: UserWarning: Label not 62 is present in all training examples.\n",
      "  str(classes[c]))\n",
      "/usr/local/lib/python3.6/dist-packages/sklearn/multiclass.py:76: UserWarning: Label not 63 is present in all training examples.\n",
      "  str(classes[c]))\n",
      "/usr/local/lib/python3.6/dist-packages/sklearn/multiclass.py:76: UserWarning: Label not 64 is present in all training examples.\n",
      "  str(classes[c]))\n",
      "/usr/local/lib/python3.6/dist-packages/sklearn/multiclass.py:76: UserWarning: Label not 65 is present in all training examples.\n",
      "  str(classes[c]))\n",
      "/usr/local/lib/python3.6/dist-packages/sklearn/multiclass.py:76: UserWarning: Label not 67 is present in all training examples.\n",
      "  str(classes[c]))\n",
      "/usr/local/lib/python3.6/dist-packages/sklearn/multiclass.py:76: UserWarning: Label not 68 is present in all training examples.\n",
      "  str(classes[c]))\n",
      "/usr/local/lib/python3.6/dist-packages/sklearn/multiclass.py:76: UserWarning: Label not 69 is present in all training examples.\n",
      "  str(classes[c]))\n",
      "/usr/local/lib/python3.6/dist-packages/sklearn/multiclass.py:76: UserWarning: Label not 70 is present in all training examples.\n",
      "  str(classes[c]))\n",
      "/usr/local/lib/python3.6/dist-packages/sklearn/multiclass.py:76: UserWarning: Label not 71 is present in all training examples.\n",
      "  str(classes[c]))\n",
      "/usr/local/lib/python3.6/dist-packages/sklearn/multiclass.py:76: UserWarning: Label not 72 is present in all training examples.\n",
      "  str(classes[c]))\n",
      "/usr/local/lib/python3.6/dist-packages/sklearn/multiclass.py:76: UserWarning: Label not 73 is present in all training examples.\n",
      "  str(classes[c]))\n",
      "/usr/local/lib/python3.6/dist-packages/sklearn/multiclass.py:76: UserWarning: Label not 74 is present in all training examples.\n",
      "  str(classes[c]))\n",
      "/usr/local/lib/python3.6/dist-packages/sklearn/multiclass.py:76: UserWarning: Label not 75 is present in all training examples.\n",
      "  str(classes[c]))\n",
      "/usr/local/lib/python3.6/dist-packages/sklearn/multiclass.py:76: UserWarning: Label not 76 is present in all training examples.\n",
      "  str(classes[c]))\n",
      "/usr/local/lib/python3.6/dist-packages/sklearn/multiclass.py:76: UserWarning: Label not 77 is present in all training examples.\n",
      "  str(classes[c]))\n",
      "/usr/local/lib/python3.6/dist-packages/sklearn/multiclass.py:76: UserWarning: Label not 78 is present in all training examples.\n",
      "  str(classes[c]))\n",
      "/usr/local/lib/python3.6/dist-packages/sklearn/multiclass.py:76: UserWarning: Label not 79 is present in all training examples.\n",
      "  str(classes[c]))\n",
      "/usr/local/lib/python3.6/dist-packages/sklearn/multiclass.py:76: UserWarning: Label not 80 is present in all training examples.\n",
      "  str(classes[c]))\n",
      "/usr/local/lib/python3.6/dist-packages/sklearn/multiclass.py:76: UserWarning: Label not 81 is present in all training examples.\n",
      "  str(classes[c]))\n",
      "/usr/local/lib/python3.6/dist-packages/sklearn/multiclass.py:76: UserWarning: Label not 82 is present in all training examples.\n",
      "  str(classes[c]))\n",
      "/usr/local/lib/python3.6/dist-packages/sklearn/multiclass.py:76: UserWarning: Label not 83 is present in all training examples.\n",
      "  str(classes[c]))\n",
      "/usr/local/lib/python3.6/dist-packages/sklearn/multiclass.py:76: UserWarning: Label not 84 is present in all training examples.\n",
      "  str(classes[c]))\n",
      "/usr/local/lib/python3.6/dist-packages/sklearn/multiclass.py:76: UserWarning: Label not 85 is present in all training examples.\n",
      "  str(classes[c]))\n",
      "/usr/local/lib/python3.6/dist-packages/sklearn/multiclass.py:76: UserWarning: Label not 86 is present in all training examples.\n",
      "  str(classes[c]))\n",
      "/usr/local/lib/python3.6/dist-packages/sklearn/multiclass.py:76: UserWarning: Label not 87 is present in all training examples.\n",
      "  str(classes[c]))\n",
      "/usr/local/lib/python3.6/dist-packages/sklearn/multiclass.py:76: UserWarning: Label not 88 is present in all training examples.\n",
      "  str(classes[c]))\n",
      "/usr/local/lib/python3.6/dist-packages/sklearn/multiclass.py:76: UserWarning: Label not 89 is present in all training examples.\n",
      "  str(classes[c]))\n",
      "/usr/local/lib/python3.6/dist-packages/sklearn/multiclass.py:76: UserWarning: Label not 90 is present in all training examples.\n",
      "  str(classes[c]))\n",
      "/usr/local/lib/python3.6/dist-packages/sklearn/multiclass.py:76: UserWarning: Label not 91 is present in all training examples.\n",
      "  str(classes[c]))\n",
      "/usr/local/lib/python3.6/dist-packages/sklearn/multiclass.py:76: UserWarning: Label not 92 is present in all training examples.\n",
      "  str(classes[c]))\n",
      "/usr/local/lib/python3.6/dist-packages/sklearn/multiclass.py:76: UserWarning: Label not 93 is present in all training examples.\n",
      "  str(classes[c]))\n",
      "/usr/local/lib/python3.6/dist-packages/sklearn/multiclass.py:76: UserWarning: Label not 94 is present in all training examples.\n",
      "  str(classes[c]))\n",
      "/usr/local/lib/python3.6/dist-packages/sklearn/multiclass.py:76: UserWarning: Label not 95 is present in all training examples.\n",
      "  str(classes[c]))\n",
      "/usr/local/lib/python3.6/dist-packages/sklearn/multiclass.py:76: UserWarning: Label not 96 is present in all training examples.\n",
      "  str(classes[c]))\n",
      "/usr/local/lib/python3.6/dist-packages/sklearn/multiclass.py:76: UserWarning: Label not 97 is present in all training examples.\n",
      "  str(classes[c]))\n",
      "/usr/local/lib/python3.6/dist-packages/sklearn/multiclass.py:76: UserWarning: Label not 98 is present in all training examples.\n",
      "  str(classes[c]))\n",
      "/usr/local/lib/python3.6/dist-packages/sklearn/multiclass.py:76: UserWarning: Label not 99 is present in all training examples.\n",
      "  str(classes[c]))\n"
     ]
    }
   ],
   "source": [
    "classifier_mybag = train_classifier(X_train_mybag, y_train)\n",
    "y_val_predicted_labels_mybag = classifier_mybag.predict(X_val_mybag)"
   ]
  },
  {
   "cell_type": "markdown",
   "metadata": {
    "colab_type": "text",
    "id": "mdqTO269TGA8"
   },
   "source": [
    "When you are happy with the quality, create predictions for *test* set."
   ]
  },
  {
   "cell_type": "code",
   "execution_count": 71,
   "metadata": {
    "colab": {
     "base_uri": "https://localhost:8080/",
     "height": 167
    },
    "colab_type": "code",
    "id": "Ers40KuOTGA4",
    "outputId": "1eff0a44-161a-45d7-95a2-459698718788"
   },
   "outputs": [
    {
     "name": "stderr",
     "output_type": "stream",
     "text": [
      "/usr/local/lib/python3.6/dist-packages/sklearn/metrics/classification.py:1143: UndefinedMetricWarning: F-score is ill-defined and being set to 0.0 in labels with no predicted samples.\n",
      "  'precision', 'predicted', average, warn_for)\n",
      "/usr/local/lib/python3.6/dist-packages/sklearn/metrics/classification.py:1145: UndefinedMetricWarning: F-score is ill-defined and being set to 0.0 in labels with no true samples.\n",
      "  'recall', 'true', average, warn_for)\n",
      "/usr/local/lib/python3.6/dist-packages/sklearn/metrics/ranking.py:526: RuntimeWarning: invalid value encountered in true_divide\n",
      "  recall = tps / tps[-1]\n"
     ]
    },
    {
     "name": "stdout",
     "output_type": "stream",
     "text": [
      "0.7227 0.8203516922170606 nan\n"
     ]
    }
   ],
   "source": [
    "print_evaluation_scores(y_val, y_val_predicted_labels_mybag)\n",
    "test_predictions = classifier_mybag.predict(X_test_mybag)\n",
    "test_pred_inversed = mlb.inverse_transform(test_predictions)"
   ]
  },
  {
   "cell_type": "code",
   "execution_count": 72,
   "metadata": {
    "colab": {
     "base_uri": "https://localhost:8080/",
     "height": 36
    },
    "colab_type": "code",
    "id": "M51F10f9TGBB",
    "outputId": "99924acf-9fa0-40ca-99fb-7c65871dde91"
   },
   "outputs": [
    {
     "name": "stdout",
     "output_type": "stream",
     "text": [
      "(array([ 9, 66]),)\n"
     ]
    }
   ],
   "source": [
    "print(test_predictions[10].nonzero())"
   ]
  },
  {
   "cell_type": "code",
   "execution_count": 73,
   "metadata": {
    "colab": {
     "base_uri": "https://localhost:8080/",
     "height": 36
    },
    "colab_type": "code",
    "id": "EtD9gWe6PZtl",
    "outputId": "e592cdd2-c19a-429c-d765-c6c6690ec8a6"
   },
   "outputs": [
    {
     "data": {
      "text/plain": [
       "'trying get sql query dynamic jquery'"
      ]
     },
     "execution_count": 73,
     "metadata": {
      "tags": []
     },
     "output_type": "execute_result"
    }
   ],
   "source": [
    "X_test[10]"
   ]
  },
  {
   "cell_type": "code",
   "execution_count": 75,
   "metadata": {
    "colab": {
     "base_uri": "https://localhost:8080/",
     "height": 36
    },
    "colab_type": "code",
    "id": "BkJFURAxQEuL",
    "outputId": "f5a0996f-53e6-4deb-8e29-87879c4885ee"
   },
   "outputs": [
    {
     "name": "stdout",
     "output_type": "stream",
     "text": [
      "asp.net facebook\n"
     ]
    }
   ],
   "source": [
    "print(list(tagDict)[9],list(tagDict)[66])"
   ]
  },
  {
   "cell_type": "code",
   "execution_count": 0,
   "metadata": {
    "colab": {},
    "colab_type": "code",
    "id": "lWdAgbSMQJpg"
   },
   "outputs": [],
   "source": []
  }
 ],
 "metadata": {
  "accelerator": "GPU",
  "colab": {
   "collapsed_sections": [],
   "name": "Stats_NLP_Project_Questions.ipynb",
   "provenance": [],
   "version": "0.3.2"
  },
  "kernelspec": {
   "display_name": "Python 3",
   "language": "python",
   "name": "python3"
  },
  "language_info": {
   "codemirror_mode": {
    "name": "ipython",
    "version": 3
   },
   "file_extension": ".py",
   "mimetype": "text/x-python",
   "name": "python",
   "nbconvert_exporter": "python",
   "pygments_lexer": "ipython3",
   "version": "3.6.7"
  }
 },
 "nbformat": 4,
 "nbformat_minor": 1
}
